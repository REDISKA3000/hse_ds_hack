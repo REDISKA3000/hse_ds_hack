{
 "cells": [
  {
   "cell_type": "code",
   "execution_count": 380,
   "id": "d4ee1d39",
   "metadata": {
    "cellId": "ewbdumvasrh4crjnqzdack"
   },
   "outputs": [
    {
     "name": "stdout",
     "output_type": "stream",
     "text": [
      "Defaulting to user installation because normal site-packages is not writeable\n",
      "Requirement already satisfied: razdel in /home/jupyter/.local/lib/python3.8/site-packages (0.5.0)\n",
      "\u001b[33mWARNING: You are using pip version 21.3.1; however, version 23.0.1 is available.\n",
      "You should consider upgrading via the '/usr/local/bin/python3 -m pip install --upgrade pip' command.\u001b[0m\n",
      "Defaulting to user installation because normal site-packages is not writeable\n",
      "Requirement already satisfied: pymystem3 in /home/jupyter/.local/lib/python3.8/site-packages (0.2.0)\n",
      "Requirement already satisfied: requests in /kernel/lib/python3.8/site-packages (from pymystem3) (2.28.2)\n",
      "Requirement already satisfied: idna<4,>=2.5 in /kernel/lib/python3.8/site-packages (from requests->pymystem3) (3.4)\n",
      "Requirement already satisfied: urllib3<1.27,>=1.21.1 in /kernel/lib/python3.8/site-packages (from requests->pymystem3) (1.26.15)\n",
      "Requirement already satisfied: charset-normalizer<4,>=2 in /kernel/lib/python3.8/site-packages (from requests->pymystem3) (3.1.0)\n",
      "Requirement already satisfied: certifi>=2017.4.17 in /kernel/lib/python3.8/site-packages (from requests->pymystem3) (2022.12.7)\n",
      "\u001b[33mWARNING: You are using pip version 21.3.1; however, version 23.0.1 is available.\n",
      "You should consider upgrading via the '/usr/local/bin/python3 -m pip install --upgrade pip' command.\u001b[0m\n",
      "Defaulting to user installation because normal site-packages is not writeable\n",
      "Requirement already satisfied: natasha in /home/jupyter/.local/lib/python3.8/site-packages (1.5.0)\n",
      "Requirement already satisfied: pymorphy2 in /usr/local/lib/python3.8/dist-packages (from natasha) (0.9.1)\n",
      "Requirement already satisfied: ipymarkup>=0.8.0 in /home/jupyter/.local/lib/python3.8/site-packages (from natasha) (0.9.0)\n",
      "Requirement already satisfied: razdel>=0.5.0 in /home/jupyter/.local/lib/python3.8/site-packages (from natasha) (0.5.0)\n",
      "Requirement already satisfied: navec>=0.9.0 in /home/jupyter/.local/lib/python3.8/site-packages (from natasha) (0.10.0)\n",
      "Requirement already satisfied: yargy>=0.14.0 in /home/jupyter/.local/lib/python3.8/site-packages (from natasha) (0.15.1)\n",
      "Requirement already satisfied: slovnet>=0.6.0 in /home/jupyter/.local/lib/python3.8/site-packages (from natasha) (0.6.0)\n",
      "Requirement already satisfied: intervaltree>=3 in /home/jupyter/.local/lib/python3.8/site-packages (from ipymarkup>=0.8.0->natasha) (3.1.0)\n",
      "Requirement already satisfied: numpy in /usr/local/lib/python3.8/dist-packages (from navec>=0.9.0->natasha) (1.19.2)\n",
      "Requirement already satisfied: pymorphy2-dicts-ru<3.0,>=2.4 in /usr/local/lib/python3.8/dist-packages (from pymorphy2->natasha) (2.4.417127.4579844)\n",
      "Requirement already satisfied: docopt>=0.6 in /usr/local/lib/python3.8/dist-packages (from pymorphy2->natasha) (0.6.2)\n",
      "Requirement already satisfied: dawg-python>=0.7.1 in /usr/local/lib/python3.8/dist-packages (from pymorphy2->natasha) (0.7.2)\n",
      "Requirement already satisfied: sortedcontainers<3.0,>=2.0 in /home/jupyter/.local/lib/python3.8/site-packages (from intervaltree>=3->ipymarkup>=0.8.0->natasha) (2.4.0)\n",
      "\u001b[33mWARNING: You are using pip version 21.3.1; however, version 23.0.1 is available.\n",
      "You should consider upgrading via the '/usr/local/bin/python3 -m pip install --upgrade pip' command.\u001b[0m\n"
     ]
    }
   ],
   "source": [
    "%pip install razdel\n",
    "%pip install pymystem3\n",
    "%pip install natasha"
   ]
  },
  {
   "cell_type": "code",
   "execution_count": 488,
   "id": "3f3cb25a",
   "metadata": {
    "cellId": "lprneobf4ajxiirfjxbns"
   },
   "outputs": [
    {
     "name": "stdout",
     "output_type": "stream",
     "text": [
      "Defaulting to user installation because normal site-packages is not writeable\n",
      "Collecting seaborn\n",
      "  Downloading seaborn-0.12.2-py3-none-any.whl (293 kB)\n",
      "     |████████████████████████████████| 293 kB 1.7 MB/s            \n",
      "\u001b[?25hRequirement already satisfied: numpy!=1.24.0,>=1.17 in /usr/local/lib/python3.8/dist-packages (from seaborn) (1.19.2)\n",
      "Requirement already satisfied: matplotlib!=3.6.1,>=3.1 in /usr/local/lib/python3.8/dist-packages (from seaborn) (3.1.3)\n",
      "Requirement already satisfied: pandas>=0.25 in /usr/local/lib/python3.8/dist-packages (from seaborn) (0.25.3)\n",
      "Requirement already satisfied: python-dateutil>=2.1 in /kernel/lib/python3.8/site-packages (from matplotlib!=3.6.1,>=3.1->seaborn) (2.8.2)\n",
      "Requirement already satisfied: kiwisolver>=1.0.1 in /kernel/lib/python3.8/site-packages (from matplotlib!=3.6.1,>=3.1->seaborn) (1.4.4)\n",
      "Requirement already satisfied: pyparsing!=2.0.4,!=2.1.2,!=2.1.6,>=2.0.1 in /kernel/lib/python3.8/site-packages (from matplotlib!=3.6.1,>=3.1->seaborn) (2.4.7)\n",
      "Requirement already satisfied: cycler>=0.10 in /kernel/lib/python3.8/site-packages (from matplotlib!=3.6.1,>=3.1->seaborn) (0.11.0)\n",
      "Requirement already satisfied: pytz>=2017.2 in /usr/local/lib/python3.8/dist-packages (from pandas>=0.25->seaborn) (2021.3)\n",
      "Requirement already satisfied: six>=1.5 in /kernel/lib/python3.8/site-packages (from python-dateutil>=2.1->matplotlib!=3.6.1,>=3.1->seaborn) (1.16.0)\n",
      "Installing collected packages: seaborn\n",
      "Successfully installed seaborn-0.12.2\n",
      "\u001b[33mWARNING: You are using pip version 21.3.1; however, version 23.0.1 is available.\n",
      "You should consider upgrading via the '/usr/local/bin/python3 -m pip install --upgrade pip' command.\u001b[0m\n"
     ]
    }
   ],
   "source": [
    "%pip install seaborn"
   ]
  },
  {
   "cell_type": "markdown",
   "id": "32f1a7b1",
   "metadata": {
    "cellId": "8k3wzkiu3lqqomc6uqxvbs"
   },
   "source": [
    "# Подгрузка библиотек и датасета"
   ]
  },
  {
   "cell_type": "code",
   "execution_count": 489,
   "id": "9a55f41a",
   "metadata": {
    "cellId": "1lykrmuk8n4wv6re8x3bw"
   },
   "outputs": [],
   "source": [
    "import pandas as pd\n",
    "from razdel import tokenize, sentenize\n",
    "import matplotlib as plt\n",
    "from sklearn.preprocessing import LabelEncoder\n",
    "import numpy as np\n",
    "import seaborn as sns"
   ]
  },
  {
   "cell_type": "code",
   "execution_count": 306,
   "id": "024646a7",
   "metadata": {
    "cellId": "77hgl6hgolwc8h58o0iydl"
   },
   "outputs": [],
   "source": [
    "data = pd.read_csv(\"/home/jupyter/mnt/s3/newbacketttt/train.csv\")"
   ]
  },
  {
   "cell_type": "code",
   "execution_count": 307,
   "id": "1bc027ce",
   "metadata": {
    "cellId": "rw838mh4l33kmccr833ux"
   },
   "outputs": [],
   "source": [
    "data = data.rename(columns={\"Unnamed: 0\": \"ID\"})"
   ]
  },
  {
   "cell_type": "markdown",
   "id": "df70db81",
   "metadata": {
    "cellId": "llnpckhouroivan2dcjwd"
   },
   "source": [
    "# Проверка датасета"
   ]
  },
  {
   "cell_type": "code",
   "execution_count": 381,
   "id": "beaad119",
   "metadata": {
    "cellId": "c127d6jnze8katcq1bhrv"
   },
   "outputs": [
    {
     "data": {
      "text/html": [
       "<div>\n",
       "<style scoped>\n",
       "    .dataframe tbody tr th:only-of-type {\n",
       "        vertical-align: middle;\n",
       "    }\n",
       "\n",
       "    .dataframe tbody tr th {\n",
       "        vertical-align: top;\n",
       "    }\n",
       "\n",
       "    .dataframe thead th {\n",
       "        text-align: right;\n",
       "    }\n",
       "</style>\n",
       "<table border=\"1\" class=\"dataframe\">\n",
       "  <thead>\n",
       "    <tr style=\"text-align: right;\">\n",
       "      <th></th>\n",
       "      <th>ID</th>\n",
       "      <th>sentence</th>\n",
       "      <th>1category</th>\n",
       "      <th>2category</th>\n",
       "      <th>sentiment</th>\n",
       "      <th>sent_len</th>\n",
       "    </tr>\n",
       "  </thead>\n",
       "  <tbody>\n",
       "    <tr>\n",
       "      <th>0</th>\n",
       "      <td>4754</td>\n",
       "      <td>При этом всегда получал качественные услуги.</td>\n",
       "      <td>Communication</td>\n",
       "      <td>None</td>\n",
       "      <td>+</td>\n",
       "      <td>44</td>\n",
       "    </tr>\n",
       "    <tr>\n",
       "      <th>1</th>\n",
       "      <td>4417</td>\n",
       "      <td>Не вижу, за что хотя бы 2 поставить, сервис на 1!</td>\n",
       "      <td>?</td>\n",
       "      <td>None</td>\n",
       "      <td>−</td>\n",
       "      <td>49</td>\n",
       "    </tr>\n",
       "    <tr>\n",
       "      <th>2</th>\n",
       "      <td>3629</td>\n",
       "      <td>Вот так \"Мой любимый\" банк МКБ меня обманул.</td>\n",
       "      <td>?</td>\n",
       "      <td>None</td>\n",
       "      <td>−</td>\n",
       "      <td>44</td>\n",
       "    </tr>\n",
       "    <tr>\n",
       "      <th>3</th>\n",
       "      <td>11640</td>\n",
       "      <td>Отвратительное отношение к клиентам.</td>\n",
       "      <td>Communication</td>\n",
       "      <td>None</td>\n",
       "      <td>−</td>\n",
       "      <td>36</td>\n",
       "    </tr>\n",
       "    <tr>\n",
       "      <th>4</th>\n",
       "      <td>5571</td>\n",
       "      <td>Всегда в любое время дня и ночи помогут, ответ...</td>\n",
       "      <td>Communication</td>\n",
       "      <td>None</td>\n",
       "      <td>+</td>\n",
       "      <td>56</td>\n",
       "    </tr>\n",
       "  </tbody>\n",
       "</table>\n",
       "</div>"
      ],
      "text/plain": [
       "      ID                                           sentence  ... sentiment sent_len\n",
       "0   4754       При этом всегда получал качественные услуги.  ...         +       44\n",
       "1   4417  Не вижу, за что хотя бы 2 поставить, сервис на 1!  ...         −       49\n",
       "2   3629       Вот так \"Мой любимый\" банк МКБ меня обманул.  ...         −       44\n",
       "3  11640               Отвратительное отношение к клиентам.  ...         −       36\n",
       "4   5571  Всегда в любое время дня и ночи помогут, ответ...  ...         +       56\n",
       "\n",
       "[5 rows x 6 columns]"
      ]
     },
     "execution_count": 381,
     "metadata": {},
     "output_type": "execute_result"
    }
   ],
   "source": [
    "data.head(5)"
   ]
  },
  {
   "cell_type": "code",
   "execution_count": 479,
   "id": "3b382e87",
   "metadata": {
    "cellId": "ymkw1wpllwp2r6zcir1tnf"
   },
   "outputs": [],
   "source": [
    "df_test = pd.read_csv(\"/home/jupyter/mnt/s3/newbacketttt/test_for_participants.csv\")"
   ]
  },
  {
   "cell_type": "markdown",
   "id": "afb77841",
   "metadata": {
    "cellId": "oj8ccydjhx8e3asa15yh99"
   },
   "source": [
    "## Интересно что уникальных предложений меньше чем ID"
   ]
  },
  {
   "cell_type": "code",
   "execution_count": 382,
   "id": "7801e4dc",
   "metadata": {
    "cellId": "ire6kth8kmnd2dpst5rb7j"
   },
   "outputs": [
    {
     "data": {
      "text/plain": [
       "ID           19361\n",
       "sentence      7166\n",
       "1category        5\n",
       "2category        4\n",
       "sentiment        3\n",
       "sent_len       420\n",
       "dtype: int64"
      ]
     },
     "execution_count": 382,
     "metadata": {},
     "output_type": "execute_result"
    }
   ],
   "source": [
    "data.nunique()"
   ]
  },
  {
   "cell_type": "code",
   "execution_count": 117,
   "id": "c59b6d3e",
   "metadata": {
    "cellId": "4g9gi5hsjbhzskcv4cnpgc"
   },
   "outputs": [
    {
     "data": {
      "text/plain": [
       "ID               0\n",
       "sentence         0\n",
       "1category        0\n",
       "2category    18362\n",
       "sentiment        0\n",
       "sent_len         0\n",
       "dtype: int64"
      ]
     },
     "execution_count": 117,
     "metadata": {},
     "output_type": "execute_result"
    }
   ],
   "source": [
    "data.isna().sum()"
   ]
  },
  {
   "cell_type": "code",
   "execution_count": 309,
   "id": "cf53ee29",
   "metadata": {
    "cellId": "rlbsuqlih68fzpne1jki9k"
   },
   "outputs": [],
   "source": [
    "data[\"sent_len\"] = data['sentence'].apply(len)"
   ]
  },
  {
   "cell_type": "code",
   "execution_count": 310,
   "id": "7d04fa02",
   "metadata": {
    "cellId": "s87c5nivuq1srtffxo01n"
   },
   "outputs": [
    {
     "name": "stdout",
     "output_type": "stream",
     "text": [
      "Min len(sentence):31\n",
      "Max len(sentence):1155\n"
     ]
    }
   ],
   "source": [
    "print(f'Min len(sentence):{min(data[\"sent_len\"])}')\n",
    "print(f'Max len(sentence):{max(data[\"sent_len\"])}')"
   ]
  },
  {
   "cell_type": "code",
   "execution_count": 493,
   "id": "ef615aa5",
   "metadata": {
    "cellId": "46w5p65xfck53bm6s03v"
   },
   "outputs": [
    {
     "data": {
      "text/plain": [
       "<matplotlib.axes._subplots.AxesSubplot at 0x7f94ffc7d4c0>"
      ]
     },
     "execution_count": 493,
     "metadata": {},
     "output_type": "execute_result"
    },
    {
     "data": {
      "image/png": "[encoded data removed]",
      "text/plain": [
       "<Figure size 842.4x595.44 with 1 Axes>"
      ]
     },
     "metadata": {},
     "output_type": "display_data"
    }
   ],
   "source": [
    "sns.set(rc={'figure.figsize':(11.7,8.27)})\n",
    "sns.boxplot(x=data[\"sent_len\"])"
   ]
  },
  {
   "cell_type": "code",
   "execution_count": 500,
   "id": "69f7b90c",
   "metadata": {
    "cellId": "uy0dln6thgdpr0o3vn72b"
   },
   "outputs": [],
   "source": [
    "q75,q25 = np.percentile(data[\"sent_len\"],[75,25])\n",
    "intr_qr = q75-q25\n",
    "q_max = q75+(1.5*intr_qr)\n",
    "q_min = q25-(1.5*intr_qr)"
   ]
  },
  {
   "cell_type": "code",
   "execution_count": 549,
   "id": "c63d059a",
   "metadata": {
    "cellId": "87ifh3zwzd9m690dt84ofn"
   },
   "outputs": [
    {
     "data": {
      "text/plain": [
       "-94.5"
      ]
     },
     "execution_count": 549,
     "metadata": {},
     "output_type": "execute_result"
    }
   ],
   "source": [
    "q_min"
   ]
  },
  {
   "cell_type": "markdown",
   "id": "69e19d86",
   "metadata": {
    "cellId": "56omi73uw47tm3g9bpa65"
   },
   "source": [
    "## Посмотрим на то различаются ли признаки для одинаковых предложений"
   ]
  },
  {
   "cell_type": "code",
   "execution_count": 383,
   "id": "9481b40a",
   "metadata": {
    "cellId": "rmo38ahxgyh7nnq8hp900b"
   },
   "outputs": [],
   "source": [
    "sent_3 = [] # переменная для тех предложений в которых все оценки разные\n",
    "sent_2 = [] # для тех предложений в которых 2 оценки разнятся\n",
    "sent_big = []\n",
    "what = []\n",
    "for sntnc in data.sentence.unique():\n",
    "    if data[data[\"sentence\"] == sntnc][\"sentiment\"].nunique() == 3:\n",
    "        sent_3.append(sntnc)\n",
    "    elif len(data[data[\"sentence\"] == sntnc][\"sentiment\"]) > 3:\n",
    "        sent_big.append(sntnc)\n",
    "    elif (data[data[\"sentence\"] == sntnc][\"sentiment\"].nunique() == 2):\n",
    "        join_sent = np.array(data[data[\"sentence\"] == sntnc][\"sentiment\"])\n",
    "        sent_2.append((sntnc, join_sent))\n",
    "    elif data[data[\"sentence\"] == sntnc][\"sentiment\"].nunique() != 1: what.append(sntnc)"
   ]
  },
  {
   "cell_type": "code",
   "execution_count": 384,
   "id": "f7e61bab",
   "metadata": {
    "cellId": "fwj85qa86rr008joti4cr"
   },
   "outputs": [
    {
     "name": "stdout",
     "output_type": "stream",
     "text": [
      "Уникальных предложений в которых разняться все оценки (cat1): 34\n",
      "Уникальных предложений в которых разняться 2 оценки (cat2): 1142\n",
      "Уникальных предложений оценок к которым больше чем 3: 2\n"
     ]
    }
   ],
   "source": [
    "print(f'Уникальных предложений в которых разняться все оценки (cat1): {len(sent_3)}')\n",
    "print(f'Уникальных предложений в которых разняться 2 оценки (cat2): {len(sent_2)}')\n",
    "print(f'Уникальных предложений оценок к которым больше чем 3: {len(sent_big)}')"
   ]
  },
  {
   "cell_type": "markdown",
   "id": "85b91800",
   "metadata": {
    "cellId": "g101t6b0giaf2mx3e7w3au"
   },
   "source": [
    "# Очистка датасета от лишних значений"
   ]
  },
  {
   "cell_type": "raw",
   "id": "3ff6036e",
   "metadata": {
    "cellId": "j51pglo2plznwknlmpci"
   },
   "source": [
    "Преобразование датасета будет происходить следующим образом:\n",
    "1. Избавимся от предложений где разняться все оценки\n",
    "2. Проведем энкодинг для переменной sentiment: '+': 11 '?': 1000 '-': 3 и запишем в sentiment_count\n",
    "3. Проведем агрегацию по новой переменной (sum)\n",
    "4. Переобазначим получившиеся суммы:\n",
    "\n",
    "33 => +1 (3 плюса)\n",
    "2011 => +1 (2 вопроса + 1 плюс)\n",
    "1022 => +1 \n",
    "22 => +1\n",
    "1011 => +1\n",
    "11 => +1\n",
    "4022 => +1\n",
    "\n",
    "2003 =>  -1 (2 вопроса 1 -)\n",
    "1006 => -1 (1 вопрос + 2 минуса)\n",
    "9 => -1 (3 минуса)\n",
    "6 => -1 (2 минуса)\n",
    "3 => -1\n",
    "1003 => -1\n",
    "18 => -1\n",
    "\n",
    "3000 => 0 (3 вопроса)\n",
    "2000 => 0\n",
    "1000 => 0\n",
    "\n",
    "17 => ND (2 минуса + 1 плюс) \n",
    "14 => ND\n",
    "25 => ND (2 plus 1 min)\n",
    "\n",
    "5. Отбросить все ND и получить наш датасет!!!"
   ]
  },
  {
   "cell_type": "code",
   "execution_count": 467,
   "id": "52699042",
   "metadata": {
    "cellId": "q2kr2t56g0fq86as562mu"
   },
   "outputs": [],
   "source": [
    "data_cat3 = data[~data[\"sentence\"].isin(sent_3)].copy() # Избавимся от предложений где разняться все оценки"
   ]
  },
  {
   "cell_type": "code",
   "execution_count": 468,
   "id": "1995d724",
   "metadata": {
    "cellId": "tsxobwoazsf28htfp08ash"
   },
   "outputs": [],
   "source": [
    "def transform_to_digits(x):\n",
    "    if x == '+': return 11\n",
    "    elif x == '−': return 3\n",
    "    else: return 1000"
   ]
  },
  {
   "cell_type": "code",
   "execution_count": 469,
   "id": "20f47de3",
   "metadata": {
    "cellId": "4gi0qs8fkb8aedaxtivrsl"
   },
   "outputs": [],
   "source": [
    "data_cat3['sentiment_count'] = data_cat3['sentiment'].apply(transform_to_digits) "
   ]
  },
  {
   "cell_type": "code",
   "execution_count": 470,
   "id": "b1e76040",
   "metadata": {
    "cellId": "lti58tgq3330p7uxqnbps"
   },
   "outputs": [],
   "source": [
    "tmp_df = data_cat3[['sentence','sentiment_count']].groupby(['sentence'], as_index=False).sum()"
   ]
  },
  {
   "cell_type": "code",
   "execution_count": 510,
   "id": "edeafb51",
   "metadata": {
    "cellId": "dfuattr1prcl51jb1ixgoa"
   },
   "outputs": [
    {
     "data": {
      "text/plain": [
       "'\"Наконец-то куда надо, подумал я\" и почти без раздражения рассказал свою историю в девятый раз. Мне объяснили, что мой личный сотовый номер был указан в качестве рабочего номера телефона при заполнении анкеты человеком.'"
      ]
     },
     "execution_count": 510,
     "metadata": {},
     "output_type": "execute_result"
    }
   ],
   "source": [
    "tmp_df['sentence'][tmp_df['sentiment_count']==17].iloc[0]"
   ]
  },
  {
   "cell_type": "code",
   "execution_count": 544,
   "id": "85112443",
   "metadata": {
    "cellId": "nfl405s0odtlw5tpcc0inm"
   },
   "outputs": [
    {
     "data": {
      "text/html": [
       "<div>\n",
       "<style scoped>\n",
       "    .dataframe tbody tr th:only-of-type {\n",
       "        vertical-align: middle;\n",
       "    }\n",
       "\n",
       "    .dataframe tbody tr th {\n",
       "        vertical-align: top;\n",
       "    }\n",
       "\n",
       "    .dataframe thead th {\n",
       "        text-align: right;\n",
       "    }\n",
       "</style>\n",
       "<table border=\"1\" class=\"dataframe\">\n",
       "  <thead>\n",
       "    <tr style=\"text-align: right;\">\n",
       "      <th></th>\n",
       "      <th>ID</th>\n",
       "      <th>sentence</th>\n",
       "      <th>1category</th>\n",
       "      <th>2category</th>\n",
       "      <th>sentiment</th>\n",
       "      <th>sent_len</th>\n",
       "    </tr>\n",
       "  </thead>\n",
       "  <tbody>\n",
       "    <tr>\n",
       "      <th>51</th>\n",
       "      <td>15794</td>\n",
       "      <td>МКБ среагировал очень чётко (всё правильно!</td>\n",
       "      <td>Quality</td>\n",
       "      <td>None</td>\n",
       "      <td>−</td>\n",
       "      <td>43</td>\n",
       "    </tr>\n",
       "    <tr>\n",
       "      <th>11356</th>\n",
       "      <td>1186</td>\n",
       "      <td>МКБ среагировал очень чётко (всё правильно!</td>\n",
       "      <td>?</td>\n",
       "      <td>None</td>\n",
       "      <td>?</td>\n",
       "      <td>43</td>\n",
       "    </tr>\n",
       "    <tr>\n",
       "      <th>18787</th>\n",
       "      <td>336</td>\n",
       "      <td>МКБ среагировал очень чётко (всё правильно!</td>\n",
       "      <td>?</td>\n",
       "      <td>None</td>\n",
       "      <td>+</td>\n",
       "      <td>43</td>\n",
       "    </tr>\n",
       "  </tbody>\n",
       "</table>\n",
       "</div>"
      ],
      "text/plain": [
       "          ID                                     sentence  ... sentiment sent_len\n",
       "51     15794  МКБ среагировал очень чётко (всё правильно!  ...         −       43\n",
       "11356   1186  МКБ среагировал очень чётко (всё правильно!  ...         ?       43\n",
       "18787    336  МКБ среагировал очень чётко (всё правильно!  ...         +       43\n",
       "\n",
       "[3 rows x 6 columns]"
      ]
     },
     "execution_count": 544,
     "metadata": {},
     "output_type": "execute_result"
    }
   ],
   "source": [
    "data[data['sentence'] == sent_3[0]]"
   ]
  },
  {
   "cell_type": "code",
   "execution_count": 542,
   "id": "21c9932a",
   "metadata": {
    "cellId": "yrm1r3hevyj8b795ghkg9"
   },
   "outputs": [
    {
     "data": {
      "text/html": [
       "<div>\n",
       "<style scoped>\n",
       "    .dataframe tbody tr th:only-of-type {\n",
       "        vertical-align: middle;\n",
       "    }\n",
       "\n",
       "    .dataframe tbody tr th {\n",
       "        vertical-align: top;\n",
       "    }\n",
       "\n",
       "    .dataframe thead th {\n",
       "        text-align: right;\n",
       "    }\n",
       "</style>\n",
       "<table border=\"1\" class=\"dataframe\">\n",
       "  <thead>\n",
       "    <tr style=\"text-align: right;\">\n",
       "      <th></th>\n",
       "      <th>ID</th>\n",
       "      <th>sentence</th>\n",
       "      <th>sentiment</th>\n",
       "      <th>sentiment_count</th>\n",
       "    </tr>\n",
       "  </thead>\n",
       "  <tbody>\n",
       "  </tbody>\n",
       "</table>\n",
       "</div>"
      ],
      "text/plain": [
       "Empty DataFrame\n",
       "Columns: [ID, sentence, sentiment, sentiment_count]\n",
       "Index: []"
      ]
     },
     "execution_count": 542,
     "metadata": {},
     "output_type": "execute_result"
    }
   ],
   "source": [
    "data_cat3[data_cat3['sentence'] == sent_3[0]].drop(['1category', '2category', 'sent_len'], axis=1)"
   ]
  },
  {
   "cell_type": "code",
   "execution_count": 548,
   "id": "dfd47b10",
   "metadata": {
    "cellId": "wqkdilrpie3f043gl3r6e"
   },
   "outputs": [
    {
     "data": {
      "text/html": [
       "<div>\n",
       "<style scoped>\n",
       "    .dataframe tbody tr th:only-of-type {\n",
       "        vertical-align: middle;\n",
       "    }\n",
       "\n",
       "    .dataframe tbody tr th {\n",
       "        vertical-align: top;\n",
       "    }\n",
       "\n",
       "    .dataframe thead th {\n",
       "        text-align: right;\n",
       "    }\n",
       "</style>\n",
       "<table border=\"1\" class=\"dataframe\">\n",
       "  <thead>\n",
       "    <tr style=\"text-align: right;\">\n",
       "      <th></th>\n",
       "      <th>ID</th>\n",
       "      <th>sentence</th>\n",
       "      <th>sentiment</th>\n",
       "      <th>sentiment_count</th>\n",
       "    </tr>\n",
       "  </thead>\n",
       "  <tbody>\n",
       "    <tr>\n",
       "      <th>247</th>\n",
       "      <td>10465</td>\n",
       "      <td>Больше всего меня удивило, что она не раздража...</td>\n",
       "      <td>−</td>\n",
       "      <td>3</td>\n",
       "    </tr>\n",
       "    <tr>\n",
       "      <th>11872</th>\n",
       "      <td>5922</td>\n",
       "      <td>Больше всего меня удивило, что она не раздража...</td>\n",
       "      <td>+</td>\n",
       "      <td>11</td>\n",
       "    </tr>\n",
       "    <tr>\n",
       "      <th>12237</th>\n",
       "      <td>6428</td>\n",
       "      <td>Больше всего меня удивило, что она не раздража...</td>\n",
       "      <td>+</td>\n",
       "      <td>11</td>\n",
       "    </tr>\n",
       "  </tbody>\n",
       "</table>\n",
       "</div>"
      ],
      "text/plain": [
       "          ID  ... sentiment_count\n",
       "247    10465  ...               3\n",
       "11872   5922  ...              11\n",
       "12237   6428  ...              11\n",
       "\n",
       "[3 rows x 4 columns]"
      ]
     },
     "execution_count": 548,
     "metadata": {},
     "output_type": "execute_result"
    }
   ],
   "source": [
    "data_cat3[data_cat3['sentence'] == tmp_df['sentence'][tmp_df['sentiment_count']==25].iloc[0]].drop(['1category', '2category', 'sent_len'], axis=1)"
   ]
  },
  {
   "cell_type": "code",
   "execution_count": 471,
   "id": "6ebd6900",
   "metadata": {
    "cellId": "r4prff59a6e6clupd4o2wo"
   },
   "outputs": [
    {
     "name": "stdout",
     "output_type": "stream",
     "text": [
      "Всего 20 уникальных комбинаций\n"
     ]
    }
   ],
   "source": [
    "print(f'Всего {len(tmp_df[\"sentiment_count\"].unique())} уникальных комбинаций')"
   ]
  },
  {
   "cell_type": "code",
   "execution_count": 472,
   "id": "150e4bb2",
   "metadata": {
    "cellId": "uobmclb3p68vz6v42tvu"
   },
   "outputs": [],
   "source": [
    "dict_unique_sc = {33: 1, 2011: 1, 1022: 1, 22: 1, 1011: 1, 11: 1, 4022: 1,\n",
    "                  2003: 1, 1006: -1, 9: -1, 6: -1, 3: -1, 1003: -1, 18: -1,\n",
    "                  3000: 0, 2000: 0, 1000: 0,\n",
    "                  17: 'ND', 14: 'ND', 25: 'ND'}"
   ]
  },
  {
   "cell_type": "code",
   "execution_count": 473,
   "id": "835e3bb2",
   "metadata": {
    "cellId": "7uw19st63rl6oid14rl"
   },
   "outputs": [],
   "source": [
    "def transf_to_norm_digits(x):\n",
    "    return dict_unique_sc[x]"
   ]
  },
  {
   "cell_type": "code",
   "execution_count": 474,
   "id": "077e3a92",
   "metadata": {
    "cellId": "wi61xx5p292uiz6yld3d5"
   },
   "outputs": [],
   "source": [
    "tmp_df['sentiment'] = tmp_df['sentiment_count'].apply(transf_to_norm_digits) "
   ]
  },
  {
   "cell_type": "code",
   "execution_count": 526,
   "id": "ff65f7d4",
   "metadata": {
    "cellId": "m46ly7nncbtcl9klwm81ym"
   },
   "outputs": [
    {
     "data": {
      "text/html": [
       "<div>\n",
       "<style scoped>\n",
       "    .dataframe tbody tr th:only-of-type {\n",
       "        vertical-align: middle;\n",
       "    }\n",
       "\n",
       "    .dataframe tbody tr th {\n",
       "        vertical-align: top;\n",
       "    }\n",
       "\n",
       "    .dataframe thead th {\n",
       "        text-align: right;\n",
       "    }\n",
       "</style>\n",
       "<table border=\"1\" class=\"dataframe\">\n",
       "  <thead>\n",
       "    <tr style=\"text-align: right;\">\n",
       "      <th></th>\n",
       "      <th>sentence</th>\n",
       "      <th>sentiment_count</th>\n",
       "      <th>sentiment</th>\n",
       "    </tr>\n",
       "  </thead>\n",
       "  <tbody>\n",
       "    <tr>\n",
       "      <th>0</th>\n",
       "      <td>10.12.2020 20:57 Хотелось бы выразить огромну...</td>\n",
       "      <td>33</td>\n",
       "      <td>1</td>\n",
       "    </tr>\n",
       "    <tr>\n",
       "      <th>1</th>\n",
       "      <td>!, на что сотрудник банка ответила мне что дан...</td>\n",
       "      <td>1006</td>\n",
       "      <td>-1</td>\n",
       "    </tr>\n",
       "    <tr>\n",
       "      <th>2</th>\n",
       "      <td>!, тем самым оставив меня без средств к сущест...</td>\n",
       "      <td>9</td>\n",
       "      <td>-1</td>\n",
       "    </tr>\n",
       "    <tr>\n",
       "      <th>3</th>\n",
       "      <td>!16 ноября сего года я обращаюсь к администрат...</td>\n",
       "      <td>2003</td>\n",
       "      <td>1</td>\n",
       "    </tr>\n",
       "    <tr>\n",
       "      <th>4</th>\n",
       "      <td>!22.02.2020 заблокировали счет якобы из-за про...</td>\n",
       "      <td>9</td>\n",
       "      <td>-1</td>\n",
       "    </tr>\n",
       "    <tr>\n",
       "      <th>...</th>\n",
       "      <td>...</td>\n",
       "      <td>...</td>\n",
       "      <td>...</td>\n",
       "    </tr>\n",
       "    <tr>\n",
       "      <th>7127</th>\n",
       "      <td>я своевременно и в полном объеме исполнял ВСЕ ...</td>\n",
       "      <td>2000</td>\n",
       "      <td>0</td>\n",
       "    </tr>\n",
       "    <tr>\n",
       "      <th>7128</th>\n",
       "      <td>я у сотрудника спросила- получила ответ. но со...</td>\n",
       "      <td>9</td>\n",
       "      <td>-1</td>\n",
       "    </tr>\n",
       "    <tr>\n",
       "      <th>7129</th>\n",
       "      <td>– восхищаюсь я. Проходит еще неделя... Ну, я д...</td>\n",
       "      <td>3000</td>\n",
       "      <td>0</td>\n",
       "    </tr>\n",
       "    <tr>\n",
       "      <th>7130</th>\n",
       "      <td>…Вы своих клиентов совсем не уважаете, считая ...</td>\n",
       "      <td>9</td>\n",
       "      <td>-1</td>\n",
       "    </tr>\n",
       "    <tr>\n",
       "      <th>7131</th>\n",
       "      <td>№ ДО 53/Ф20-04-07/1333 от 19.09.2018 и также в...</td>\n",
       "      <td>3000</td>\n",
       "      <td>0</td>\n",
       "    </tr>\n",
       "  </tbody>\n",
       "</table>\n",
       "<p>7132 rows × 3 columns</p>\n",
       "</div>"
      ],
      "text/plain": [
       "                                               sentence  ...  sentiment\n",
       "0      10.12.2020 20:57 Хотелось бы выразить огромну...  ...          1\n",
       "1     !, на что сотрудник банка ответила мне что дан...  ...         -1\n",
       "2     !, тем самым оставив меня без средств к сущест...  ...         -1\n",
       "3     !16 ноября сего года я обращаюсь к администрат...  ...          1\n",
       "4     !22.02.2020 заблокировали счет якобы из-за про...  ...         -1\n",
       "...                                                 ...  ...        ...\n",
       "7127  я своевременно и в полном объеме исполнял ВСЕ ...  ...          0\n",
       "7128  я у сотрудника спросила- получила ответ. но со...  ...         -1\n",
       "7129  – восхищаюсь я. Проходит еще неделя... Ну, я д...  ...          0\n",
       "7130  …Вы своих клиентов совсем не уважаете, считая ...  ...         -1\n",
       "7131  № ДО 53/Ф20-04-07/1333 от 19.09.2018 и также в...  ...          0\n",
       "\n",
       "[7132 rows x 3 columns]"
      ]
     },
     "execution_count": 526,
     "metadata": {},
     "output_type": "execute_result"
    }
   ],
   "source": [
    "tmp_df"
   ]
  },
  {
   "cell_type": "code",
   "execution_count": 546,
   "id": "4d2033f6",
   "metadata": {
    "cellId": "di8rnst9vmhmho6t03pmq"
   },
   "outputs": [
    {
     "data": {
      "text/html": [
       "<div>\n",
       "<style scoped>\n",
       "    .dataframe tbody tr th:only-of-type {\n",
       "        vertical-align: middle;\n",
       "    }\n",
       "\n",
       "    .dataframe tbody tr th {\n",
       "        vertical-align: top;\n",
       "    }\n",
       "\n",
       "    .dataframe thead th {\n",
       "        text-align: right;\n",
       "    }\n",
       "</style>\n",
       "<table border=\"1\" class=\"dataframe\">\n",
       "  <thead>\n",
       "    <tr style=\"text-align: right;\">\n",
       "      <th></th>\n",
       "      <th>sentence</th>\n",
       "      <th>sentiment_count</th>\n",
       "      <th>sentiment</th>\n",
       "    </tr>\n",
       "  </thead>\n",
       "  <tbody>\n",
       "    <tr>\n",
       "      <th>0</th>\n",
       "      <td>10.12.2020 20:57 Хотелось бы выразить огромну...</td>\n",
       "      <td>33</td>\n",
       "      <td>1</td>\n",
       "    </tr>\n",
       "    <tr>\n",
       "      <th>1</th>\n",
       "      <td>!, на что сотрудник банка ответила мне что дан...</td>\n",
       "      <td>1006</td>\n",
       "      <td>-1</td>\n",
       "    </tr>\n",
       "    <tr>\n",
       "      <th>2</th>\n",
       "      <td>!, тем самым оставив меня без средств к сущест...</td>\n",
       "      <td>9</td>\n",
       "      <td>-1</td>\n",
       "    </tr>\n",
       "    <tr>\n",
       "      <th>3</th>\n",
       "      <td>!16 ноября сего года я обращаюсь к администрат...</td>\n",
       "      <td>2003</td>\n",
       "      <td>1</td>\n",
       "    </tr>\n",
       "    <tr>\n",
       "      <th>4</th>\n",
       "      <td>!22.02.2020 заблокировали счет якобы из-за про...</td>\n",
       "      <td>9</td>\n",
       "      <td>-1</td>\n",
       "    </tr>\n",
       "    <tr>\n",
       "      <th>...</th>\n",
       "      <td>...</td>\n",
       "      <td>...</td>\n",
       "      <td>...</td>\n",
       "    </tr>\n",
       "    <tr>\n",
       "      <th>7127</th>\n",
       "      <td>я своевременно и в полном объеме исполнял ВСЕ ...</td>\n",
       "      <td>2000</td>\n",
       "      <td>0</td>\n",
       "    </tr>\n",
       "    <tr>\n",
       "      <th>7128</th>\n",
       "      <td>я у сотрудника спросила- получила ответ. но со...</td>\n",
       "      <td>9</td>\n",
       "      <td>-1</td>\n",
       "    </tr>\n",
       "    <tr>\n",
       "      <th>7129</th>\n",
       "      <td>– восхищаюсь я. Проходит еще неделя... Ну, я д...</td>\n",
       "      <td>3000</td>\n",
       "      <td>0</td>\n",
       "    </tr>\n",
       "    <tr>\n",
       "      <th>7130</th>\n",
       "      <td>…Вы своих клиентов совсем не уважаете, считая ...</td>\n",
       "      <td>9</td>\n",
       "      <td>-1</td>\n",
       "    </tr>\n",
       "    <tr>\n",
       "      <th>7131</th>\n",
       "      <td>№ ДО 53/Ф20-04-07/1333 от 19.09.2018 и также в...</td>\n",
       "      <td>3000</td>\n",
       "      <td>0</td>\n",
       "    </tr>\n",
       "  </tbody>\n",
       "</table>\n",
       "<p>7019 rows × 3 columns</p>\n",
       "</div>"
      ],
      "text/plain": [
       "                                               sentence  ...  sentiment\n",
       "0      10.12.2020 20:57 Хотелось бы выразить огромну...  ...          1\n",
       "1     !, на что сотрудник банка ответила мне что дан...  ...         -1\n",
       "2     !, тем самым оставив меня без средств к сущест...  ...         -1\n",
       "3     !16 ноября сего года я обращаюсь к администрат...  ...          1\n",
       "4     !22.02.2020 заблокировали счет якобы из-за про...  ...         -1\n",
       "...                                                 ...  ...        ...\n",
       "7127  я своевременно и в полном объеме исполнял ВСЕ ...  ...          0\n",
       "7128  я у сотрудника спросила- получила ответ. но со...  ...         -1\n",
       "7129  – восхищаюсь я. Проходит еще неделя... Ну, я д...  ...          0\n",
       "7130  …Вы своих клиентов совсем не уважаете, считая ...  ...         -1\n",
       "7131  № ДО 53/Ф20-04-07/1333 от 19.09.2018 и также в...  ...          0\n",
       "\n",
       "[7019 rows x 3 columns]"
      ]
     },
     "execution_count": 546,
     "metadata": {},
     "output_type": "execute_result"
    }
   ],
   "source": [
    "tmp_df[~(tmp_df['sentiment'] == 'ND')]"
   ]
  },
  {
   "cell_type": "code",
   "execution_count": 528,
   "id": "5c4e02b5",
   "metadata": {
    "cellId": "hmyzii2fb2xxu4qj2wl1f"
   },
   "outputs": [],
   "source": [
    "new_df = tmp_df[~(tmp_df['sentiment'] == 'ND')].copy()"
   ]
  },
  {
   "cell_type": "code",
   "execution_count": 529,
   "id": "d4439b41",
   "metadata": {
    "cellId": "ntp099klc18aw23lwpgcy"
   },
   "outputs": [],
   "source": [
    "new_df = new_df.drop(['sentiment_count'], axis=1)"
   ]
  },
  {
   "cell_type": "markdown",
   "id": "b259cb17",
   "metadata": {
    "cellId": "gbt6szu1kdepus5nhh7nh"
   },
   "source": [
    "## Чистый датасет"
   ]
  },
  {
   "cell_type": "code",
   "execution_count": 377,
   "id": "978f2c76",
   "metadata": {
    "cellId": "65lkq19s94wyu0wiztfoqa"
   },
   "outputs": [
    {
     "data": {
      "text/html": [
       "<div>\n",
       "<style scoped>\n",
       "    .dataframe tbody tr th:only-of-type {\n",
       "        vertical-align: middle;\n",
       "    }\n",
       "\n",
       "    .dataframe tbody tr th {\n",
       "        vertical-align: top;\n",
       "    }\n",
       "\n",
       "    .dataframe thead th {\n",
       "        text-align: right;\n",
       "    }\n",
       "</style>\n",
       "<table border=\"1\" class=\"dataframe\">\n",
       "  <thead>\n",
       "    <tr style=\"text-align: right;\">\n",
       "      <th></th>\n",
       "      <th>sentence</th>\n",
       "      <th>sentiment</th>\n",
       "    </tr>\n",
       "  </thead>\n",
       "  <tbody>\n",
       "    <tr>\n",
       "      <th>0</th>\n",
       "      <td>10.12.2020 20:57 Хотелось бы выразить огромну...</td>\n",
       "      <td>1</td>\n",
       "    </tr>\n",
       "    <tr>\n",
       "      <th>1</th>\n",
       "      <td>!, на что сотрудник банка ответила мне что дан...</td>\n",
       "      <td>-1</td>\n",
       "    </tr>\n",
       "    <tr>\n",
       "      <th>2</th>\n",
       "      <td>!, тем самым оставив меня без средств к сущест...</td>\n",
       "      <td>-1</td>\n",
       "    </tr>\n",
       "    <tr>\n",
       "      <th>3</th>\n",
       "      <td>!16 ноября сего года я обращаюсь к администрат...</td>\n",
       "      <td>1</td>\n",
       "    </tr>\n",
       "    <tr>\n",
       "      <th>4</th>\n",
       "      <td>!22.02.2020 заблокировали счет якобы из-за про...</td>\n",
       "      <td>-1</td>\n",
       "    </tr>\n",
       "  </tbody>\n",
       "</table>\n",
       "</div>"
      ],
      "text/plain": [
       "                                            sentence sentiment\n",
       "0   10.12.2020 20:57 Хотелось бы выразить огромну...         1\n",
       "1  !, на что сотрудник банка ответила мне что дан...        -1\n",
       "2  !, тем самым оставив меня без средств к сущест...        -1\n",
       "3  !16 ноября сего года я обращаюсь к администрат...         1\n",
       "4  !22.02.2020 заблокировали счет якобы из-за про...        -1"
      ]
     },
     "execution_count": 377,
     "metadata": {},
     "output_type": "execute_result"
    }
   ],
   "source": [
    "new_df.head(5)"
   ]
  },
  {
   "cell_type": "code",
   "execution_count": 478,
   "id": "7b2bdb1f",
   "metadata": {
    "cellId": "cthp32bly5s6c242ovskq9"
   },
   "outputs": [],
   "source": [
    "new_df.to_csv('/home/jupyter/mnt/s3/newbacketttt/train_clean.csv')"
   ]
  },
  {
   "cell_type": "code",
   "execution_count": 525,
   "id": "49501735",
   "metadata": {
    "cellId": "edjijpxu8a50vfsrvfwnexd"
   },
   "outputs": [
    {
     "data": {
      "text/plain": [
       "sentence     7019\n",
       "sentiment       3\n",
       "dtype: int64"
      ]
     },
     "execution_count": 525,
     "metadata": {},
     "output_type": "execute_result"
    }
   ],
   "source": [
    "new_df.nunique()"
   ]
  },
  {
   "cell_type": "markdown",
   "id": "3bd4a5ae",
   "metadata": {
    "cellId": "avhv6q1to05iemnbcl1yql"
   },
   "source": [
    "# Токенизация"
   ]
  },
  {
   "cell_type": "code",
   "execution_count": 397,
   "id": "590afdbb",
   "metadata": {
    "cellId": "tv4yophzbca0mup43p37wfq"
   },
   "outputs": [
    {
     "name": "stderr",
     "output_type": "stream",
     "text": [
      "[nltk_data] Downloading package stopwords to\n",
      "[nltk_data]     /home/jupyter/nltk_data...\n",
      "[nltk_data]   Package stopwords is already up-to-date!\n",
      "[nltk_data] Downloading package wordnet to /home/jupyter/nltk_data...\n",
      "[nltk_data]   Package wordnet is already up-to-date!\n",
      "Failed to deserialize variable 'mystem'. Run the following code to delete it:\n",
      "  del_datasphere_variables('mystem')\n",
      "Traceback (most recent call last):\n",
      "  File \"/kernel/lib/python3.8/site-packages/ml_kernel/state/state_protocol.py\", line 283, in _load_component\n",
      "    value = unpickler.load()\n",
      "  File \"/kernel/lib/python3.8/site-packages/ipystate/impl/dispatch/common.py\", line 141, in _create_file\n",
      "    f = open(name, mode, encoding=encoding)\n",
      "OSError: [Errno 9] Bad file descriptor\n",
      "\n",
      "The above exception was the direct cause of the following exception:\n",
      "\n",
      "ml_kernel.state.state_protocol.KernelStateProtocol.DeserializationException: ['mystem']\n"
     ]
    }
   ],
   "source": [
    "import string\n",
    "import pandas as pd\n",
    "import torch\n",
    "import natasha\n",
    "from razdel import tokenize, sentenize\n",
    "import nltk\n",
    "from nltk.stem import WordNetLemmatizer\n",
    "nltk.download('stopwords')\n",
    "nltk.download('wordnet')\n",
    "from nltk.corpus import stopwords\n",
    "from string import digits\n",
    "from pymystem3 import Mystem\n",
    "mystem = Mystem()\n",
    "import re"
   ]
  },
  {
   "cell_type": "code",
   "execution_count": 399,
   "id": "840ad17f",
   "metadata": {
    "cellId": "eoig8tng12mpswug2pi2"
   },
   "outputs": [],
   "source": [
    "ds = new_df"
   ]
  },
  {
   "cell_type": "code",
   "execution_count": 400,
   "id": "e45e4440",
   "metadata": {
    "cellId": "3z69kv1migeuy2v3tbohyc"
   },
   "outputs": [
    {
     "data": {
      "text/html": [
       "<div>\n",
       "<style scoped>\n",
       "    .dataframe tbody tr th:only-of-type {\n",
       "        vertical-align: middle;\n",
       "    }\n",
       "\n",
       "    .dataframe tbody tr th {\n",
       "        vertical-align: top;\n",
       "    }\n",
       "\n",
       "    .dataframe thead th {\n",
       "        text-align: right;\n",
       "    }\n",
       "</style>\n",
       "<table border=\"1\" class=\"dataframe\">\n",
       "  <thead>\n",
       "    <tr style=\"text-align: right;\">\n",
       "      <th></th>\n",
       "      <th>sentence</th>\n",
       "      <th>sentiment</th>\n",
       "    </tr>\n",
       "  </thead>\n",
       "  <tbody>\n",
       "    <tr>\n",
       "      <th>0</th>\n",
       "      <td>10.12.2020 20:57 Хотелось бы выразить огромну...</td>\n",
       "      <td>1</td>\n",
       "    </tr>\n",
       "    <tr>\n",
       "      <th>1</th>\n",
       "      <td>!, на что сотрудник банка ответила мне что дан...</td>\n",
       "      <td>-1</td>\n",
       "    </tr>\n",
       "    <tr>\n",
       "      <th>2</th>\n",
       "      <td>!, тем самым оставив меня без средств к сущест...</td>\n",
       "      <td>-1</td>\n",
       "    </tr>\n",
       "    <tr>\n",
       "      <th>3</th>\n",
       "      <td>!16 ноября сего года я обращаюсь к администрат...</td>\n",
       "      <td>1</td>\n",
       "    </tr>\n",
       "    <tr>\n",
       "      <th>4</th>\n",
       "      <td>!22.02.2020 заблокировали счет якобы из-за про...</td>\n",
       "      <td>-1</td>\n",
       "    </tr>\n",
       "  </tbody>\n",
       "</table>\n",
       "</div>"
      ],
      "text/plain": [
       "                                            sentence sentiment\n",
       "0   10.12.2020 20:57 Хотелось бы выразить огромну...         1\n",
       "1  !, на что сотрудник банка ответила мне что дан...        -1\n",
       "2  !, тем самым оставив меня без средств к сущест...        -1\n",
       "3  !16 ноября сего года я обращаюсь к администрат...         1\n",
       "4  !22.02.2020 заблокировали счет якобы из-за про...        -1"
      ]
     },
     "execution_count": 400,
     "metadata": {},
     "output_type": "execute_result"
    }
   ],
   "source": [
    "ds.head(5)"
   ]
  },
  {
   "cell_type": "code",
   "execution_count": 426,
   "id": "da1db63b",
   "metadata": {
    "cellId": "w8joxi8fhrc0cub0ibcsd7s"
   },
   "outputs": [
    {
     "data": {
      "text/html": [
       "<div>\n",
       "<style scoped>\n",
       "    .dataframe tbody tr th:only-of-type {\n",
       "        vertical-align: middle;\n",
       "    }\n",
       "\n",
       "    .dataframe tbody tr th {\n",
       "        vertical-align: top;\n",
       "    }\n",
       "\n",
       "    .dataframe thead th {\n",
       "        text-align: right;\n",
       "    }\n",
       "</style>\n",
       "<table border=\"1\" class=\"dataframe\">\n",
       "  <thead>\n",
       "    <tr style=\"text-align: right;\">\n",
       "      <th></th>\n",
       "      <th>sentence</th>\n",
       "      <th>sentiment</th>\n",
       "    </tr>\n",
       "  </thead>\n",
       "  <tbody>\n",
       "    <tr>\n",
       "      <th>0</th>\n",
       "      <td>10.12.2020 20:57 Хотелось бы выразить огромну...</td>\n",
       "      <td>1</td>\n",
       "    </tr>\n",
       "    <tr>\n",
       "      <th>1</th>\n",
       "      <td>!, на что сотрудник банка ответила мне что дан...</td>\n",
       "      <td>-1</td>\n",
       "    </tr>\n",
       "    <tr>\n",
       "      <th>2</th>\n",
       "      <td>!, тем самым оставив меня без средств к сущест...</td>\n",
       "      <td>-1</td>\n",
       "    </tr>\n",
       "    <tr>\n",
       "      <th>3</th>\n",
       "      <td>!16 ноября сего года я обращаюсь к администрат...</td>\n",
       "      <td>1</td>\n",
       "    </tr>\n",
       "    <tr>\n",
       "      <th>4</th>\n",
       "      <td>!22.02.2020 заблокировали счет якобы из-за про...</td>\n",
       "      <td>-1</td>\n",
       "    </tr>\n",
       "    <tr>\n",
       "      <th>...</th>\n",
       "      <td>...</td>\n",
       "      <td>...</td>\n",
       "    </tr>\n",
       "    <tr>\n",
       "      <th>7127</th>\n",
       "      <td>я своевременно и в полном объеме исполнял ВСЕ ...</td>\n",
       "      <td>0</td>\n",
       "    </tr>\n",
       "    <tr>\n",
       "      <th>7128</th>\n",
       "      <td>я у сотрудника спросила- получила ответ. но со...</td>\n",
       "      <td>-1</td>\n",
       "    </tr>\n",
       "    <tr>\n",
       "      <th>7129</th>\n",
       "      <td>– восхищаюсь я. Проходит еще неделя... Ну, я д...</td>\n",
       "      <td>0</td>\n",
       "    </tr>\n",
       "    <tr>\n",
       "      <th>7130</th>\n",
       "      <td>…Вы своих клиентов совсем не уважаете, считая ...</td>\n",
       "      <td>-1</td>\n",
       "    </tr>\n",
       "    <tr>\n",
       "      <th>7131</th>\n",
       "      <td>№ ДО 53/Ф20-04-07/1333 от 19.09.2018 и также в...</td>\n",
       "      <td>0</td>\n",
       "    </tr>\n",
       "  </tbody>\n",
       "</table>\n",
       "<p>7019 rows × 2 columns</p>\n",
       "</div>"
      ],
      "text/plain": [
       "                                               sentence sentiment\n",
       "0      10.12.2020 20:57 Хотелось бы выразить огромну...         1\n",
       "1     !, на что сотрудник банка ответила мне что дан...        -1\n",
       "2     !, тем самым оставив меня без средств к сущест...        -1\n",
       "3     !16 ноября сего года я обращаюсь к администрат...         1\n",
       "4     !22.02.2020 заблокировали счет якобы из-за про...        -1\n",
       "...                                                 ...       ...\n",
       "7127  я своевременно и в полном объеме исполнял ВСЕ ...         0\n",
       "7128  я у сотрудника спросила- получила ответ. но со...        -1\n",
       "7129  – восхищаюсь я. Проходит еще неделя... Ну, я д...         0\n",
       "7130  …Вы своих клиентов совсем не уважаете, считая ...        -1\n",
       "7131  № ДО 53/Ф20-04-07/1333 от 19.09.2018 и также в...         0\n",
       "\n",
       "[7019 rows x 2 columns]"
      ]
     },
     "execution_count": 426,
     "metadata": {},
     "output_type": "execute_result"
    }
   ],
   "source": [
    "ds"
   ]
  },
  {
   "cell_type": "code",
   "execution_count": 401,
   "id": "1b3303f4",
   "metadata": {
    "cellId": "fgk6lsdum0wyc3pxic4anr"
   },
   "outputs": [
    {
     "name": "stderr",
     "output_type": "stream",
     "text": [
      "Exception ignored in: <function Mystem.__del__ at 0x7f1702f69c10>\n",
      "Traceback (most recent call last):\n",
      "  File \"/home/jupyter/.local/lib/python3.8/site-packages/pymystem3/mystem.py\", line 196, in __del__\n",
      "    self.close()  # terminate process on exit\n",
      "  File \"/home/jupyter/.local/lib/python3.8/site-packages/pymystem3/mystem.py\", line 216, in close\n",
      "    if self._proc is not None:\n",
      "AttributeError: 'Mystem' object has no attribute '_proc'\n"
     ]
    }
   ],
   "source": [
    "trg_sent = ds['sentiment']\n",
    "\n",
    "trg_cat_dum = pd.get_dummies(trg_sent)"
   ]
  },
  {
   "cell_type": "code",
   "execution_count": 446,
   "id": "d78bfd94",
   "metadata": {
    "cellId": "s3q83ky1cceb6j98kq8cp"
   },
   "outputs": [],
   "source": [
    "df = ds['sentence'].copy()"
   ]
  },
  {
   "cell_type": "code",
   "execution_count": 445,
   "id": "f23a2b1f",
   "metadata": {
    "cellId": "7wmdfanqdsf2j8ctqfjpp"
   },
   "outputs": [],
   "source": [
    "def delete_punc(df):\n",
    "    for i in range(df.shape[0]):\n",
    "        text = df.iloc[i]\n",
    "        text_new = text.translate (str.maketrans('', '', string.punctuation))\n",
    "        df.iloc[i] = text_new\n",
    "    return df\n",
    "\n",
    "def del_stopwords(df):\n",
    "    for i in range(df.shape[0]):\n",
    "        text = df.iloc[i]\n",
    "        text = text.split()\n",
    "        text_filtered = \" \".join([word for word in text if word not in stopwords.words('russian')])\n",
    "        df.iloc[i] = text_filtered.lower()\n",
    "    return df\n",
    "\n",
    "def del_digits(df):\n",
    "    for i in range(df.shape[0]):\n",
    "        text = df.iloc[i].split()\n",
    "        text_filtered = [word for word in text if word not in digits]\n",
    "        text_filtered = \" \".join([re.sub('[0-9]', '', i) for i in text_filtered])\n",
    "        df.iloc[i] = text_filtered\n",
    "    return df\n",
    "\n",
    "def lemmatizing(df):\n",
    "    mystem = Mystem()\n",
    "    for i in range(df.shape[0]):\n",
    "        text = df.iloc[i]\n",
    "        text_lemm = mystem.lemmatize(text)\n",
    "        text_lemm = \"\".join(text_lemm)\n",
    "#         text = text.split()\n",
    "#         text_stem = ' '.join(list(map(lambda x: lemmatizer.lemmatize(x), text)))\n",
    "        text_lemm = text_lemm.replace('\\n',\"\")\n",
    "        df.iloc[i] = text_lemm\n",
    "    return df\n",
    "\n",
    "def tokenization(df):\n",
    "    for i in range(df.shape[0]):\n",
    "        text = str(df.iloc[i])\n",
    "        tokens = list(tokenize(text))\n",
    "        text_tokenized = [_.text for _ in tokens]\n",
    "        df.iloc[i] = text_tokenized\n",
    "    return df\n",
    "\n",
    "def form_dict(df):\n",
    "    dictionary = dict()\n",
    "    j = 1\n",
    "    for i in range(df.shape[0]):\n",
    "        text = df.iloc[i]\n",
    "        for word in text:\n",
    "            if (word in dictionary) == False:\n",
    "                dictionary[word] = j\n",
    "                j+=1\n",
    "    return dictionary"
   ]
  },
  {
   "cell_type": "code",
   "execution_count": 447,
   "id": "cf0779be",
   "metadata": {
    "cellId": "dv380mbgycv2zb8mop73o6"
   },
   "outputs": [],
   "source": [
    "df_no_punc = delete_punc(df).copy()\n",
    "df_filtered = del_stopwords(df_no_punc).copy()\n",
    "df_no_dig = del_digits(df_filtered).copy() \n",
    "df_lemmatized = lemmatizing(df_no_dig).copy()\n",
    "df_tokenized = tokenization(df_lemmatized).copy()"
   ]
  },
  {
   "cell_type": "code",
   "execution_count": 457,
   "id": "5853e2d0",
   "metadata": {
    "cellId": "eozuwsd0hj93nixy80bb25"
   },
   "outputs": [],
   "source": [
    "df_lemmatized = df_lemmatized.apply(lambda x: \" \".join(x))"
   ]
  },
  {
   "cell_type": "code",
   "execution_count": 458,
   "id": "929db7df",
   "metadata": {
    "cellId": "fdj3xfri3mtv4ycds47a4o"
   },
   "outputs": [],
   "source": [
    "pd.concat((df_lemmatized, trg_sent), axis=1).to_csv(\"/home/jupyter/mnt/s3/newbacketttt/data_lemmatised.csv\")"
   ]
  },
  {
   "cell_type": "markdown",
   "id": "42a16cd9",
   "metadata": {
    "cellId": "fj69vcgtc3pei9tw1hq0ac"
   },
   "source": [
    "# Категории"
   ]
  },
  {
   "cell_type": "code",
   "execution_count": 460,
   "id": "dd79da25",
   "metadata": {
    "cellId": "3capmit67ajrjygcezk2cr"
   },
   "outputs": [],
   "source": [
    "cat_3 = [] # переменная для тех предложений в которых все оценки разные\n",
    "cat_2 = [] # для тех предложений в которых 2 оценки разнятся\n",
    "cat_big = []\n",
    "what = []\n",
    "for sntnc in data['sentence'].unique():\n",
    "    if data[data[\"1category\"] == sntnc][\"1category\"].nunique() == 3:\n",
    "        cat_3.append(sntnc)\n",
    "    elif len(data[data[\"1category\"] == sntnc][\"1category\"]) > 3:\n",
    "        cat_big.append(sntnc)\n",
    "    elif (data[data[\"1category\"] == sntnc][\"1category\"].nunique() == 2):\n",
    "        join_cat = np.array(data[data[\"1category\"] == cat][\"1category\"])\n",
    "        cat_2.append((sntnc, join_cat))\n",
    "    elif data[data[\"1category\"] == cat][\"1category\"].nunique() != 1: what.append(cat)"
   ]
  },
  {
   "cell_type": "code",
   "execution_count": 531,
   "id": "9594b724",
   "metadata": {
    "cellId": "3gaocq5iyeeqxljfwb5l9n"
   },
   "outputs": [],
   "source": [
    "df_new_test = pd.read_csv('/home/jupyter/mnt/s3/newbacketttt/1sentencenewtest.csv')"
   ]
  }
 ],
 "metadata": {
  "language_info": {
   "codemirror_mode": {
    "name": "ipython",
    "version": 3
   },
   "file_extension": ".py",
   "mimetype": "text/x-python",
   "name": "python",
   "nbconvert_exporter": "python",
   "pygments_lexer": "ipython3",
   "version": "3.7.7"
  },
  "notebookId": "08160fd5-f614-4632-8db0-61f319a7cf35",
  "notebookPath": "Untitled.ipynb"
 },
 "nbformat": 4,
 "nbformat_minor": 5
}
