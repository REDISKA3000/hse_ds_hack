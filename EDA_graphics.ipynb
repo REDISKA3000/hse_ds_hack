{
 "cells": [
  {
   "cell_type": "code",
   "execution_count": 663,
   "id": "90bc99d8",
   "metadata": {
    "cellId": "dq0uqwf8jpnlmqxsaanjzl"
   },
   "outputs": [
    {
     "name": "stdout",
     "output_type": "stream",
     "text": [
      "Defaulting to user installation because normal site-packages is not writeable\n",
      "Requirement already satisfied: pymystem3 in /home/jupyter/.local/lib/python3.8/site-packages (0.2.0)\n",
      "Requirement already satisfied: requests in /kernel/lib/python3.8/site-packages (from pymystem3) (2.28.2)\n",
      "Requirement already satisfied: charset-normalizer<4,>=2 in /kernel/lib/python3.8/site-packages (from requests->pymystem3) (3.1.0)\n",
      "Requirement already satisfied: idna<4,>=2.5 in /kernel/lib/python3.8/site-packages (from requests->pymystem3) (3.4)\n",
      "Requirement already satisfied: certifi>=2017.4.17 in /kernel/lib/python3.8/site-packages (from requests->pymystem3) (2022.12.7)\n",
      "Requirement already satisfied: urllib3<1.27,>=1.21.1 in /kernel/lib/python3.8/site-packages (from requests->pymystem3) (1.26.15)\n",
      "\u001b[33mWARNING: You are using pip version 21.3.1; however, version 23.0.1 is available.\n",
      "You should consider upgrading via the '/usr/local/bin/python3 -m pip install --upgrade pip' command.\u001b[0m\n"
     ]
    }
   ],
   "source": [
    "%pip install pymystem3"
   ]
  },
  {
   "cell_type": "code",
   "execution_count": 665,
   "id": "ca0a1a3b",
   "metadata": {
    "cellId": "4x4vqve5opvhj5iyrbvhb"
   },
   "outputs": [],
   "source": [
    "import torch\n",
    "import nltk\n",
    "import matplotlib.pyplot as plt\n",
    "import seaborn as sns\n",
    "import pandas as pd\n",
    "from tqdm import tqdm"
   ]
  },
  {
   "cell_type": "code",
   "execution_count": 666,
   "id": "286f5cc3",
   "metadata": {
    "cellId": "k8x53tmnl0paui3gu36rwg"
   },
   "outputs": [
    {
     "name": "stderr",
     "output_type": "stream",
     "text": [
      "[nltk_data] Downloading package stopwords to\n",
      "[nltk_data]     /home/jupyter/nltk_data...\n",
      "[nltk_data]   Package stopwords is already up-to-date!\n",
      "[nltk_data] Downloading package wordnet to /home/jupyter/nltk_data...\n",
      "[nltk_data]   Package wordnet is already up-to-date!\n"
     ]
    }
   ],
   "source": [
    "import string\n",
    "import pandas as pd\n",
    "import torch\n",
    "import natasha\n",
    "from razdel import tokenize, sentenize\n",
    "import nltk\n",
    "from nltk.stem import WordNetLemmatizer\n",
    "nltk.download('stopwords')\n",
    "nltk.download('wordnet')\n",
    "from nltk.corpus import stopwords\n",
    "from string import digits\n",
    "from pymystem3 import Mystem\n",
    "mystem = Mystem()"
   ]
  },
  {
   "cell_type": "code",
   "execution_count": 664,
   "id": "dcfae772",
   "metadata": {
    "cellId": "t3ivxhuxn7xzdenlyyjyi"
   },
   "outputs": [
    {
     "name": "stdout",
     "output_type": "stream",
     "text": [
      "Defaulting to user installation because normal site-packages is not writeable\n",
      "Requirement already satisfied: natasha in /home/jupyter/.local/lib/python3.8/site-packages (1.5.0)\n",
      "Requirement already satisfied: ipymarkup>=0.8.0 in /home/jupyter/.local/lib/python3.8/site-packages (from natasha) (0.9.0)\n",
      "Requirement already satisfied: razdel>=0.5.0 in /home/jupyter/.local/lib/python3.8/site-packages (from natasha) (0.5.0)\n",
      "Requirement already satisfied: yargy>=0.14.0 in /home/jupyter/.local/lib/python3.8/site-packages (from natasha) (0.15.1)\n",
      "Requirement already satisfied: pymorphy2 in /usr/local/lib/python3.8/dist-packages (from natasha) (0.9.1)\n",
      "Requirement already satisfied: slovnet>=0.6.0 in /home/jupyter/.local/lib/python3.8/site-packages (from natasha) (0.6.0)\n",
      "Requirement already satisfied: navec>=0.9.0 in /home/jupyter/.local/lib/python3.8/site-packages (from natasha) (0.10.0)\n",
      "Requirement already satisfied: intervaltree>=3 in /home/jupyter/.local/lib/python3.8/site-packages (from ipymarkup>=0.8.0->natasha) (3.1.0)\n",
      "Requirement already satisfied: numpy in /usr/local/lib/python3.8/dist-packages (from navec>=0.9.0->natasha) (1.19.2)\n",
      "Requirement already satisfied: docopt>=0.6 in /usr/local/lib/python3.8/dist-packages (from pymorphy2->natasha) (0.6.2)\n",
      "Requirement already satisfied: pymorphy2-dicts-ru<3.0,>=2.4 in /usr/local/lib/python3.8/dist-packages (from pymorphy2->natasha) (2.4.417127.4579844)\n",
      "Requirement already satisfied: dawg-python>=0.7.1 in /usr/local/lib/python3.8/dist-packages (from pymorphy2->natasha) (0.7.2)\n",
      "Requirement already satisfied: sortedcontainers<3.0,>=2.0 in /home/jupyter/.local/lib/python3.8/site-packages (from intervaltree>=3->ipymarkup>=0.8.0->natasha) (2.4.0)\n",
      "\u001b[33mWARNING: You are using pip version 21.3.1; however, version 23.0.1 is available.\n",
      "You should consider upgrading via the '/usr/local/bin/python3 -m pip install --upgrade pip' command.\u001b[0m\n"
     ]
    }
   ],
   "source": [
    "%pip install natasha"
   ]
  },
  {
   "cell_type": "code",
   "execution_count": 674,
   "id": "def700d9",
   "metadata": {
    "cellId": "j7n2u5ckc4o0boloyqnqc"
   },
   "outputs": [],
   "source": [
    "ds = pd.read_csv('/home/jupyter/mnt/s3/newbacketttt/train.csv')"
   ]
  },
  {
   "cell_type": "code",
   "execution_count": 675,
   "id": "e6cf2097",
   "metadata": {
    "cellId": "lxta7t2f36sjqjd6eem7d"
   },
   "outputs": [
    {
     "data": {
      "text/html": [
       "<div>\n",
       "<style scoped>\n",
       "    .dataframe tbody tr th:only-of-type {\n",
       "        vertical-align: middle;\n",
       "    }\n",
       "\n",
       "    .dataframe tbody tr th {\n",
       "        vertical-align: top;\n",
       "    }\n",
       "\n",
       "    .dataframe thead th {\n",
       "        text-align: right;\n",
       "    }\n",
       "</style>\n",
       "<table border=\"1\" class=\"dataframe\">\n",
       "  <thead>\n",
       "    <tr style=\"text-align: right;\">\n",
       "      <th></th>\n",
       "      <th>Unnamed: 0</th>\n",
       "      <th>sentence</th>\n",
       "      <th>1category</th>\n",
       "      <th>2category</th>\n",
       "      <th>sentiment</th>\n",
       "    </tr>\n",
       "  </thead>\n",
       "  <tbody>\n",
       "    <tr>\n",
       "      <th>0</th>\n",
       "      <td>4754</td>\n",
       "      <td>При этом всегда получал качественные услуги.</td>\n",
       "      <td>Communication</td>\n",
       "      <td>NaN</td>\n",
       "      <td>+</td>\n",
       "    </tr>\n",
       "    <tr>\n",
       "      <th>1</th>\n",
       "      <td>4417</td>\n",
       "      <td>Не вижу, за что хотя бы 2 поставить, сервис на 1!</td>\n",
       "      <td>?</td>\n",
       "      <td>NaN</td>\n",
       "      <td>−</td>\n",
       "    </tr>\n",
       "    <tr>\n",
       "      <th>2</th>\n",
       "      <td>3629</td>\n",
       "      <td>Вот так \"Мой любимый\" банк МКБ меня обманул.</td>\n",
       "      <td>?</td>\n",
       "      <td>NaN</td>\n",
       "      <td>−</td>\n",
       "    </tr>\n",
       "    <tr>\n",
       "      <th>3</th>\n",
       "      <td>11640</td>\n",
       "      <td>Отвратительное отношение к клиентам.</td>\n",
       "      <td>Communication</td>\n",
       "      <td>NaN</td>\n",
       "      <td>−</td>\n",
       "    </tr>\n",
       "    <tr>\n",
       "      <th>4</th>\n",
       "      <td>5571</td>\n",
       "      <td>Всегда в любое время дня и ночи помогут, ответ...</td>\n",
       "      <td>Communication</td>\n",
       "      <td>NaN</td>\n",
       "      <td>+</td>\n",
       "    </tr>\n",
       "  </tbody>\n",
       "</table>\n",
       "</div>"
      ],
      "text/plain": [
       "   Unnamed: 0  ... sentiment\n",
       "0        4754  ...         +\n",
       "1        4417  ...         −\n",
       "2        3629  ...         −\n",
       "3       11640  ...         −\n",
       "4        5571  ...         +\n",
       "\n",
       "[5 rows x 5 columns]"
      ]
     },
     "execution_count": 675,
     "metadata": {},
     "output_type": "execute_result"
    }
   ],
   "source": [
    "ds.head()"
   ]
  },
  {
   "cell_type": "markdown",
   "id": "32f5b0a0",
   "metadata": {
    "cellId": "70y055ip5ymwde6jbnssg",
    "execution_id": "13d6d8c0-9485-4442-a18e-43b28d1c9e35"
   },
   "source": [
    "## Preprocessing"
   ]
  },
  {
   "cell_type": "code",
   "execution_count": 676,
   "id": "9c9ba003",
   "metadata": {
    "cellId": "97sguffcihr4a97spojerj"
   },
   "outputs": [],
   "source": [
    "ds = ds.drop('2category', axis = 1)"
   ]
  },
  {
   "cell_type": "code",
   "execution_count": 677,
   "id": "eb0b803b",
   "metadata": {
    "cellId": "g4p9peyesprc167e40rzqi"
   },
   "outputs": [],
   "source": [
    "ds = ds.rename(columns = {'Unnamed: 0': 'id'})"
   ]
  },
  {
   "cell_type": "code",
   "execution_count": 678,
   "id": "31554dbf",
   "metadata": {
    "cellId": "urvotrt3r3hahivo5qjf6"
   },
   "outputs": [],
   "source": [
    "# target = ds[['1category','sentiment']]\n",
    "trg_cat = ds['1category']\n",
    "trg_sent = ds['sentiment']\n",
    "\n",
    "trg_cat_dum = pd.get_dummies(trg_cat)\n",
    "trg_cat_dum = pd.get_dummies(trg_sent)"
   ]
  },
  {
   "cell_type": "code",
   "execution_count": 347,
   "id": "56876b5f",
   "metadata": {
    "cellId": "6ege5rg14exksk90891eb9"
   },
   "outputs": [
    {
     "data": {
      "text/html": [
       "<div>\n",
       "<style scoped>\n",
       "    .dataframe tbody tr th:only-of-type {\n",
       "        vertical-align: middle;\n",
       "    }\n",
       "\n",
       "    .dataframe tbody tr th {\n",
       "        vertical-align: top;\n",
       "    }\n",
       "\n",
       "    .dataframe thead th {\n",
       "        text-align: right;\n",
       "    }\n",
       "</style>\n",
       "<table border=\"1\" class=\"dataframe\">\n",
       "  <thead>\n",
       "    <tr style=\"text-align: right;\">\n",
       "      <th></th>\n",
       "      <th>+</th>\n",
       "      <th>?</th>\n",
       "      <th>−</th>\n",
       "    </tr>\n",
       "  </thead>\n",
       "  <tbody>\n",
       "    <tr>\n",
       "      <th>0</th>\n",
       "      <td>1</td>\n",
       "      <td>0</td>\n",
       "      <td>0</td>\n",
       "    </tr>\n",
       "    <tr>\n",
       "      <th>1</th>\n",
       "      <td>0</td>\n",
       "      <td>0</td>\n",
       "      <td>1</td>\n",
       "    </tr>\n",
       "    <tr>\n",
       "      <th>2</th>\n",
       "      <td>0</td>\n",
       "      <td>0</td>\n",
       "      <td>1</td>\n",
       "    </tr>\n",
       "    <tr>\n",
       "      <th>3</th>\n",
       "      <td>0</td>\n",
       "      <td>0</td>\n",
       "      <td>1</td>\n",
       "    </tr>\n",
       "    <tr>\n",
       "      <th>4</th>\n",
       "      <td>1</td>\n",
       "      <td>0</td>\n",
       "      <td>0</td>\n",
       "    </tr>\n",
       "    <tr>\n",
       "      <th>...</th>\n",
       "      <td>...</td>\n",
       "      <td>...</td>\n",
       "      <td>...</td>\n",
       "    </tr>\n",
       "    <tr>\n",
       "      <th>19356</th>\n",
       "      <td>0</td>\n",
       "      <td>0</td>\n",
       "      <td>1</td>\n",
       "    </tr>\n",
       "    <tr>\n",
       "      <th>19357</th>\n",
       "      <td>0</td>\n",
       "      <td>0</td>\n",
       "      <td>1</td>\n",
       "    </tr>\n",
       "    <tr>\n",
       "      <th>19358</th>\n",
       "      <td>1</td>\n",
       "      <td>0</td>\n",
       "      <td>0</td>\n",
       "    </tr>\n",
       "    <tr>\n",
       "      <th>19359</th>\n",
       "      <td>1</td>\n",
       "      <td>0</td>\n",
       "      <td>0</td>\n",
       "    </tr>\n",
       "    <tr>\n",
       "      <th>19360</th>\n",
       "      <td>0</td>\n",
       "      <td>0</td>\n",
       "      <td>1</td>\n",
       "    </tr>\n",
       "  </tbody>\n",
       "</table>\n",
       "<p>19361 rows × 3 columns</p>\n",
       "</div>"
      ],
      "text/plain": [
       "       +  ?  −\n",
       "0      1  0  0\n",
       "1      0  0  1\n",
       "2      0  0  1\n",
       "3      0  0  1\n",
       "4      1  0  0\n",
       "...   .. .. ..\n",
       "19356  0  0  1\n",
       "19357  0  0  1\n",
       "19358  1  0  0\n",
       "19359  1  0  0\n",
       "19360  0  0  1\n",
       "\n",
       "[19361 rows x 3 columns]"
      ]
     },
     "execution_count": 347,
     "metadata": {},
     "output_type": "execute_result"
    }
   ],
   "source": [
    "trg_cat_dum"
   ]
  },
  {
   "cell_type": "code",
   "execution_count": 679,
   "id": "1e86f815",
   "metadata": {
    "cellId": "7w6z6kf9igja7hlsluuki"
   },
   "outputs": [],
   "source": [
    "df = ds['sentence'].copy()"
   ]
  },
  {
   "cell_type": "code",
   "execution_count": 349,
   "id": "116c14eb",
   "metadata": {
    "cellId": "0fo2cvd81kps7557odb3sc3"
   },
   "outputs": [
    {
     "data": {
      "text/plain": [
       "0         При этом всегда получал качественные услуги.\n",
       "1    Не вижу, за что хотя бы 2 поставить, сервис на 1!\n",
       "2         Вот так \"Мой любимый\" банк МКБ меня обманул.\n",
       "3                 Отвратительное отношение к клиентам.\n",
       "4    Всегда в любое время дня и ночи помогут, ответ...\n",
       "5      Все время согласовывалось, всё делалось быстро.\n",
       "6    Абсолютное бездействие и нежелание банка работ...\n",
       "7    Первая операция на внесение 122 000 руб. была ...\n",
       "8    Ну почему я опять должен звонить и платить ден...\n",
       "9    Получив карту \"Кредит в кармане\" и две бесплат...\n",
       "Name: sentence, dtype: object"
      ]
     },
     "execution_count": 349,
     "metadata": {},
     "output_type": "execute_result"
    }
   ],
   "source": [
    "df.head(10)"
   ]
  },
  {
   "cell_type": "markdown",
   "id": "411384b7",
   "metadata": {
    "cellId": "dled62c4ed2b2vg1dxh9y",
    "execution_id": "9db925d4-fa6b-4acc-8d36-0fccc2d6df02"
   },
   "source": [
    "## Delete punctuation"
   ]
  },
  {
   "cell_type": "code",
   "execution_count": 680,
   "id": "f3b931c2",
   "metadata": {
    "cellId": "wt1sq5y82nhk36gy5bg4yf"
   },
   "outputs": [],
   "source": [
    "def delete_punc(df):\n",
    "    for i in range(df.shape[0]):\n",
    "        text = df.loc[i]\n",
    "        text_new = text.translate (str.maketrans('', '', string.punctuation))\n",
    "        df.loc[i] = text_new\n",
    "    return df"
   ]
  },
  {
   "cell_type": "code",
   "execution_count": 681,
   "id": "12ecd066",
   "metadata": {
    "cellId": "f23upxpr9v9gqzljkl7sjp"
   },
   "outputs": [],
   "source": [
    "df_no_punc = delete_punc(df)"
   ]
  },
  {
   "cell_type": "code",
   "execution_count": 352,
   "id": "71aab5ef",
   "metadata": {
    "cellId": "gfibad5ga0evvmc9a6xjti"
   },
   "outputs": [
    {
     "data": {
      "text/plain": [
       "0          При этом всегда получал качественные услуги\n",
       "1       Не вижу за что хотя бы 2 поставить сервис на 1\n",
       "2            Вот так Мой любимый банк МКБ меня обманул\n",
       "3                  Отвратительное отношение к клиентам\n",
       "4    Всегда в любое время дня и ночи помогут ответя...\n",
       "5        Все время согласовывалось всё делалось быстро\n",
       "6    Абсолютное бездействие и нежелание банка работ...\n",
       "7    Первая операция на внесение 122 000 руб была у...\n",
       "8    Ну почему я опять должен звонить и платить ден...\n",
       "9    Получив карту Кредит в кармане и две бесплатны...\n",
       "Name: sentence, dtype: object"
      ]
     },
     "execution_count": 352,
     "metadata": {},
     "output_type": "execute_result"
    }
   ],
   "source": [
    "df.head(10)"
   ]
  },
  {
   "cell_type": "markdown",
   "id": "fae7dbd6",
   "metadata": {
    "cellId": "e5dlyhw3ergdgapl0yjk",
    "execution_id": "c0934caa-0c06-4b08-9a5c-d71ec999864b"
   },
   "source": [
    "## Delete stopwords"
   ]
  },
  {
   "cell_type": "code",
   "execution_count": 682,
   "id": "c5df5b23",
   "metadata": {
    "cellId": "hb7q6bilevbi7rkz7np2i"
   },
   "outputs": [],
   "source": [
    "def del_stopwords(df):\n",
    "    for i in range(df.shape[0]):\n",
    "        text = df.loc[i]\n",
    "        text = text.split()\n",
    "        text_filtered = \" \".join([word for word in text if word not in stopwords.words('russian')])\n",
    "        df.loc[i] = text_filtered.lower()\n",
    "    return df"
   ]
  },
  {
   "cell_type": "code",
   "execution_count": 683,
   "id": "bb95ebca",
   "metadata": {
    "cellId": "1pwdaptqwefbwziah50ohj"
   },
   "outputs": [],
   "source": [
    "df_filtered = del_stopwords(df_no_punc).copy()"
   ]
  },
  {
   "cell_type": "code",
   "execution_count": 355,
   "id": "25397e52",
   "metadata": {
    "cellId": "4dvkqe6bintyu9lrmz1e9"
   },
   "outputs": [
    {
     "data": {
      "text/plain": [
       "0                      при получал качественные услуги\n",
       "1                    не вижу хотя 2 поставить сервис 1\n",
       "2                     вот мой любимый банк мкб обманул\n",
       "3                    отвратительное отношение клиентам\n",
       "4    всегда любое время дня ночи помогут ответят решат\n",
       "Name: sentence, dtype: object"
      ]
     },
     "execution_count": 355,
     "metadata": {},
     "output_type": "execute_result"
    }
   ],
   "source": [
    "df_filtered.head()"
   ]
  },
  {
   "cell_type": "markdown",
   "id": "fc340dc1",
   "metadata": {
    "cellId": "88tbwmft98hmhjbvlz37a",
    "execution_id": "4b22811d-5ffd-4684-978d-df0e05bd9023"
   },
   "source": [
    "## Delete digits"
   ]
  },
  {
   "cell_type": "code",
   "execution_count": 688,
   "id": "fdcfca84",
   "metadata": {
    "cellId": "v02l48iv3zkpf7s4osl51"
   },
   "outputs": [],
   "source": [
    "import re"
   ]
  },
  {
   "cell_type": "code",
   "execution_count": 689,
   "id": "b8e0d8e8",
   "metadata": {
    "cellId": "shek0jqz8ndsjmjxf73r5"
   },
   "outputs": [],
   "source": [
    "def del_digits(df):\n",
    "    for i in range(df.shape[0]):\n",
    "        text = df.loc[i].split()\n",
    "        text_filtered = [word for word in text if word not in digits]\n",
    "        text_filtered = \" \".join([re.sub('[0-9]', '', i) for i in text_filtered])\n",
    "        df.loc[i] = text_filtered\n",
    "    return df"
   ]
  },
  {
   "cell_type": "code",
   "execution_count": 690,
   "id": "4963979c",
   "metadata": {
    "cellId": "zm87koaocqb18ssoad2qgu"
   },
   "outputs": [],
   "source": [
    "df_no_dig = del_digits(df_filtered).copy() "
   ]
  },
  {
   "cell_type": "code",
   "execution_count": 358,
   "id": "f3adc105",
   "metadata": {
    "cellId": "s88kicqzold3tdxmixwd6"
   },
   "outputs": [
    {
     "data": {
      "text/plain": [
       "0                      при получал качественные услуги\n",
       "1                        не вижу хотя поставить сервис\n",
       "2                     вот мой любимый банк мкб обманул\n",
       "3                    отвратительное отношение клиентам\n",
       "4    всегда любое время дня ночи помогут ответят решат\n",
       "Name: sentence, dtype: object"
      ]
     },
     "execution_count": 358,
     "metadata": {},
     "output_type": "execute_result"
    }
   ],
   "source": [
    "df_no_dig.head()"
   ]
  },
  {
   "cell_type": "markdown",
   "id": "8e7a9839",
   "metadata": {
    "cellId": "5b30snud0hfnqvt9nftmm",
    "execution_id": "953a0be8-0447-4b1a-bbab-181c7ee3f065"
   },
   "source": [
    "# Lemmatization"
   ]
  },
  {
   "cell_type": "code",
   "execution_count": 691,
   "id": "15d99135",
   "metadata": {
    "cellId": "w2cuc0967hfm1gzk36t6sk"
   },
   "outputs": [],
   "source": [
    "def lemmatizing(df, lemmatizer):\n",
    "    for i in range(df.shape[0]):\n",
    "        text = df.loc[i]\n",
    "        text_lemm = mystem.lemmatize(text)\n",
    "        text_lemm = \"\".join(text_lemm)\n",
    "#         text = text.split()\n",
    "#         text_stem = ' '.join(list(map(lambda x: lemmatizer.lemmatize(x), text)))\n",
    "        text_lemm = text_lemm.replace('\\n',\"\")\n",
    "        df.loc[i] = text_lemm\n",
    "    return df"
   ]
  },
  {
   "cell_type": "code",
   "execution_count": 692,
   "id": "e958868d",
   "metadata": {
    "cellId": "5t40i12gkp5i87pthl40p"
   },
   "outputs": [],
   "source": [
    "df_lemmatized = lemmatizing(df_no_dig, WordNetLemmatizer()).copy()"
   ]
  },
  {
   "cell_type": "code",
   "execution_count": 370,
   "id": "97e8d3c4",
   "metadata": {
    "cellId": "hyiy79ik5utxex3uu2o3a"
   },
   "outputs": [
    {
     "data": {
      "text/plain": [
       "0                     при получать качественный услуга\n",
       "1                     не видеть хотя поставлять сервис\n",
       "2                  вот мой любимый банк мкб обманывать\n",
       "3                      отвратительный отношение клиент\n",
       "4    всегда любой время день ночь помогать отвечать...\n",
       "Name: sentence, dtype: object"
      ]
     },
     "execution_count": 370,
     "metadata": {},
     "output_type": "execute_result"
    }
   ],
   "source": [
    "df_lemmatized.head()"
   ]
  },
  {
   "cell_type": "markdown",
   "id": "e8bf37e6",
   "metadata": {
    "cellId": "xww4s4816rq4ga38xwbn",
    "execution_id": "fdef942c-0226-4ebb-a07d-2be4c32bb94d"
   },
   "source": [
    "## Tokenization"
   ]
  },
  {
   "cell_type": "code",
   "execution_count": 693,
   "id": "56e1c6f0",
   "metadata": {
    "cellId": "ebc6xg29o44knxv18zoa3f"
   },
   "outputs": [],
   "source": [
    "def tokenization(df):\n",
    "    for i in range(df.shape[0]):\n",
    "        text = str(df.loc[i])\n",
    "        tokens = list(tokenize(text))\n",
    "        text_tokenized = [_.text for _ in tokens]\n",
    "        df.loc[i] = text_tokenized\n",
    "    return df"
   ]
  },
  {
   "cell_type": "code",
   "execution_count": 694,
   "id": "a8927360",
   "metadata": {
    "cellId": "0r58fj76qmyfsl8tcn0v76"
   },
   "outputs": [],
   "source": [
    "df_tokenized = tokenization(df_lemmatized).copy()"
   ]
  },
  {
   "cell_type": "code",
   "execution_count": 385,
   "id": "a96ef6c9",
   "metadata": {
    "cellId": "nuc4426zj39thskhbfwv6"
   },
   "outputs": [
    {
     "data": {
      "text/plain": [
       "0                [при, получать, качественный, услуга]\n",
       "1               [не, видеть, хотя, поставлять, сервис]\n",
       "2           [вот, мой, любимый, банк, мкб, обманывать]\n",
       "3                  [отвратительный, отношение, клиент]\n",
       "4    [всегда, любой, время, день, ночь, помогать, о...\n",
       "Name: sentence, dtype: object"
      ]
     },
     "execution_count": 385,
     "metadata": {},
     "output_type": "execute_result"
    }
   ],
   "source": [
    "df_tokenized.head()"
   ]
  },
  {
   "cell_type": "markdown",
   "id": "881ef1ad",
   "metadata": {
    "cellId": "b8b0gn4y4n80fxtev79zywb",
    "execution_id": "e713de6d-9320-4abf-acee-b9f083415a20"
   },
   "source": [
    "# Make dictionary"
   ]
  },
  {
   "cell_type": "code",
   "execution_count": 695,
   "id": "e688f662",
   "metadata": {
    "cellId": "pmsqx62twbz84hnjii0wk"
   },
   "outputs": [],
   "source": [
    "def form_dict(df):\n",
    "    dictionary = dict()\n",
    "    j = 0\n",
    "    for i in range(df.shape[0]):\n",
    "        text = df.loc[i]\n",
    "        for word in text:\n",
    "            if (word in dictionary) == False:\n",
    "                dictionary[word] = j\n",
    "                j+=1\n",
    "                \n",
    "    return dictionary"
   ]
  },
  {
   "cell_type": "code",
   "execution_count": 696,
   "id": "7abe9446",
   "metadata": {
    "cellId": "tx9o872ofblpsh7624g3p8"
   },
   "outputs": [],
   "source": [
    "dictionary = form_dict(df_tokenized)"
   ]
  },
  {
   "cell_type": "markdown",
   "id": "57b4b149",
   "metadata": {
    "cellId": "yol0di8bn1p3yvkhjkp2",
    "execution_id": "8b78e5fc-05ff-4df9-a9a0-785690e1ba7f"
   },
   "source": [
    "# My"
   ]
  },
  {
   "cell_type": "code",
   "execution_count": 297,
   "id": "0bda81ce",
   "metadata": {
    "cellId": "jya8hvep0hl0lez8wo7u"
   },
   "outputs": [],
   "source": [
    "from tqdm import tqdm"
   ]
  },
  {
   "cell_type": "code",
   "execution_count": 486,
   "id": "ce1f2f94",
   "metadata": {
    "cellId": "dsovvj6t442ip052imp0m"
   },
   "outputs": [
    {
     "data": {
      "text/plain": [
       "['первый', 'операция', 'внесение', '122', '000', 'руб', 'успешно', 'выполнять']"
      ]
     },
     "execution_count": 486,
     "metadata": {},
     "output_type": "execute_result"
    }
   ],
   "source": [
    "df_tokenized[7]"
   ]
  },
  {
   "cell_type": "code",
   "execution_count": 295,
   "id": "c6691342",
   "metadata": {
    "cellId": "j78wzir4pmapalz827r6g"
   },
   "outputs": [
    {
     "data": {
      "text/html": [
       "<div>\n",
       "<style scoped>\n",
       "    .dataframe tbody tr th:only-of-type {\n",
       "        vertical-align: middle;\n",
       "    }\n",
       "\n",
       "    .dataframe tbody tr th {\n",
       "        vertical-align: top;\n",
       "    }\n",
       "\n",
       "    .dataframe thead th {\n",
       "        text-align: right;\n",
       "    }\n",
       "</style>\n",
       "<table border=\"1\" class=\"dataframe\">\n",
       "  <thead>\n",
       "    <tr style=\"text-align: right;\">\n",
       "      <th></th>\n",
       "      <th>id</th>\n",
       "      <th>sentence</th>\n",
       "      <th>1category</th>\n",
       "      <th>sentiment</th>\n",
       "    </tr>\n",
       "  </thead>\n",
       "  <tbody>\n",
       "    <tr>\n",
       "      <th>0</th>\n",
       "      <td>4754</td>\n",
       "      <td>При этом всегда получал качественные услуги.</td>\n",
       "      <td>Communication</td>\n",
       "      <td>+</td>\n",
       "    </tr>\n",
       "    <tr>\n",
       "      <th>1</th>\n",
       "      <td>4417</td>\n",
       "      <td>Не вижу, за что хотя бы 2 поставить, сервис на 1!</td>\n",
       "      <td>?</td>\n",
       "      <td>−</td>\n",
       "    </tr>\n",
       "    <tr>\n",
       "      <th>2</th>\n",
       "      <td>3629</td>\n",
       "      <td>Вот так \"Мой любимый\" банк МКБ меня обманул.</td>\n",
       "      <td>?</td>\n",
       "      <td>−</td>\n",
       "    </tr>\n",
       "    <tr>\n",
       "      <th>3</th>\n",
       "      <td>11640</td>\n",
       "      <td>Отвратительное отношение к клиентам.</td>\n",
       "      <td>Communication</td>\n",
       "      <td>−</td>\n",
       "    </tr>\n",
       "    <tr>\n",
       "      <th>4</th>\n",
       "      <td>5571</td>\n",
       "      <td>Всегда в любое время дня и ночи помогут, ответ...</td>\n",
       "      <td>Communication</td>\n",
       "      <td>+</td>\n",
       "    </tr>\n",
       "    <tr>\n",
       "      <th>...</th>\n",
       "      <td>...</td>\n",
       "      <td>...</td>\n",
       "      <td>...</td>\n",
       "      <td>...</td>\n",
       "    </tr>\n",
       "    <tr>\n",
       "      <th>19356</th>\n",
       "      <td>8004</td>\n",
       "      <td>Никогда и ни в коем случае не открывайте счет ...</td>\n",
       "      <td>Communication</td>\n",
       "      <td>−</td>\n",
       "    </tr>\n",
       "    <tr>\n",
       "      <th>19357</th>\n",
       "      <td>18182</td>\n",
       "      <td>ТИ откровенно забили на качество и развивают с...</td>\n",
       "      <td>Quality</td>\n",
       "      <td>−</td>\n",
       "    </tr>\n",
       "    <tr>\n",
       "      <th>19358</th>\n",
       "      <td>744</td>\n",
       "      <td>Я считаю, это прорыв и лидерство финансовых ус...</td>\n",
       "      <td>?</td>\n",
       "      <td>+</td>\n",
       "    </tr>\n",
       "    <tr>\n",
       "      <th>19359</th>\n",
       "      <td>6220</td>\n",
       "      <td>Писал мужчина очень доходчиво, не финансовым я...</td>\n",
       "      <td>Communication</td>\n",
       "      <td>+</td>\n",
       "    </tr>\n",
       "    <tr>\n",
       "      <th>19360</th>\n",
       "      <td>8433</td>\n",
       "      <td>Данная ситуация меня сильно выбила из колеи, и...</td>\n",
       "      <td>Communication</td>\n",
       "      <td>−</td>\n",
       "    </tr>\n",
       "  </tbody>\n",
       "</table>\n",
       "<p>19361 rows × 4 columns</p>\n",
       "</div>"
      ],
      "text/plain": [
       "          id  ... sentiment\n",
       "0       4754  ...         +\n",
       "1       4417  ...         −\n",
       "2       3629  ...         −\n",
       "3      11640  ...         −\n",
       "4       5571  ...         +\n",
       "...      ...  ...       ...\n",
       "19356   8004  ...         −\n",
       "19357  18182  ...         −\n",
       "19358    744  ...         +\n",
       "19359   6220  ...         +\n",
       "19360   8433  ...         −\n",
       "\n",
       "[19361 rows x 4 columns]"
      ]
     },
     "execution_count": 295,
     "metadata": {},
     "output_type": "execute_result"
    }
   ],
   "source": [
    "ds"
   ]
  },
  {
   "cell_type": "code",
   "execution_count": 388,
   "id": "f032dc1b",
   "metadata": {
    "cellId": "fyzuwnwx8kbffnjt2d6imh"
   },
   "outputs": [],
   "source": [
    "dict_uniq = set()\n",
    "\n",
    "for i in df_tokenized:\n",
    "    for j in i:\n",
    "        dict_uniq.add(j)"
   ]
  },
  {
   "cell_type": "code",
   "execution_count": 389,
   "id": "2ecc60db",
   "metadata": {
    "cellId": "x78jjtx4i3irlcb3oef2kc"
   },
   "outputs": [
    {
     "data": {
      "text/plain": [
       "19361"
      ]
     },
     "execution_count": 389,
     "metadata": {},
     "output_type": "execute_result"
    }
   ],
   "source": [
    "len(df_tokenized)"
   ]
  },
  {
   "cell_type": "code",
   "execution_count": 390,
   "id": "ed932ea6",
   "metadata": {
    "cellId": "eno6qodhkkpq2fbhns4alm"
   },
   "outputs": [
    {
     "data": {
      "text/plain": [
       "9604"
      ]
     },
     "execution_count": 390,
     "metadata": {},
     "output_type": "execute_result"
    }
   ],
   "source": [
    "len(dict_uniq)"
   ]
  },
  {
   "cell_type": "markdown",
   "id": "cab13f93",
   "metadata": {
    "cellId": "qh8sy2kxwarutw41khf3f",
    "execution_id": "708ca561-1e03-4263-8100-2b88a518821f"
   },
   "source": [
    "# Частотность"
   ]
  },
  {
   "cell_type": "code",
   "execution_count": 706,
   "id": "aa27c34b",
   "metadata": {
    "cellId": "qcn4q8vzefprcfirf6aj4"
   },
   "outputs": [
    {
     "name": "stderr",
     "output_type": "stream",
     "text": [
      "100%|██████████| 8691/8691 [00:59<00:00, 146.50it/s]\n"
     ]
    }
   ],
   "source": [
    "freq_dict = {}\n",
    "\n",
    "# в скольки предложениях есть\n",
    "\n",
    "for i in tqdm(dictionary):\n",
    "    freq_dict[i] = [0, 0, 0] # хочу посмотреть, возможно какое-то слова чаще встречается в негативных или позитивных предложениях\n",
    "    for num, j in enumerate(df_tokenized):\n",
    "        if i in j:\n",
    "            if ds['sentiment'][num] == '+':\n",
    "                freq_dict[i][0] += 1\n",
    "            elif ds['sentiment'][num] == '−':\n",
    "                freq_dict[i][1] += 1\n",
    "            else:\n",
    "                freq_dict[i][2] += 1"
   ]
  },
  {
   "cell_type": "code",
   "execution_count": 727,
   "id": "e6a9d928",
   "metadata": {
    "cellId": "g7hz9xw3r08ycrh0sbfi8"
   },
   "outputs": [],
   "source": [
    "freq_dict_sorted =  dict(sorted(freq_dict.items(), key=lambda item: sum(item[1]), reverse=True))"
   ]
  },
  {
   "cell_type": "code",
   "execution_count": 728,
   "id": "ca10383d",
   "metadata": {
    "cellId": "51g7dsnnb1xv9aqo9qbq4m"
   },
   "outputs": [
    {
     "data": {
      "text/plain": [
       "[0, 0, 8]"
      ]
     },
     "execution_count": 728,
     "metadata": {},
     "output_type": "execute_result"
    }
   ],
   "source": [
    "freq_dict_sorted['хозяин']"
   ]
  },
  {
   "cell_type": "code",
   "execution_count": 729,
   "id": "82baa5b6",
   "metadata": {
    "cellId": "omeadjj8dc1yofvs55sck"
   },
   "outputs": [
    {
     "data": {
      "text/plain": [
       "[0, 0, 8]"
      ]
     },
     "execution_count": 729,
     "metadata": {},
     "output_type": "execute_result"
    }
   ],
   "source": [
    "freq_dict_sorted['южный']"
   ]
  },
  {
   "cell_type": "markdown",
   "id": "0b617a91",
   "metadata": {
    "cellId": "8f3aqmv7cnambhg2xe9fz",
    "execution_id": "2cb511a0-7e6c-4bb8-9e36-7cbb429df281"
   },
   "source": [
    "# Нейтральные слова"
   ]
  },
  {
   "cell_type": "code",
   "execution_count": 722,
   "id": "1aa21480",
   "metadata": {
    "cellId": "y2mur0iruonq22h9mdshs"
   },
   "outputs": [],
   "source": [
    "freq_dict_net = {}\n",
    "\n",
    "for i, j in freq_dict_sorted.items():\n",
    "    freq_dict_net[i] = min(j[2] / max(j[1], 1) * 0.32 / 0.15, j[2] / max(j[0], 1) * 0.52 / 0.15)"
   ]
  },
  {
   "cell_type": "code",
   "execution_count": 723,
   "id": "0b72a755",
   "metadata": {
    "cellId": "zumu8sea9kkkiaop9ia1vo"
   },
   "outputs": [],
   "source": [
    "freq_dict_sorted_net =  dict(sorted(freq_dict_net.items(), key=lambda item: item[1], reverse=True))"
   ]
  },
  {
   "cell_type": "code",
   "execution_count": 724,
   "id": "a02b657b",
   "metadata": {
    "cellId": "foah3a0rewuxdthk0ja2jq",
    "collapsed": true,
    "jupyter": {
     "outputs_hidden": true
    }
   },
   "outputs": [
    {
     "data": {
      "text/plain": [
       "{'безболезненно': 17.066666666666666,\n",
       " 'хозяин': 17.066666666666666,\n",
       " 'южный': 17.066666666666666,\n",
       " 'black': 15.6,\n",
       " 'положено': 14.933333333333335,\n",
       " 'стойка': 14.933333333333335,\n",
       " 'стр': 14.933333333333335,\n",
       " 'совпадение': 14.933333333333335,\n",
       " 'базовый': 12.8,\n",
       " 'рекламный': 12.8,\n",
       " 'корректировка': 12.8,\n",
       " 'южносахалинск': 12.8,\n",
       " 'телекоммуникация': 12.8,\n",
       " 'портфель': 12.8,\n",
       " 'edition': 12.8,\n",
       " 'смсуведомление': 12.8,\n",
       " 'народный': 12.133333333333335,\n",
       " 'стабильный': 12.133333333333335,\n",
       " 'киров': 11.555555555555557,\n",
       " 'прилично': 10.666666666666668,\n",
       " 'premier': 10.666666666666668,\n",
       " 'преддверие': 10.666666666666668,\n",
       " 'оченьочень': 10.666666666666668,\n",
       " 'успокаиваться': 10.666666666666668,\n",
       " 'необычный': 10.666666666666668,\n",
       " 'signature': 10.666666666666668,\n",
       " 'opencard': 10.666666666666668,\n",
       " 'президент': 10.666666666666668,\n",
       " 'универсальный': 10.666666666666668,\n",
       " 'проживание': 10.666666666666668,\n",
       " 'читатель': 10.666666666666668,\n",
       " 'марта': 10.666666666666668,\n",
       " 'подольск': 10.666666666666668,\n",
       " 'приключаться': 10.666666666666668,\n",
       " 'бронировать': 10.666666666666668,\n",
       " 'киевский': 10.666666666666668,\n",
       " 'курский': 10.666666666666668,\n",
       " 'вокзал': 10.666666666666668,\n",
       " 'visa': 10.4,\n",
       " 'непременно': 10.4,\n",
       " 'калининград': 10.4,\n",
       " 'ленинский': 10.4,\n",
       " 'momentum': 10.4,\n",
       " 'travel': 10.4,\n",
       " 'исправно': 10.057142857142859,\n",
       " 'отель': 9.244444444444445,\n",
       " 'оао': 9.066666666666668,\n",
       " 'привязывать': 8.533333333333333,\n",
       " 'аналогичный': 8.533333333333333,\n",
       " 'офигеть': 8.533333333333333,\n",
       " 'сказка': 8.533333333333333,\n",
       " 'хозяйство': 8.533333333333333,\n",
       " 'втбонлайн': 8.533333333333333,\n",
       " 'мсс': 8.533333333333333,\n",
       " 'об': 8.533333333333333,\n",
       " 'связной': 8.533333333333333,\n",
       " 'отсканировать': 8.533333333333333,\n",
       " 'понадеяться': 8.533333333333333,\n",
       " 'рассказ': 8.533333333333333,\n",
       " 'вал': 8.533333333333333,\n",
       " 'пушкин': 8.533333333333333,\n",
       " 'запоминаться': 8.533333333333333,\n",
       " 'зам': 8.533333333333333,\n",
       " 'тревел': 8.533333333333333,\n",
       " 'зарекомендовать': 8.08888888888889,\n",
       " 'мир': 7.466666666666668,\n",
       " 'залог': 6.933333333333334,\n",
       " 'забронировать': 6.933333333333334,\n",
       " 'ситибанка': 6.933333333333334,\n",
       " 'больница': 6.933333333333334,\n",
       " 'платежка': 6.933333333333334,\n",
       " 'лит': 6.933333333333334,\n",
       " 'пройти': 6.933333333333334,\n",
       " 'агрегатор': 6.933333333333334,\n",
       " 'позиционироваться': 6.933333333333334,\n",
       " 'приветственный': 6.933333333333334,\n",
       " 'подъезжать': 6.500000000000001,\n",
       " 'порядочный': 6.4,\n",
       " 'оборот': 6.4,\n",
       " 'самара': 6.4,\n",
       " 'красный': 6.4,\n",
       " 'буква': 6.4,\n",
       " 'добровольный': 6.4,\n",
       " 'спецпредложение': 6.4,\n",
       " 'скачивать': 6.4,\n",
       " 'профильный': 6.4,\n",
       " 'опубликовывать': 6.4,\n",
       " 'qiwi': 6.4,\n",
       " 'таганок': 6.4,\n",
       " 'купон': 6.4,\n",
       " 'холодный': 6.4,\n",
       " 'независимо': 6.4,\n",
       " 'стм': 6.4,\n",
       " 'ливень': 6.4,\n",
       " 'закупать': 6.4,\n",
       " 'приготавливаться': 6.4,\n",
       " '………': 6.4,\n",
       " 'hellip': 6.4,\n",
       " 'детализация': 6.4,\n",
       " 'аудиозапись': 6.4,\n",
       " 'переговоры': 6.4,\n",
       " 'ситуция': 6.4,\n",
       " 'хитрый': 6.4,\n",
       " 'конвертировать': 6.4,\n",
       " 'юноша': 6.4,\n",
       " 'швырять': 6.4,\n",
       " 'образец': 6.4,\n",
       " 'фгуп': 6.4,\n",
       " 'трекномера': 6.4,\n",
       " 'олимпийский': 6.4,\n",
       " 'сверхстчет': 6.4,\n",
       " 'межевой': 6.4,\n",
       " 'переоформление': 6.4,\n",
       " 'земельный': 6.4,\n",
       " 'участок': 6.4,\n",
       " 'лакмусовый': 6.4,\n",
       " 'удостоверяться': 6.4,\n",
       " 'активироваться': 6.4,\n",
       " 'банкикорреспондент': 6.4,\n",
       " 'география': 6.4,\n",
       " 'провинция': 6.4,\n",
       " 'столичный': 6.4,\n",
       " 'подбрюшье': 6.4,\n",
       " 'первопрестольный': 6.4,\n",
       " 'тонко': 6.4,\n",
       " 'райфайзенлент': 6.4,\n",
       " 'безвозмездно': 6.4,\n",
       " 'лента': 6.4,\n",
       " 'raiffeisen': 6.4,\n",
       " 'оправдывать': 6.4,\n",
       " 'марксисткий': 6.4,\n",
       " 'тьфутьфутьфа': 6.4,\n",
       " 'беречь': 6.4,\n",
       " 'снизу': 6.4,\n",
       " 'вверх': 6.4,\n",
       " 'незачем': 6.4,\n",
       " 'абонемент': 6.4,\n",
       " 'екб': 6.4,\n",
       " 'довернность': 6.4,\n",
       " 'корпус': 6.4,\n",
       " 'портмоне': 6.4,\n",
       " 'позволяетда': 6.4,\n",
       " 'почесать': 6.4,\n",
       " 'репа': 6.4,\n",
       " 'поковырять': 6.4,\n",
       " 'нс': 6.4,\n",
       " 'ежегодный': 6.4,\n",
       " 'ромашка': 6.4,\n",
       " 'югра': 6.4,\n",
       " 'ополчение': 6.4,\n",
       " 'разгоаор': 6.4,\n",
       " 'напичал': 6.4,\n",
       " 'банкат': 6.4,\n",
       " 'информациючто': 6.4,\n",
       " 'офисея': 6.4,\n",
       " 'банкачто': 6.4,\n",
       " 'погашенияможно': 6.4,\n",
       " 'пользоватся': 6.4,\n",
       " 'предвещать': 6.4,\n",
       " 'рыбинск': 6.4,\n",
       " 'чардж': 6.4,\n",
       " 'маршрутквитанция': 6.4,\n",
       " 'трансаэро': 6.4,\n",
       " 'мкбонлайн': 6.4,\n",
       " 'футбол': 6.4,\n",
       " 'логотопип': 6.4,\n",
       " 'fifa': 6.4,\n",
       " 'чемпионат': 6.4,\n",
       " 'покрышкин': 6.4,\n",
       " 'вкладка': 6.4,\n",
       " 'калужский': 6.4,\n",
       " 'сосенский': 6.4,\n",
       " 'азс': 6.4,\n",
       " 'отчетный': 6.4,\n",
       " 'каско': 6.4,\n",
       " 'жку': 6.4,\n",
       " 'msk': 6.4,\n",
       " 'услугслучай': 6.4,\n",
       " 'физлица': 6.4,\n",
       " 'приемлить': 6.4,\n",
       " 'способствовать': 6.4,\n",
       " 'мотивированный': 6.4,\n",
       " 'изложение': 6.4,\n",
       " 'местноговременить': 6.4,\n",
       " 'снижение': 6.4,\n",
       " 'смп': 6.4,\n",
       " 'енисейский': 6.4,\n",
       " 'кристальноидеальный': 6.4,\n",
       " 'суперприбыльнуюпо': 6.4,\n",
       " 'икея': 6.4,\n",
       " 'нечестный': 6.4,\n",
       " 'извещение': 6.4,\n",
       " 'скурпулезно': 6.4,\n",
       " 'бюджет': 6.4,\n",
       " 'приятель': 6.4,\n",
       " 'дебил': 6.4,\n",
       " 'ориентировочно': 6.4,\n",
       " 'систематизированно': 6.4,\n",
       " 'милион': 6.4,\n",
       " 'кирочный': 6.4,\n",
       " 'гвардия': 6.4,\n",
       " 'молодежь': 6.4,\n",
       " 'подрастать': 6.4,\n",
       " 'onetwotrip': 6.4,\n",
       " 'округление': 6.4,\n",
       " 'бсжв': 6.4,\n",
       " 'лефорт': 6.4,\n",
       " 'сбонлайн': 6.4,\n",
       " 'экваторный': 6.4,\n",
       " 'островок': 6.4,\n",
       " 'ильич': 6.4,\n",
       " 'одобреный': 6.4,\n",
       " 'маршал': 6.4,\n",
       " 'бирюзовый': 6.4,\n",
       " 'ознакомление': 6.4,\n",
       " 'дсад': 6.4,\n",
       " 'успешноэто': 6.4,\n",
       " 'лкаб': 6.4,\n",
       " 'рубушло': 6.4,\n",
       " 'потратитьисходящий': 6.4,\n",
       " 'сальдо': 6.4,\n",
       " 'гостиница': 6.4,\n",
       " 'жемчужина': 6.4,\n",
       " 'alfa': 6.4,\n",
       " 'rapida': 6.4,\n",
       " 'копирайт': 6.4,\n",
       " 'рапид': 6.4,\n",
       " '©': 6.4,\n",
       " 'авиатор': 6.4,\n",
       " 'старушка': 6.4,\n",
       " 'обнаружение': 6.4,\n",
       " 'отдельность': 6.4,\n",
       " 'ульяновский': 6.4,\n",
       " 'экспорт': 6.4,\n",
       " 'площадка': 6.4,\n",
       " 'торговопромышленный': 6.4,\n",
       " 'палата': 6.4,\n",
       " 'победитель': 6.4,\n",
       " 'патронаж': 6.4,\n",
       " 'тпп': 6.4,\n",
       " 'аккаунт': 6.4,\n",
       " 'кр': 6.4,\n",
       " 'окрылять': 6.4,\n",
       " 'смоленское': 6.4,\n",
       " 'четверг': 6.4,\n",
       " 'разменивать': 6.4,\n",
       " 'подвох': 6.4,\n",
       " 'тетя': 6.4,\n",
       " 'vtbru': 6.4,\n",
       " 'ндфлсправка': 6.4,\n",
       " 'ндфлдекларация': 6.4,\n",
       " 'енвд': 6.4,\n",
       " 'кварталкнига': 6.4,\n",
       " 'кварталсканный': 6.4,\n",
       " 'паспортадоговор': 6.4,\n",
       " 'межкомнатный': 6.4,\n",
       " 'док': 6.4,\n",
       " 'пной': 6.4,\n",
       " 'владивосток': 6.4,\n",
       " 'иркутск': 6.4,\n",
       " 'письмоот': 6.4,\n",
       " 'osbankirudate': 6.4,\n",
       " 'вт': 6.4,\n",
       " 'нояб': 6.4,\n",
       " 'subject': 6.4,\n",
       " 'to': 6.4,\n",
       " 'совздравствовать': 6.4,\n",
       " 'обговаривать': 6.4,\n",
       " 'вытяжение': 6.4,\n",
       " 'наркоз': 6.4,\n",
       " 'пластина': 6.4,\n",
       " 'закручивать': 6.4,\n",
       " 'винт': 6.4,\n",
       " 'кость': 6.4,\n",
       " 'послеоперационный': 6.4,\n",
       " 'ашан': 6.4,\n",
       " 'соблазнительный': 6.4,\n",
       " 'пом': 6.4,\n",
       " 'литера': 6.4,\n",
       " 'ответблагодарить': 6.4,\n",
       " 'прочтение': 6.4,\n",
       " 'ил': 6.4,\n",
       " 'новопесчаный': 6.4,\n",
       " 'годаедать': 6.4,\n",
       " 'дкпптсвсе': 6.4,\n",
       " 'проба': 6.4,\n",
       " 'заемный': 6.4,\n",
       " 'стремянный': 6.4,\n",
       " '•': 6.4,\n",
       " 'идентификациидоговор': 6.4,\n",
       " 'глс': 6.4,\n",
       " 'перваядевушка': 6.4,\n",
       " 'излишний': 6.4,\n",
       " 'букав': 6.4,\n",
       " 'альфабанкаостальное': 6.4,\n",
       " 'миролюбивый': 6.4,\n",
       " 'смарткарта': 6.4,\n",
       " 'превосходноумопомрачительный': 6.4,\n",
       " 'включительно': 6.4,\n",
       " 'присоединение': 6.4,\n",
       " 'плановый': 6.4,\n",
       " 'приближаться': 6.4,\n",
       " 'совершенный': 6.4,\n",
       " 'maes': 6.4,\n",
       " 'bankomat': 6.4,\n",
       " 'акт': 6.4,\n",
       " 'приемапередача': 6.4,\n",
       " 'infobankdomrfru': 6.4,\n",
       " 'максистский': 6.4,\n",
       " 'рижский': 6.4,\n",
       " 'i': 6.4,\n",
       " 'мнина': 6.4,\n",
       " 'подорвать': 6.4,\n",
       " 'зима': 6.4,\n",
       " 'перебираться': 6.4,\n",
       " 'деревенька': 6.4,\n",
       " 'ночной': 6.4,\n",
       " 'свертывать': 6.4,\n",
       " 'резинка': 6.4,\n",
       " 'телгорлиния': 6.4,\n",
       " 'вн': 6.4,\n",
       " 'сверхкарта': 6.4,\n",
       " 'резерв': 6.4,\n",
       " 'airbnb': 6.4,\n",
       " 'plaza': 6.4,\n",
       " 'переславльзалесский': 6.4,\n",
       " 'арендатор': 6.4,\n",
       " 'красногорск': 6.4,\n",
       " 'спасский': 6.4,\n",
       " 'альфастрахованиедо': 6.4,\n",
       " 'выездной': 6.4,\n",
       " 'дока': 6.4,\n",
       " 'сент': 6.4,\n",
       " 'дочка': 6.4,\n",
       " 'студентка': 6.4,\n",
       " 'спбга': 6.4,\n",
       " 'идентифицировалино': 6.4,\n",
       " 'заявлениежалоба': 6.4,\n",
       " 'днейг': 6.4,\n",
       " 'омский': 6.4,\n",
       " 'съездовский': 6.4,\n",
       " 'ргсстрахование': 6.4,\n",
       " 'аэрофлотбонус': 6.4,\n",
       " 'подкапливать': 6.4,\n",
       " 'парутройка': 6.4,\n",
       " 'тыща': 6.4,\n",
       " 'поторапливаться': 6.4,\n",
       " 'жизненный': 6.4,\n",
       " 'силовик': 6.4,\n",
       " 'замерзать': 6.4,\n",
       " 'перевыпускаться': 6.4,\n",
       " 'состоять': 6.4,\n",
       " 'american': 6.4,\n",
       " 'express': 6.4,\n",
       " 'aeroflot': 6.4,\n",
       " 'bonus': 6.4,\n",
       " 'понимать–': 6.4,\n",
       " 'протяжный': 6.4,\n",
       " 'аканье': 6.4,\n",
       " 'бойко': 6.4,\n",
       " 'помочи': 6.4,\n",
       " 'мавлютово': 6.4,\n",
       " 'территориальный': 6.4,\n",
       " 'местоположение': 6.4,\n",
       " 'метр': 6.4,\n",
       " 'ликвидировать': 6.4,\n",
       " 'лейтенант': 6.4,\n",
       " 'шмидт': 6.4,\n",
       " 'торжественный': 6.4,\n",
       " 'церемония': 6.4,\n",
       " 'объединение': 6.4,\n",
       " 'связьбанк': 6.4,\n",
       " 'автоматизировать': 6.4,\n",
       " 'цитата': 6.4,\n",
       " 'недорогой': 6.4,\n",
       " 'поддержание': 6.4,\n",
       " 'беспроблемность': 6.4,\n",
       " 'безналичныхплатеж': 6.4,\n",
       " 'строительный': 6.4,\n",
       " 'заморочка': 6.4,\n",
       " 'невыгрузка': 6.4,\n",
       " 'дду': 6.4,\n",
       " 'догр': 6.4,\n",
       " 'одинцовский': 6.4,\n",
       " 'экакоето': 6.4,\n",
       " 'сотрудниккарт': 6.4,\n",
       " 'павловский': 6.4,\n",
       " 'посад': 6.4,\n",
       " 'герцен': 6.4,\n",
       " 'сечь': 6.4,\n",
       " 'секномер': 6.4,\n",
       " 'мдм': 6.4,\n",
       " 'балашиха': 6.4,\n",
       " 'энтузиаст': 6.4,\n",
       " 'бытовой': 6.4,\n",
       " 'соотввзятый': 6.4,\n",
       " 'плюсбанк': 6.4,\n",
       " 'дпна': 6.4,\n",
       " 'норильск': 6.4,\n",
       " 'хххххххххххх': 6.4,\n",
       " 'ссв': 6.4,\n",
       " 'nn': 6.4,\n",
       " 'суперкэшбек': 6.4,\n",
       " 'каменская': 6.4,\n",
       " 'документооборот': 6.4,\n",
       " 'признательна': 6.4,\n",
       " 'селиванов': 6.4,\n",
       " 'пенза': 6.4,\n",
       " 'засовывать': 6.4,\n",
       " 'миг': 6.4,\n",
       " 'клясться': 6.4,\n",
       " 'аьф': 6.4,\n",
       " 'id': 6.4,\n",
       " 'helpdomclickru': 6.4,\n",
       " 'ipotekasupport': 6.4,\n",
       " 'наглядно': 6.4,\n",
       " 'бескудниково': 6.4,\n",
       " 'гнаться': 6.4,\n",
       " 'кутузовский': 6.4,\n",
       " 'одобрениячто': 6.4,\n",
       " 'практиковать': 6.4,\n",
       " 'мультивалютный': 6.4,\n",
       " 'мастеркард': 6.4,\n",
       " 'айфон': 6.4,\n",
       " 'осенний': 6.4,\n",
       " 'скб': 6.4,\n",
       " 'удаленке': 6.4,\n",
       " 'вырубаться': 6.4,\n",
       " 'смиренно': 6.4,\n",
       " 'брак': 6.4,\n",
       " 'ао': 6.355555555555556,\n",
       " 'путешествие': 6.24,\n",
       " 'тв': 5.777777777777779,\n",
       " 'млн': 5.688888888888889,\n",
       " 'требовательный': 5.688888888888889,\n",
       " 'предварительно': 5.546666666666668,\n",
       " 'надежно': 5.546666666666668,\n",
       " 'инициатива': 5.2,\n",
       " 'финансы': 5.2,\n",
       " 'бц': 5.2,\n",
       " 'подозрительный': 5.2,\n",
       " 'raquo': 5.2,\n",
       " 'марьино': 5.2,\n",
       " 'радушный': 5.2,\n",
       " 'формат': 5.2,\n",
       " 'кред': 5.2,\n",
       " 'балаклавский': 5.2,\n",
       " 'популярный': 5.2,\n",
       " 'тц': 5.2,\n",
       " 'совместный': 5.2,\n",
       " 'сочи': 5.2,\n",
       " 'новосибирск': 5.2,\n",
       " 'запас': 5.2,\n",
       " 'дольщик': 5.2,\n",
       " 'промсвязьбанка': 5.2,\n",
       " 'плюшка': 5.2,\n",
       " 'подтверждение': 5.180952380952381,\n",
       " 'пр': 5.155555555555556,\n",
       " '—': 5.12,\n",
       " 'допофис': 5.12,\n",
       " 'премиальный': 4.977777777777778,\n",
       " 'точный': 4.977777777777778,\n",
       " 'обозначать': 4.977777777777778,\n",
       " 'двойной': 4.977777777777778,\n",
       " 'пинкод': 4.8,\n",
       " 'благо': 4.7666666666666675,\n",
       " 'недвижимость': 4.693333333333334,\n",
       " 'российский': 4.693333333333334,\n",
       " 'обеденный': 4.622222222222223,\n",
       " 'удачно': 4.622222222222223,\n",
       " 'сохранять': 4.622222222222223,\n",
       " 'тыс': 4.460606060606061,\n",
       " 'заранее': 4.419047619047619,\n",
       " 'ул': 4.404301075268817,\n",
       " 'супермаркет': 4.333333333333334,\n",
       " 'добираться': 4.333333333333334,\n",
       " 'командировка': 4.333333333333334,\n",
       " 'вкусный': 4.333333333333334,\n",
       " 'март': 4.266666666666667,\n",
       " 'благополучно': 4.266666666666667,\n",
       " 'премиум': 4.266666666666667,\n",
       " 'опция': 4.266666666666667,\n",
       " 'пробовать': 4.266666666666667,\n",
       " 'радостный': 4.266666666666667,\n",
       " 'свидание': 4.266666666666667,\n",
       " 'поверять': 4.266666666666667,\n",
       " 'отметка': 4.266666666666667,\n",
       " 'элпочта': 4.266666666666667,\n",
       " 'приглашение': 4.266666666666667,\n",
       " 'зависеть': 4.266666666666667,\n",
       " 'недавний': 4.266666666666667,\n",
       " 'посредством': 4.266666666666667,\n",
       " 'предмет': 4.266666666666667,\n",
       " 'разумеется': 4.266666666666667,\n",
       " 'статистика': 4.266666666666667,\n",
       " 'кафе': 4.266666666666667,\n",
       " 'заверение': 4.266666666666667,\n",
       " 'копирка': 4.266666666666667,\n",
       " 'умный': 4.266666666666667,\n",
       " 'желательно': 4.266666666666667,\n",
       " 'вноситься': 4.266666666666667,\n",
       " 'порядочно': 4.266666666666667,\n",
       " 'люберцы': 4.266666666666667,\n",
       " 'кожевнический': 4.266666666666667,\n",
       " 'ультранизкий': 4.266666666666667,\n",
       " 'красотка': 4.266666666666667,\n",
       " 'индусочек': 4.266666666666667,\n",
       " 'фотка': 4.266666666666667,\n",
       " 'токио': 4.266666666666667,\n",
       " 'дорабатывать': 4.266666666666667,\n",
       " 'кредитгой': 4.266666666666667,\n",
       " 'центргде': 4.266666666666667,\n",
       " 'рассмотрениии': 4.266666666666667,\n",
       " 'операционнокассовый': 4.266666666666667,\n",
       " 'вериться': 4.266666666666667,\n",
       " 'радужно': 4.266666666666667,\n",
       " 'настойчивый': 4.266666666666667,\n",
       " 'валентин': 4.266666666666667,\n",
       " 'вероятно': 4.266666666666667,\n",
       " 'поособенному': 4.266666666666667,\n",
       " 'печатямилибо': 4.266666666666667,\n",
       " 'пожаловать': 4.266666666666667,\n",
       " 'объяснитерасскажитеразобраться': 4.266666666666667,\n",
       " 'приток': 4.266666666666667,\n",
       " 'комендантский': 4.266666666666667,\n",
       " 'озерко': 4.266666666666667,\n",
       " 'просвещение': 4.266666666666667,\n",
       " 'миллионный': 4.266666666666667,\n",
       " 'httpswwwbankiruservicesresponsesbankresponse': 4.266666666666667,\n",
       " 'нужноля': 4.266666666666667,\n",
       " 'bp': 4.266666666666667,\n",
       " 'secure': 4.266666666666667,\n",
       " 'почет': 4.266666666666667,\n",
       " 'запятая': 4.266666666666667,\n",
       " 'неповторимый': 4.266666666666667,\n",
       " 'кунг': 4.266666666666667,\n",
       " 'нордеабанк': 4.266666666666667,\n",
       " 'приморский': 4.266666666666667,\n",
       " 'торфяной': 4.266666666666667,\n",
       " 'единодушно': 4.266666666666667,\n",
       " 'полчать': 4.266666666666667,\n",
       " 'хков': 4.266666666666667,\n",
       " 'райффайзенмалина': 4.266666666666667,\n",
       " 'дсжиз': 4.266666666666667,\n",
       " 'нпр': 4.266666666666667,\n",
       " 'утвердительно': 4.266666666666667,\n",
       " 'везение': 4.266666666666667,\n",
       " 'энергомаш': 4.266666666666667,\n",
       " 'вообщевс': 4.266666666666667,\n",
       " 'сбп': 4.266666666666667,\n",
       " 'уволиласьд': 4.266666666666667,\n",
       " 'хвалить': 4.266666666666667,\n",
       " 'расписание': 4.266666666666667,\n",
       " 'услаждать': 4.266666666666667,\n",
       " 'взор': 4.266666666666667,\n",
       " 'ия': 4.266666666666667,\n",
       " 'ак': 4.266666666666667,\n",
       " 'барс': 4.266666666666667,\n",
       " 'унк': 4.266666666666667,\n",
       " 'обеспеченный': 4.266666666666667,\n",
       " 'залогодатель': 4.266666666666667,\n",
       " 'юля': 4.266666666666667,\n",
       " 'проверенный': 4.266666666666667,\n",
       " 'посторонний': 4.266666666666667,\n",
       " 'доставщикблатняк': 4.266666666666667,\n",
       " 'цепь': 4.266666666666667,\n",
       " 'шея': 4.266666666666667,\n",
       " 'екатеринбурка': 4.266666666666667,\n",
       " 'понт': 4.266666666666667,\n",
       " 'гендиректор': 4.266666666666667,\n",
       " 'надвигаться': 4.266666666666667,\n",
       " 'имхо': 4.266666666666667,\n",
       " 'разделять': 4.266666666666667,\n",
       " 'составляющиевс': 4.266666666666667,\n",
       " 'дцать': 4.266666666666667,\n",
       " 'пущий': 4.266666666666667,\n",
       " 'верность': 4.266666666666667,\n",
       " 'получилосьон': 4.266666666666667,\n",
       " 'поучаствовать': 4.266666666666667,\n",
       " 'похвастаться': 4.266666666666667,\n",
       " 'логика': 4.266666666666667,\n",
       " 'онлайнзаявка': 4.266666666666667,\n",
       " 'сослуживец': 4.266666666666667,\n",
       " 'ииии': 4.266666666666667,\n",
       " 'министерство': 4.266666666666667,\n",
       " 'сельский': 4.266666666666667,\n",
       " 'ипотечнымменеджер': 4.266666666666667,\n",
       " 'httpsipotekaonlinevtbru': 4.266666666666667,\n",
       " 'медицинский': 4.266666666666667,\n",
       " 'уж': 4.266666666666667,\n",
       " 'ток': 4.266666666666667,\n",
       " 'отстегивать': 4.266666666666667,\n",
       " 'ть': 4.266666666666667,\n",
       " 'еев': 4.266666666666667,\n",
       " 'сторговывать': 4.266666666666667,\n",
       " 'оговаривать': 4.266666666666667,\n",
       " 'созаемщик': 4.266666666666667,\n",
       " 'отъезд': 4.266666666666667,\n",
       " 'взр': 4.266666666666667,\n",
       " 'переспросилточный': 4.266666666666667,\n",
       " 'фрязинский': 4.266666666666667,\n",
       " 'in': 4.266666666666667,\n",
       " 'чудотерминал': 4.266666666666667,\n",
       " 'земноводный': 4.266666666666667,\n",
       " 'февралятеперь': 4.266666666666667,\n",
       " 'завершать': 4.266666666666667,\n",
       " 'выручка': 4.266666666666667,\n",
       " 'клиентооринтированный': 4.266666666666667,\n",
       " 'кунгур': 4.266666666666667,\n",
       " 'годность': 4.266666666666667,\n",
       " 'гоголь': 4.266666666666667,\n",
       " 'неделька': 4.266666666666667,\n",
       " 'моргнуть': 4.266666666666667,\n",
       " 'принятьпочий': 4.266666666666667,\n",
       " 'упорный': 4.266666666666667,\n",
       " 'автодилер': 4.266666666666667,\n",
       " 'распространяться': 4.266666666666667,\n",
       " 'тест': 4.266666666666667,\n",
       " 'драйв': 4.266666666666667,\n",
       " 'черемушки': 4.266666666666667,\n",
       " 'разок': 4.266666666666667,\n",
       " 'брачный': 4.266666666666667,\n",
       " 'romeomailru': 4.266666666666667,\n",
       " 'клонировать': 4.266666666666667,\n",
       " 'телепортировать': 4.266666666666667,\n",
       " 'новгородский': 4.266666666666667,\n",
       " 'доверяете': 4.266666666666667,\n",
       " 'пс': 4.266666666666667,\n",
       " 'зк': 4.266666666666667,\n",
       " 'хь': 4.266666666666667,\n",
       " 'голливудский': 4.266666666666667,\n",
       " 'герой': 4.266666666666667,\n",
       " 'громоотвод': 4.266666666666667,\n",
       " 'разгневанный': 4.266666666666667,\n",
       " 'просчитываться': 4.266666666666667,\n",
       " 'подробноститетура': 4.266666666666667,\n",
       " 'гладкоот': 4.266666666666667,\n",
       " 'позвониливаша': 4.266666666666667,\n",
       " 'подъехатьвсе': 4.266666666666667,\n",
       " 'справочка': 4.266666666666667,\n",
       " 'можночто': 4.266666666666667,\n",
       " 'вымпел': 4.266666666666667,\n",
       " 'бесплатныйн': 4.266666666666667,\n",
       " 'мотив': 4.266666666666667,\n",
       " 'творческий': 4.266666666666667,\n",
       " 'ангарск': 4.266666666666667,\n",
       " 'бегунок': 4.266666666666667,\n",
       " 'действительночерез': 4.266666666666667,\n",
       " 'покарта': 4.266666666666667,\n",
       " 'цифровой': 4.266666666666667,\n",
       " 'бвк': 4.266666666666667,\n",
       " 'мобильник': 4.266666666666667,\n",
       " 'интернетсми': 4.266666666666667,\n",
       " 'сверхсуперпуперуберклассный': 4.266666666666667,\n",
       " 'покурить': 4.266666666666667,\n",
       " 'подышать': 4.266666666666667,\n",
       " 'ноухау': 4.266666666666667,\n",
       " 'досылать': 4.266666666666667,\n",
       " 'финальный': 4.266666666666667,\n",
       " 'пипл': 4.266666666666667,\n",
       " 'хавать': 4.266666666666667,\n",
       " 'крутить': 4.266666666666667,\n",
       " 'устраиваться': 4.266666666666667,\n",
       " 'вопросыприезжать': 4.266666666666667,\n",
       " 'коллцент': 4.266666666666667,\n",
       " 'evolution': 4.266666666666667,\n",
       " 'созваниваться': 4.266666666666667,\n",
       " 'острый': 4.266666666666667,\n",
       " 'перегиб': 4.266666666666667,\n",
       " 'свершаться': 4.266666666666667,\n",
       " 'чудобинбанк': 4.266666666666667,\n",
       " 'вливаться': 4.266666666666667,\n",
       " 'заплакать': 4.266666666666667,\n",
       " 'поспешно': 4.266666666666667,\n",
       " 'одеваться': 4.266666666666667,\n",
       " 'выборкаотчет': 4.266666666666667,\n",
       " 'отнгошение': 4.266666666666667,\n",
       " 'перенасыщать': 4.266666666666667,\n",
       " 'процентыпо': 4.266666666666667,\n",
       " 'гутабанк': 4.266666666666667,\n",
       " 'гутабанка': 4.266666666666667,\n",
       " 'шза': 4.266666666666667,\n",
       " 'томж': 4.266666666666667,\n",
       " 'искусительница': 4.266666666666667,\n",
       " 'пройтисьпроветриваться': 4.266666666666667,\n",
       " 'назначаться': 4.266666666666667,\n",
       " 'супербыстрый': 4.266666666666667,\n",
       " 'росгосстрах': 4.266666666666667,\n",
       " 'отваживать': 4.266666666666667,\n",
       " 'мерси': 4.266666666666667,\n",
       " 'эмбоссировать': 4.266666666666667,\n",
       " 'пересаживаться': 4.266666666666667,\n",
       " 'признаваться': 4.266666666666667,\n",
       " 'спортивный': 4.266666666666667,\n",
       " 'недурной': 4.266666666666667,\n",
       " 'рокетбанк': 4.266666666666667,\n",
       " 'нужен': 4.266666666666667,\n",
       " 'слеш': 4.266666666666667,\n",
       " 'слоган': 4.266666666666667,\n",
       " 'штатный': 4.266666666666667,\n",
       " 'выдерживаться': 4.266666666666667,\n",
       " 'помучить': 4.266666666666667,\n",
       " 'йуха': 4.266666666666667,\n",
       " 'шиковать': 4.266666666666667,\n",
       " 'чертоффский': 4.266666666666667,\n",
       " 'выделение': 4.266666666666667,\n",
       " 'просрочкипредоставлять': 4.266666666666667,\n",
       " 'иобнаруживать': 4.266666666666667,\n",
       " 'рубкоторый': 4.266666666666667,\n",
       " 'значиться': 4.266666666666667,\n",
       " 'жертва': 4.266666666666667,\n",
       " 'spj': 4.266666666666667,\n",
       " 'lounge': 4.266666666666667,\n",
       " 'key': 4.266666666666667,\n",
       " 'робкий': 4.266666666666667,\n",
       " 'звоноквтба': 4.266666666666667,\n",
       " 'евгеньевич': 4.266666666666667,\n",
       " 'непригодный': 4.266666666666667,\n",
       " 'продлевание': 4.266666666666667,\n",
       " 'страховать': 4.266666666666667,\n",
       " 'сбербанкаоплачивать': 4.266666666666667,\n",
       " 'дебилизм': 4.266666666666667,\n",
       " 'коровий': 4.266666666666667,\n",
       " 'шй': 4.266666666666667,\n",
       " 'шагнуть': 4.266666666666667,\n",
       " 'заветный': 4.266666666666667,\n",
       " 'книжица': 4.266666666666667,\n",
       " 'тиснение': 4.266666666666667,\n",
       " 'новороссийский': 4.266666666666667,\n",
       " 'алексеевка': 4.266666666666667,\n",
       " 'белгородский': 4.266666666666667,\n",
       " 'переезд': 4.266666666666667,\n",
       " 'decathlon': 4.266666666666667,\n",
       " 'разумно': 4.266666666666667,\n",
       " 'ситилинка': 4.266666666666667,\n",
       " 'большевик': 4.266666666666667,\n",
       " 'бакс': 4.266666666666667,\n",
       " 'собеседование': 4.266666666666667,\n",
       " 'собеседованиемя': 4.266666666666667,\n",
       " 'мегакард': 4.266666666666667,\n",
       " 'дорогостоящий': 4.266666666666667,\n",
       " 'учитываться': 4.266666666666667,\n",
       " 'материнский': 4.266666666666667,\n",
       " 'солнечный': 4.266666666666667,\n",
       " 'погода': 4.266666666666667,\n",
       " 'св': 4.266666666666667,\n",
       " 'радостно': 4.266666666666667,\n",
       " 'платиться': 4.266666666666667,\n",
       " 'email': 4.266666666666667,\n",
       " 'утомленный': 4.266666666666667,\n",
       " 'кредитоваться': 4.266666666666667,\n",
       " 'привокзальный': 4.266666666666667,\n",
       " 'шереметьевский': 4.266666666666667,\n",
       " 'строитель': 4.266666666666667,\n",
       " 'обдумывать': 4.266666666666667,\n",
       " 'балтийский': 4.266666666666667,\n",
       " 'спортовары': 4.266666666666667,\n",
       " 'горнолыжный': 4.266666666666667,\n",
       " 'снаряжение': 4.266666666666667,\n",
       " 'краснопресненский': 4.266666666666667,\n",
       " 'ворота': 4.266666666666667,\n",
       " 'застраховывать': 4.266666666666667,\n",
       " 'ингосстрах': 4.266666666666667,\n",
       " 'bookingcom': 4.266666666666667,\n",
       " 'заселение': 4.266666666666667,\n",
       " 'скорринг': 4.266666666666667,\n",
       " 'equifax': 4.266666666666667,\n",
       " 'трепетно': 4.266666666666667,\n",
       " 'подробненько': 4.266666666666667,\n",
       " 'пометка': 4.266666666666667,\n",
       " 'мс': 4.266666666666667,\n",
       " 'вяткабанка': 4.266666666666667,\n",
       " 'кировский': 4.266666666666667,\n",
       " 'общебанковский': 4.266666666666667,\n",
       " 'цбшное': 4.266666666666667,\n",
       " 'скучно': 4.266666666666667,\n",
       " 'хронологический': 4.266666666666667,\n",
       " 'привезлидалый': 4.266666666666667,\n",
       " 'копировать': 4.266666666666667,\n",
       " 'игна': 4.266666666666667,\n",
       " 'бнов': 4.266666666666667,\n",
       " 'помониторить': 4.266666666666667,\n",
       " 'реутов': 4.266666666666667,\n",
       " 'наложение': 4.266666666666667,\n",
       " 'выпадать': 4.266666666666667,\n",
       " 'прозванивать': 4.266666666666667,\n",
       " 'врач': 4.266666666666667,\n",
       " 'думаться': 4.266666666666667,\n",
       " 'водительский': 4.266666666666667,\n",
       " 'удостоверение': 4.266666666666667,\n",
       " 'загранпаспорт': 4.266666666666667,\n",
       " 'архангельск': 4.266666666666667,\n",
       " 'попов': 4.266666666666667,\n",
       " 'согласованный': 4.266666666666667,\n",
       " 'неоднократный': 4.266666666666667,\n",
       " 'перепривязывать': 4.266666666666667,\n",
       " 'хххххх': 4.266666666666667,\n",
       " 'рп': 4.266666666666667,\n",
       " 'благодарюс': 4.266666666666667,\n",
       " 'уважениемксения': 4.266666666666667,\n",
       " 'коллаборация': 4.266666666666667,\n",
       " 'краснеть': 4.266666666666667,\n",
       " 'it': 4.266666666666667,\n",
       " 'земляной': 4.266666666666667,\n",
       " 'кризисный': 4.266666666666667,\n",
       " 'троицкий': 4.266666666666667,\n",
       " 'дальний': 4.266666666666667,\n",
       " 'заграничный': 4.266666666666667,\n",
       " 'гармонично': 4.266666666666667,\n",
       " 'благоразумие': 4.266666666666667,\n",
       " 'отлаживаться': 4.266666666666667,\n",
       " 'подвозить': 4.266666666666667,\n",
       " 'аврал': 4.266666666666667,\n",
       " 'миновать': 4.266666666666667,\n",
       " 'аксай': 4.266666666666667,\n",
       " 'заменыперевыпуск': 4.266666666666667,\n",
       " 'минба': 4.266666666666667,\n",
       " 'выпискополучатель': 4.266666666666667,\n",
       " 'wwwqiwicom': 4.266666666666667,\n",
       " 'гприйти': 4.266666666666667,\n",
       " 'вашетребование': 4.266666666666667,\n",
       " 'вслед': 4.266666666666667,\n",
       " 'проездной': 4.266666666666667,\n",
       " 'поразмышлять': 4.266666666666667,\n",
       " 'преданность': 4.266666666666667,\n",
       " 'чудодейственный': 4.266666666666667,\n",
       " 'фильтр': 4.266666666666667,\n",
       " 'криминальный': 4.266666666666667,\n",
       " 'хроника': 4.266666666666667,\n",
       " 'classic': 4.266666666666667,\n",
       " 'себестоимость': 4.266666666666667,\n",
       " 'вдополнительный': 4.266666666666667,\n",
       " 'белорусский': 4.266666666666667,\n",
       " 'нагуглить': 4.266666666666667,\n",
       " 'httpsibrosbankruretailopsmsasp': 4.266666666666667,\n",
       " 'паосбербанк': 4.266666666666667,\n",
       " 'гагарин': 4.266666666666667,\n",
       " 'банксотрудница': 4.266666666666667,\n",
       " 'ответилачто': 4.266666666666667,\n",
       " 'tqtqw': 4.266666666666667,\n",
       " 'дурочка': 4.266666666666667,\n",
       " 'абдуллина': 4.266666666666667,\n",
       " 'валидя': 4.266666666666667,\n",
       " 'анаяровна': 4.266666666666667,\n",
       " 'бейдж': 4.266666666666667,\n",
       " 'жетон': 4.266666666666667,\n",
       " 'мешочек': 4.266666666666667,\n",
       " 'переписка': 3.9111111111111114,\n",
       " 'конечно': 3.9,\n",
       " 'брокерский': 3.8400000000000007,\n",
       " 'рядом': 3.8400000000000007,\n",
       " 'размещать': 3.8400000000000007,\n",
       " 'ока': 3.8175438596491236,\n",
       " 'регулярно': 3.733333333333334,\n",
       " 'со': 3.7142857142857144,\n",
       " 'располагать': 3.649122807017544,\n",
       " 'соответствие': 3.626666666666667,\n",
       " 'курьер': 3.6000000000000005,\n",
       " 'транзакция': 3.555555555555556,\n",
       " 'добро': 3.555555555555556,\n",
       " 'mastercard': 3.555555555555556,\n",
       " 'среднерусский': 3.555555555555556,\n",
       " 'd': 3.555555555555556,\n",
       " 'беспокоить': 3.555555555555556,\n",
       " 'идеальный': 3.466666666666667,\n",
       " 'льготный': 3.466666666666667,\n",
       " 'взнос': 3.466666666666667,\n",
       " 'конвертация': 3.466666666666667,\n",
       " 'автоматический': 3.466666666666667,\n",
       " 'аккуратно': 3.466666666666667,\n",
       " 'перерыв': 3.466666666666667,\n",
       " 'счастливый': 3.466666666666667,\n",
       " 'ресторан': 3.466666666666667,\n",
       " 'краснодар': 3.466666666666667,\n",
       " 'опытный': 3.466666666666667,\n",
       " 'павелецкий': 3.466666666666667,\n",
       " 'весело': 3.466666666666667,\n",
       " 'ленинградский': 3.466666666666667,\n",
       " 'надо': 3.466666666666667,\n",
       " 'осень': 3.466666666666667,\n",
       " 'адекватно': 3.466666666666667,\n",
       " 'честь': 3.466666666666667,\n",
       " 'костюм': 3.466666666666667,\n",
       " 'железнодорожный': 3.466666666666667,\n",
       " 'правильность': 3.466666666666667,\n",
       " 'неожиданный': 3.466666666666667,\n",
       " 'марксистский': 3.466666666666667,\n",
       " 'предстоящий': 3.466666666666667,\n",
       " 'акб': 3.466666666666667,\n",
       " 'элекснять': 3.466666666666667,\n",
       " 'перепроверять': 3.466666666666667,\n",
       " 'обл': 3.466666666666667,\n",
       " 'вознаграждать': 3.466666666666667,\n",
       " 'пва': 3.466666666666667,\n",
       " 'ответственно': 3.466666666666667,\n",
       " 'заодно': 3.466666666666667,\n",
       " 'сейфовый': 3.466666666666667,\n",
       " 'привычка': 3.466666666666667,\n",
       " 'обрабатываться': 3.466666666666667,\n",
       " 'голд': 3.466666666666667,\n",
       " 'новороссийск': 3.466666666666667,\n",
       " 'привелегия': 3.466666666666667,\n",
       " 'стремление': 3.466666666666667,\n",
       " 'смссообщение': 3.466666666666667,\n",
       " 'казань': 3.466666666666667,\n",
       " 'mc': 3.466666666666667,\n",
       " 'комплект': 3.466666666666667,\n",
       " 'егор': 3.466666666666667,\n",
       " 'platinum': 3.466666666666667,\n",
       " 'новослободский': 3.466666666666667,\n",
       " 'взаимодействовать': 3.466666666666667,\n",
       " 'красота': 3.466666666666667,\n",
       " 'параметр': 3.466666666666667,\n",
       " 'дочь': 3.466666666666667,\n",
       " 'ибанк': 3.466666666666667,\n",
       " 'вода': 3.466666666666667,\n",
       " 'сочетаться': 3.466666666666667,\n",
       " 'лариса': 3.466666666666667,\n",
       " 'натяжка': 3.466666666666667,\n",
       " 'благонадежный': 3.466666666666667,\n",
       " 'заезжать': 3.466666666666667,\n",
       " 'гонорар': 3.466666666666667,\n",
       " 'авто': 3.466666666666667,\n",
       " 'функциональность': 3.466666666666667,\n",
       " 'обычно': 3.4461538461538463,\n",
       " 'ленин': 3.4461538461538463,\n",
       " 'наступать': 3.4133333333333336,\n",
       " 'скидка': 3.4133333333333336,\n",
       " 'отправляться': 3.4133333333333336,\n",
       " 'досрочно': 3.4133333333333336,\n",
       " 'предварительный': 3.4133333333333336,\n",
       " '№': 3.318518518518519,\n",
       " 'досрочный': 3.318518518518519,\n",
       " 'хорошо': 3.2820512820512824,\n",
       " 'пополнять': 3.2,\n",
       " 'приличный': 3.2,\n",
       " 'зарегистрироваться': 3.2,\n",
       " 'касаться': 3.2,\n",
       " 'наличные': 3.2,\n",
       " 'многолетний': 3.2,\n",
       " 'новокузнецк': 3.2,\n",
       " 'контрагент': 3.2,\n",
       " 'пенсионерка': 3.2,\n",
       " 'чтонибудь': 3.2,\n",
       " 'свежий': 3.2,\n",
       " 'дорого': 3.2,\n",
       " 'тысруб': 3.2,\n",
       " 'давний': 3.2,\n",
       " 'умилять': 3.2,\n",
       " 'скрытый': 3.2,\n",
       " 'тройка': 3.2,\n",
       " 'межбанк': 3.2,\n",
       " 'ржд': 3.2,\n",
       " 'инстаграм': 3.2,\n",
       " 'бдительный': 3.2,\n",
       " 'пермь': 3.2,\n",
       " 'гора': 3.2,\n",
       " 'пересадка': 3.2,\n",
       " 'запланировать': 3.2,\n",
       " 'аптека': 3.2,\n",
       " 'многочасовой': 3.2,\n",
       " 'аренда': 3.2,\n",
       " 'отпбанк': 3.2,\n",
       " 'можайск': 3.2,\n",
       " 'рэ': 3.2,\n",
       " 'гис': 3.2,\n",
       " 'шоссе': 3.047619047619048,\n",
       " 'дом': 3.0222222222222226,\n",
       " 'г': 2.99031339031339,\n",
       " 'дорога': 2.9866666666666664,\n",
       " 'мгновенный': 2.9714285714285715,\n",
       " 'д': 2.953846153846154,\n",
       " 'вполне': 2.9466666666666668,\n",
       " 'симпатичный': 2.8888888888888893,\n",
       " 'признательный': 2.8888888888888893,\n",
       " 'годовой': 2.863768115942029,\n",
       " 'цифра': 2.8444444444444446,\n",
       " 'верно': 2.8444444444444446,\n",
       " 'пенсионный': 2.8444444444444446,\n",
       " 'заманчивый': 2.8444444444444446,\n",
       " '“': 2.8444444444444446,\n",
       " 'закладной': 2.8444444444444446,\n",
       " 'отсылать': 2.8444444444444446,\n",
       " 'женский': 2.8444444444444446,\n",
       " 'подтвердить': 2.8444444444444446,\n",
       " 'запускать': 2.8444444444444446,\n",
       " 'длинный': 2.8444444444444446,\n",
       " 'планироваться': 2.8444444444444446,\n",
       " 'федерация': 2.8444444444444446,\n",
       " 'прт': 2.8444444444444446,\n",
       " 'необходимость': 2.8363636363636364,\n",
       " 'можно': 2.8363636363636364,\n",
       " 'красивый': 2.8363636363636364,\n",
       " 'ура': 2.8363636363636364,\n",
       " 'деталь': 2.773333333333334,\n",
       " 'победа': 2.773333333333334,\n",
       " 'олег': 2.773333333333334,\n",
       " 'bankiru': 2.773333333333334,\n",
       " 'даваться': 2.773333333333334,\n",
       " 'материал': 2.773333333333334,\n",
       " ...}"
      ]
     },
     "execution_count": 724,
     "metadata": {},
     "output_type": "execute_result"
    }
   ],
   "source": [
    "freq_dict_sorted_net"
   ]
  },
  {
   "cell_type": "code",
   "execution_count": 725,
   "id": "2a9628e4",
   "metadata": {
    "cellId": "e4h95fv0efi7446z6722s"
   },
   "outputs": [],
   "source": [
    "first_20_net_word = []\n",
    "first_20_net_kol = []\n",
    "\n",
    "for i, j in freq_dict_sorted_net.items():\n",
    "    first_20_net_word.append(i)\n",
    "    first_20_net_kol.append(j)\n",
    "    if len(first_20_net_word) == 20:\n",
    "        break"
   ]
  },
  {
   "cell_type": "code",
   "execution_count": 726,
   "id": "7b34a300",
   "metadata": {
    "cellId": "ix22g6cq8pkrt6f0f93yl"
   },
   "outputs": [
    {
     "data": {
      "image/png": "[encoded data removed]",
      "text/plain": [
       "<Figure size 720x576 with 1 Axes>"
      ]
     },
     "metadata": {
      "needs_background": "light"
     },
     "output_type": "display_data"
    }
   ],
   "source": [
    "plt.figure(figsize=(10, 8))\n",
    "plt.title('Самые частые слова в предложениях с нейтральным сантиментом', fontsize=16)\n",
    "plt.barh(first_20_net_word[::-1], first_20_net_kol[::-1])\n",
    "# plt.hist(freq_dict_sorted_good, orientation='horizontal')\n",
    "plt.xticks(fontsize=12)\n",
    "plt.yticks(fontsize=12)\n",
    "plt.ylabel('Токены', fontsize=14)\n",
    "plt.xlabel('Отношение', fontsize=14)\n",
    "# plt.legend(fontsize=14)\n",
    "plt.show()"
   ]
  },
  {
   "cell_type": "markdown",
   "id": "812203d9",
   "metadata": {
    "cellId": "tnn3cu1gjnfptwc9ubf4h",
    "execution_id": "c8037d5e-819c-46ce-9596-53e8cc5f872b"
   },
   "source": [
    "# Доброжелательные слова:"
   ]
  },
  {
   "cell_type": "code",
   "execution_count": 708,
   "id": "80824326",
   "metadata": {
    "cellId": "qsz1vhc7jx22bsc83dpcaj"
   },
   "outputs": [],
   "source": [
    "import numpy as np"
   ]
  },
  {
   "cell_type": "code",
   "execution_count": 527,
   "id": "ce1e1484",
   "metadata": {
    "cellId": "qyi3ju3w7vs6a2i4dj6ud"
   },
   "outputs": [],
   "source": [
    "freq_dict_good = {}\n",
    "\n",
    "for i, j in freq_dict_sorted.items():\n",
    "    freq_dict_good[i] = j[0] / max(j[1], 1)"
   ]
  },
  {
   "cell_type": "code",
   "execution_count": 528,
   "id": "2946d847",
   "metadata": {
    "cellId": "dq9ch4m6wcqjv5m3fdv"
   },
   "outputs": [],
   "source": [
    "freq_dict_sorted_good =  dict(sorted(freq_dict_good.items(), key=lambda item: item[1], reverse=True))"
   ]
  },
  {
   "cell_type": "code",
   "execution_count": 529,
   "id": "159269c1",
   "metadata": {
    "cellId": "7nyma8of7h7u3qu40xqchc"
   },
   "outputs": [],
   "source": [
    "first_20_good_word = []\n",
    "first_20_good_kol = []\n",
    "\n",
    "for i, j in freq_dict_sorted_good.items():\n",
    "    first_20_good_word.append(i)\n",
    "    first_20_good_kol.append(j)\n",
    "    if len(first_20_good_word) == 20:\n",
    "        break"
   ]
  },
  {
   "cell_type": "code",
   "execution_count": 530,
   "id": "eeb5c61f",
   "metadata": {
    "cellId": "824qwqp9gw2jhy0trkk52"
   },
   "outputs": [
    {
     "data": {
      "image/png": "[encoded data removed]",
      "text/plain": [
       "<Figure size 720x576 with 1 Axes>"
      ]
     },
     "metadata": {
      "needs_background": "light"
     },
     "output_type": "display_data"
    }
   ],
   "source": [
    "plt.figure(figsize=(10, 8))\n",
    "plt.title('Самые частые слова в предложениях с положительным сантиментом', fontsize=16)\n",
    "plt.barh(first_20_good_word[::-1], first_20_good_kol[::-1])\n",
    "# plt.hist(freq_dict_sorted_good, orientation='horizontal')\n",
    "plt.xticks(fontsize=12)\n",
    "plt.yticks(fontsize=12)\n",
    "plt.ylabel('Токены', fontsize=14)\n",
    "plt.xlabel('Отношение хороших предложений к плохим', fontsize=14)\n",
    "# plt.legend(fontsize=14)\n",
    "plt.show()"
   ]
  },
  {
   "cell_type": "markdown",
   "id": "ef57ae97",
   "metadata": {
    "cellId": "lyqww4muf59e4ufdmt08l5",
    "execution_id": "d832fb27-ae3b-43b9-b56d-a7f8ad662b3c"
   },
   "source": [
    "# Негативные слова"
   ]
  },
  {
   "cell_type": "code",
   "execution_count": 531,
   "id": "69e50401",
   "metadata": {
    "cellId": "xya7rhwzjnnxcif71xlu4l"
   },
   "outputs": [],
   "source": [
    "freq_dict_bad = {}\n",
    "\n",
    "for i, j in freq_dict_sorted.items():\n",
    "    freq_dict_bad[i] = j[1] / max(j[0], 1)"
   ]
  },
  {
   "cell_type": "code",
   "execution_count": 532,
   "id": "e41facdf",
   "metadata": {
    "cellId": "3zvq2ol1utvcg813bobh27"
   },
   "outputs": [],
   "source": [
    "freq_dict_sorted_bad =  dict(sorted(freq_dict_bad.items(), key=lambda item: item[1], reverse=True))"
   ]
  },
  {
   "cell_type": "code",
   "execution_count": 533,
   "id": "b2051751",
   "metadata": {
    "cellId": "mgfd3kanloo8ckrwnvuyes"
   },
   "outputs": [],
   "source": [
    "first_20_bad_word = []\n",
    "first_20_bad_kol = []\n",
    "\n",
    "for i, j in freq_dict_sorted_bad.items():\n",
    "    first_20_bad_word.append(i)\n",
    "    first_20_bad_kol.append(j)\n",
    "    if len(first_20_bad_word) == 20:\n",
    "        break"
   ]
  },
  {
   "cell_type": "code",
   "execution_count": 534,
   "id": "cb6ed667",
   "metadata": {
    "cellId": "2fsfvdmiysq79k4m7yt6p"
   },
   "outputs": [
    {
     "data": {
      "image/png": "[encoded data removed]",
      "text/plain": [
       "<Figure size 720x576 with 1 Axes>"
      ]
     },
     "metadata": {
      "needs_background": "light"
     },
     "output_type": "display_data"
    }
   ],
   "source": [
    "plt.figure(figsize=(10, 8))\n",
    "plt.title('Самые частые слова в предложениях с негативным сантиментом', fontsize=16)\n",
    "plt.barh(first_20_bad_word[::-1], first_20_good_kol[::-1])\n",
    "# plt.hist(freq_dict_sorted_good, orientation='horizontal')\n",
    "plt.xticks(fontsize=12)\n",
    "plt.yticks(fontsize=12)\n",
    "plt.ylabel('Токены', fontsize=14)\n",
    "plt.xlabel('Отношение плохих предложений к хорошим', fontsize=14)\n",
    "# plt.legend(fontsize=14)\n",
    "plt.show()"
   ]
  },
  {
   "cell_type": "markdown",
   "id": "d494b44b",
   "metadata": {
    "cellId": "pmlxse7x1tdduiirmrfbh8",
    "execution_id": "04b6de58-1c4e-43b2-b4e5-5e876a751056"
   },
   "source": [
    "# С препроцессингом"
   ]
  },
  {
   "cell_type": "code",
   "execution_count": 673,
   "id": "892bdb14",
   "metadata": {
    "cellId": "fc2tyf6ou8o928oegz9mq",
    "collapsed": true,
    "jupyter": {
     "outputs_hidden": true
    }
   },
   "outputs": [
    {
     "ename": "UnboundLocalError",
     "evalue": "local variable 'text_filtered' referenced before assignment",
     "output_type": "error",
     "traceback": [
      "\u001b[0;31m---------------------------------------------------------------------------\u001b[0m",
      "\u001b[0;31mUnboundLocalError\u001b[0m                         Traceback (most recent call last)",
      "\u001b[0;32m<ipython-input-41-33e95b4fedd2>\u001b[0m in \u001b[0;36m<module>\u001b[0;34m\u001b[0m\n\u001b[1;32m      7\u001b[0m \u001b[0mdf_no_punc\u001b[0m \u001b[0;34m=\u001b[0m \u001b[0mdelete_punc\u001b[0m\u001b[0;34m(\u001b[0m\u001b[0mdf\u001b[0m\u001b[0;34m)\u001b[0m\u001b[0;34m\u001b[0m\u001b[0;34m\u001b[0m\u001b[0m\n\u001b[1;32m      8\u001b[0m \u001b[0mdf_filtered\u001b[0m \u001b[0;34m=\u001b[0m \u001b[0mdel_stopwords\u001b[0m\u001b[0;34m(\u001b[0m\u001b[0mdf_no_punc\u001b[0m\u001b[0;34m)\u001b[0m\u001b[0;34m.\u001b[0m\u001b[0mcopy\u001b[0m\u001b[0;34m(\u001b[0m\u001b[0;34m)\u001b[0m\u001b[0;34m\u001b[0m\u001b[0;34m\u001b[0m\u001b[0m\n\u001b[0;32m----> 9\u001b[0;31m \u001b[0mdf_no_dig\u001b[0m \u001b[0;34m=\u001b[0m \u001b[0mdel_digits\u001b[0m\u001b[0;34m(\u001b[0m\u001b[0mdf_filtered\u001b[0m\u001b[0;34m)\u001b[0m\u001b[0;34m.\u001b[0m\u001b[0mcopy\u001b[0m\u001b[0;34m(\u001b[0m\u001b[0;34m)\u001b[0m\u001b[0;34m\u001b[0m\u001b[0;34m\u001b[0m\u001b[0m\n\u001b[0m\u001b[1;32m     10\u001b[0m \u001b[0mdf_lemmatized\u001b[0m \u001b[0;34m=\u001b[0m \u001b[0mlemmatizing\u001b[0m\u001b[0;34m(\u001b[0m\u001b[0mdf_no_dig\u001b[0m\u001b[0;34m,\u001b[0m \u001b[0mWordNetLemmatizer\u001b[0m\u001b[0;34m(\u001b[0m\u001b[0;34m)\u001b[0m\u001b[0;34m)\u001b[0m\u001b[0;34m.\u001b[0m\u001b[0mcopy\u001b[0m\u001b[0;34m(\u001b[0m\u001b[0;34m)\u001b[0m\u001b[0;34m\u001b[0m\u001b[0;34m\u001b[0m\u001b[0m\n\u001b[1;32m     11\u001b[0m \u001b[0mdf_tokenized\u001b[0m \u001b[0;34m=\u001b[0m \u001b[0mtokenization\u001b[0m\u001b[0;34m(\u001b[0m\u001b[0mdf_lemmatized\u001b[0m\u001b[0;34m)\u001b[0m\u001b[0;34m.\u001b[0m\u001b[0mcopy\u001b[0m\u001b[0;34m(\u001b[0m\u001b[0;34m)\u001b[0m\u001b[0;34m\u001b[0m\u001b[0;34m\u001b[0m\u001b[0m\n",
      "\u001b[0;32m<ipython-input-38-c730e5c35184>\u001b[0m in \u001b[0;36mdel_digits\u001b[0;34m(df)\u001b[0m\n\u001b[1;32m      2\u001b[0m     \u001b[0;32mfor\u001b[0m \u001b[0mi\u001b[0m \u001b[0;32min\u001b[0m \u001b[0mrange\u001b[0m\u001b[0;34m(\u001b[0m\u001b[0mdf\u001b[0m\u001b[0;34m.\u001b[0m\u001b[0mshape\u001b[0m\u001b[0;34m[\u001b[0m\u001b[0;36m0\u001b[0m\u001b[0;34m]\u001b[0m\u001b[0;34m)\u001b[0m\u001b[0;34m:\u001b[0m\u001b[0;34m\u001b[0m\u001b[0;34m\u001b[0m\u001b[0m\n\u001b[1;32m      3\u001b[0m         \u001b[0mtext\u001b[0m \u001b[0;34m=\u001b[0m \u001b[0mdf\u001b[0m\u001b[0;34m.\u001b[0m\u001b[0mloc\u001b[0m\u001b[0;34m[\u001b[0m\u001b[0mi\u001b[0m\u001b[0;34m]\u001b[0m\u001b[0;34m.\u001b[0m\u001b[0msplit\u001b[0m\u001b[0;34m(\u001b[0m\u001b[0;34m)\u001b[0m\u001b[0;34m\u001b[0m\u001b[0;34m\u001b[0m\u001b[0m\n\u001b[0;32m----> 4\u001b[0;31m         \u001b[0mtext_filtered\u001b[0m \u001b[0;34m=\u001b[0m \u001b[0;34m\" \"\u001b[0m\u001b[0;34m.\u001b[0m\u001b[0mjoin\u001b[0m\u001b[0;34m(\u001b[0m\u001b[0;34m[\u001b[0m\u001b[0mre\u001b[0m\u001b[0;34m.\u001b[0m\u001b[0msub\u001b[0m\u001b[0;34m(\u001b[0m\u001b[0;34m'[0-9]'\u001b[0m\u001b[0;34m,\u001b[0m \u001b[0;34m''\u001b[0m\u001b[0;34m,\u001b[0m \u001b[0mi\u001b[0m\u001b[0;34m)\u001b[0m \u001b[0;32mfor\u001b[0m \u001b[0mi\u001b[0m \u001b[0;32min\u001b[0m \u001b[0mtext_filtered\u001b[0m\u001b[0;34m]\u001b[0m\u001b[0;34m)\u001b[0m\u001b[0;34m\u001b[0m\u001b[0;34m\u001b[0m\u001b[0m\n\u001b[0m\u001b[1;32m      5\u001b[0m         \u001b[0mdf\u001b[0m\u001b[0;34m.\u001b[0m\u001b[0mloc\u001b[0m\u001b[0;34m[\u001b[0m\u001b[0mi\u001b[0m\u001b[0;34m]\u001b[0m \u001b[0;34m=\u001b[0m \u001b[0mtext_filtered\u001b[0m\u001b[0;34m\u001b[0m\u001b[0;34m\u001b[0m\u001b[0m\n\u001b[1;32m      6\u001b[0m     \u001b[0;32mreturn\u001b[0m \u001b[0mdf\u001b[0m\u001b[0;34m\u001b[0m\u001b[0;34m\u001b[0m\u001b[0m\n",
      "\u001b[0;31mUnboundLocalError\u001b[0m: local variable 'text_filtered' referenced before assignment"
     ]
    }
   ],
   "source": [
    "ds = pd.read_csv('/home/jupyter/mnt/s3/newbacketttt/train.csv')\n",
    "ds = ds.drop('2category', axis = 1)\n",
    "ds = ds.rename(columns = {'Unnamed: 0': 'id'})\n",
    "df = ds['sentence'].copy()\n",
    "# df_lemmatized = lemmatizing(df, WordNetLemmatizer()).copy()\n",
    "\n",
    "df_no_punc = delete_punc(df)\n",
    "df_filtered = del_stopwords(df_no_punc).copy()\n",
    "df_no_dig = del_digits(df_filtered).copy() \n",
    "df_lemmatized = lemmatizing(df_no_dig, WordNetLemmatizer()).copy()\n",
    "df_tokenized = tokenization(df_lemmatized).copy()\n",
    "dictionary = form_dict(df_tokenized)"
   ]
  },
  {
   "cell_type": "code",
   "execution_count": 698,
   "id": "db6192e9",
   "metadata": {
    "cellId": "mdwwz99phpclllxg1qotd"
   },
   "outputs": [
    {
     "data": {
      "text/plain": [
       "8691"
      ]
     },
     "execution_count": 698,
     "metadata": {},
     "output_type": "execute_result"
    }
   ],
   "source": [
    "len(dictionary)"
   ]
  },
  {
   "cell_type": "code",
   "execution_count": 697,
   "id": "66ee5f74",
   "metadata": {
    "cellId": "i0rs2yvqffao38mbja4q7"
   },
   "outputs": [
    {
     "data": {
      "text/plain": [
       "0                    [при, получать, качественный, услуга]\n",
       "1                   [не, видеть, хотя, поставлять, сервис]\n",
       "2               [вот, мой, любимый, банк, мкб, обманывать]\n",
       "3                      [отвратительный, отношение, клиент]\n",
       "4        [всегда, любой, время, день, ночь, помогать, о...\n",
       "                               ...                        \n",
       "19356    [никогда, кой, случай, открывать, счет, недост...\n",
       "19357    [ти, откровенно, забивать, качество, развивать...\n",
       "19358    [я, считать, это, прорыв, лидерство, финансовы...\n",
       "19359    [писать, мужчина, очень, доходчиво, финансовый...\n",
       "19360    [данный, ситуация, сильно, выбивать, колея, вм...\n",
       "Name: sentence, Length: 19361, dtype: object"
      ]
     },
     "execution_count": 697,
     "metadata": {},
     "output_type": "execute_result"
    }
   ],
   "source": []
  },
  {
   "cell_type": "markdown",
   "id": "eaa6de2e",
   "metadata": {
    "cellId": "h1prsivt3tqgi1n4x1vqqh",
    "execution_id": "ae654ea0-5d06-43ed-a4bd-26b9a38a3488"
   },
   "source": [
    "# Без препроцессинга (только леммнинизация и токенизация)"
   ]
  },
  {
   "cell_type": "code",
   "execution_count": 507,
   "id": "131bfb90",
   "metadata": {
    "cellId": "dextn931golt64zjrrb4e"
   },
   "outputs": [],
   "source": [
    "ds = pd.read_csv('/home/jupyter/mnt/s3/newbacketttt/train.csv')\n",
    "ds = ds.drop('2category', axis = 1)\n",
    "ds = ds.rename(columns = {'Unnamed: 0': 'id'})\n",
    "df = ds['sentence'].copy()\n",
    "\n",
    "# df_no_punc = delete_punc(df)\n",
    "# df_filtered = del_stopwords(df_no_punc).copy()\n",
    "# df_no_dig = del_digits(df_filtered).copy() \n",
    "df_lemmatized = lemmatizing(df, WordNetLemmatizer()).copy()\n",
    "df_tokenized = tokenization(df_lemmatized).copy()\n",
    "dictionary = form_dict(df_tokenized)"
   ]
  },
  {
   "cell_type": "code",
   "execution_count": 508,
   "id": "291b84b6",
   "metadata": {
    "cellId": "m0lebmvlz5eqo4mjv6y3b"
   },
   "outputs": [
    {
     "data": {
      "text/plain": [
       "9312"
      ]
     },
     "execution_count": 508,
     "metadata": {},
     "output_type": "execute_result"
    }
   ],
   "source": [
    "len(dictionary)"
   ]
  },
  {
   "cell_type": "code",
   "execution_count": 517,
   "id": "c74b454b",
   "metadata": {
    "cellId": "9td1torfizoyaj2dqk86km"
   },
   "outputs": [
    {
     "name": "stderr",
     "output_type": "stream",
     "text": [
      "100%|██████████| 9312/9312 [01:47<00:00, 86.60it/s]\n"
     ]
    }
   ],
   "source": [
    "freq_dict = {}\n",
    "\n",
    "# в скольки предложениях есть\n",
    "\n",
    "for i in tqdm(dictionary):\n",
    "    freq_dict[i] = [0, 0, 0] # хочу посмотреть, возможно какое-то слова чаще встречается в негативных или позитивных предложениях\n",
    "    for num, j in enumerate(df_tokenized):\n",
    "        if i in j:\n",
    "            if ds['sentiment'][num] == '+':\n",
    "                freq_dict[i][0] += 1\n",
    "            elif ds['sentiment'][num] == '−':\n",
    "                freq_dict[i][1] += 1\n",
    "            else:\n",
    "                freq_dict[i][2] += 1"
   ]
  },
  {
   "cell_type": "code",
   "execution_count": 518,
   "id": "a820cc55",
   "metadata": {
    "cellId": "u5othhg63apul7i2lns77"
   },
   "outputs": [],
   "source": [
    "freq_dict_sorted =  dict(sorted(freq_dict.items(), key=lambda item: sum(item[1]), reverse=True))"
   ]
  },
  {
   "cell_type": "code",
   "execution_count": 519,
   "id": "e1c04126",
   "metadata": {
    "cellId": "vg6ppig4tvw3s7uv3ydqf"
   },
   "outputs": [
    {
     "data": {
      "image/png": "[encoded data removed]",
      "text/plain": [
       "<Figure size 720x576 with 1 Axes>"
      ]
     },
     "metadata": {
      "needs_background": "light"
     },
     "output_type": "display_data"
    }
   ],
   "source": [
    "freq_dict_good = {}\n",
    "\n",
    "for i, j in freq_dict_sorted.items():\n",
    "    freq_dict_good[i] = j[0] / max(j[1], 1)\n",
    "    \n",
    "freq_dict_sorted_good =  dict(sorted(freq_dict_good.items(), key=lambda item: item[1], reverse=True))\n",
    "\n",
    "first_20_good_word = []\n",
    "first_20_good_kol = []\n",
    "\n",
    "for i, j in freq_dict_sorted_good.items():\n",
    "    first_20_good_word.append(i)\n",
    "    first_20_good_kol.append(j)\n",
    "    if len(first_20_good_word) == 20:\n",
    "        break\n",
    "        \n",
    "plt.figure(figsize=(10, 8))\n",
    "plt.title('Самые частые слова в предложениях с положительным сантиментом', fontsize=16)\n",
    "plt.barh(first_20_good_word[::-1], first_20_good_kol[::-1])\n",
    "# plt.hist(freq_dict_sorted_good, orientation='horizontal')\n",
    "plt.xticks(fontsize=12)\n",
    "plt.yticks(fontsize=12)\n",
    "plt.ylabel('Токены', fontsize=14)\n",
    "plt.xlabel('Отношение хороших предложений к плохим', fontsize=14)\n",
    "# plt.legend(fontsize=14)\n",
    "plt.show()"
   ]
  },
  {
   "cell_type": "markdown",
   "id": "f573ab6d",
   "metadata": {
    "cellId": "hbe9rj6tn6l6wq5ewjkdm",
    "execution_id": "c4e3d7c3-afb2-4825-b894-a782f41b90d9"
   },
   "source": [
    "## Negative"
   ]
  },
  {
   "cell_type": "code",
   "execution_count": null,
   "id": "9aa71ff9",
   "metadata": {
    "cellId": "de2nuxim3y90q4xlc3h24"
   },
   "outputs": [],
   "source": []
  },
  {
   "cell_type": "code",
   "execution_count": 521,
   "id": "961a9027",
   "metadata": {
    "cellId": "f4chx7lrxcg4xfb0v0t946"
   },
   "outputs": [
    {
     "data": {
      "image/png": "[encoded data removed]",
      "text/plain": [
       "<Figure size 720x576 with 1 Axes>"
      ]
     },
     "metadata": {
      "needs_background": "light"
     },
     "output_type": "display_data"
    }
   ],
   "source": [
    "freq_dict_bad = {}\n",
    "\n",
    "for i, j in freq_dict_sorted.items():\n",
    "    freq_dict_bad[i] = j[1] / max(j[0], 1)\n",
    "    \n",
    "freq_dict_sorted_bad =  dict(sorted(freq_dict_bad.items(), key=lambda item: item[1], reverse=True))\n",
    "\n",
    "first_20_bad_word = []\n",
    "first_20_bad_kol = []\n",
    "\n",
    "for i, j in freq_dict_sorted_bad.items():\n",
    "    first_20_bad_word.append(i)\n",
    "    first_20_bad_kol.append(j)\n",
    "    if len(first_20_bad_word) == 20:\n",
    "        break\n",
    "        \n",
    "plt.figure(figsize=(10, 8))\n",
    "plt.title('Самые частые слова в предложениях с негативным сантиментом', fontsize=16)\n",
    "plt.barh(first_20_bad_word[::-1], first_20_bad_kol[::-1])\n",
    "# plt.hist(freq_dict_sorted_good, orientation='horizontal')\n",
    "plt.xticks(fontsize=12)\n",
    "plt.yticks(fontsize=12)\n",
    "plt.ylabel('Токены', fontsize=14)\n",
    "plt.xlabel('Отношение плохих предложений к хорошим', fontsize=14)\n",
    "# plt.legend(fontsize=14)\n",
    "plt.show()"
   ]
  },
  {
   "cell_type": "markdown",
   "id": "19cdce78",
   "metadata": {
    "cellId": "75tknsqvn7tlbyce6lei7",
    "execution_id": "2fd280eb-773a-46ef-93ba-2a029e125055"
   },
   "source": [
    "# По категориям"
   ]
  },
  {
   "cell_type": "code",
   "execution_count": 730,
   "id": "b0a5b4a4",
   "metadata": {
    "cellId": "tomwibu7b5kf1vzsyd3c36"
   },
   "outputs": [
    {
     "name": "stderr",
     "output_type": "stream",
     "text": [
      "100%|██████████| 8691/8691 [01:01<00:00, 142.00it/s]\n"
     ]
    }
   ],
   "source": [
    "category_freq_dict = {}\n",
    "\n",
    "# в скольки предложениях \n",
    "# есть по категориям!!!\n",
    "\n",
    "for i in tqdm(dictionary):\n",
    "    category_freq_dict[i] = [0, 0, 0, 0, 0]\n",
    "    for num, j in enumerate(df_tokenized):\n",
    "        if i in j:\n",
    "            if ds['1category'][num] == 'Communication':\n",
    "                category_freq_dict[i][0] += 1\n",
    "            elif ds['1category'][num] == 'Quality':\n",
    "                category_freq_dict[i][1] += 1\n",
    "            elif ds['1category'][num] == 'Price':\n",
    "                category_freq_dict[i][2] += 1\n",
    "            elif ds['1category'][num] == 'Safety':\n",
    "                category_freq_dict[i][3] += 1\n",
    "            else:\n",
    "                category_freq_dict[i][4] += 1"
   ]
  },
  {
   "cell_type": "markdown",
   "id": "ad0984fd",
   "metadata": {
    "cellId": "66wgofrx8xb8ydqn9atee2",
    "execution_id": "98e0483d-7bce-4b07-af92-3f49a362e772"
   },
   "source": [
    "# Communication"
   ]
  },
  {
   "cell_type": "code",
   "execution_count": 732,
   "id": "591336fc",
   "metadata": {
    "cellId": "1id2mioz6jaxp4i3f09vy"
   },
   "outputs": [],
   "source": [
    "category_freq_dict_sorted =  dict(sorted(category_freq_dict.items(), key=lambda item: sum(item[1]), reverse=True))"
   ]
  },
  {
   "cell_type": "code",
   "execution_count": 752,
   "id": "5b4c9bde",
   "metadata": {
    "cellId": "aghjhcd247k177uen5fia"
   },
   "outputs": [],
   "source": [
    "category_freq_dict_sorted_comm = {}\n",
    "for i, j in category_freq_dict_sorted.items():\n",
    "    category_freq_dict_sorted_comm[i] = j[0] "
   ]
  },
  {
   "cell_type": "code",
   "execution_count": 749,
   "id": "124f9db7",
   "metadata": {
    "cellId": "ufzce2zv261vpek6xzjp1"
   },
   "outputs": [],
   "source": [
    "# category_freq_dict_sorted_comm =  dict(sorted(category_freq_dict.items(), key=lambda item: item[1][0], reverse=True))"
   ]
  },
  {
   "cell_type": "code",
   "execution_count": 758,
   "id": "cbffcfe9",
   "metadata": {
    "cellId": "b67by78s2q97ucw3mta7c"
   },
   "outputs": [
    {
     "data": {
      "text/plain": [
       "<matplotlib.image.AxesImage at 0x7f707b8fe3d0>"
      ]
     },
     "execution_count": 758,
     "metadata": {},
     "output_type": "execute_result"
    },
    {
     "data": {
      "image/png": "[encoded data removed]",
      "text/plain": [
       "<Figure size 720x720 with 1 Axes>"
      ]
     },
     "metadata": {
      "needs_background": "light"
     },
     "output_type": "display_data"
    }
   ],
   "source": [
    "wc = WordCloud(width=1000,height=1000, max_words=20,relative_scaling=0.5,normalize_plurals=False).generate_from_frequencies(category_freq_dict_sorted_comm)\n",
    "plt.figure(figsize=(10, 10))\n",
    "plt.imshow(wc)"
   ]
  },
  {
   "cell_type": "code",
   "execution_count": null,
   "id": "720f61b0",
   "metadata": {
    "cellId": "7ssd8qv26fl1yumx7or8dp"
   },
   "outputs": [],
   "source": [
    "freq_dict_comm = {}\n",
    "\n",
    "for i, j in category_freq_dict_sorted.items():\n",
    "    freq_dict_good[i] = j[0] / max(j[1], 1)\n",
    "    \n",
    "freq_dict_sorted_good =  dict(sorted(freq_dict_good.items(), key=lambda item: item[1], reverse=True))\n",
    "\n",
    "first_20_good_word = []\n",
    "first_20_good_kol = []\n",
    "\n",
    "for i, j in freq_dict_sorted_good.items():\n",
    "    first_20_good_word.append(i)\n",
    "    first_20_good_kol.append(j)\n",
    "    if len(first_20_good_word) == 20:\n",
    "        break"
   ]
  },
  {
   "cell_type": "code",
   "execution_count": 772,
   "id": "26411c1f",
   "metadata": {
    "cellId": "3woet8q9yvlw1pwrdmrwm"
   },
   "outputs": [],
   "source": [
    "# ? - 5926\n",
    "# Communication\t7193\n",
    "# Price\t366\n",
    "# Quality\t5630\n",
    "# Safety\t246\n",
    "\n",
    "for i, j in category_freq_dict_sorted.items():\n",
    "    category_freq_dict_sorted[i] = [j[0] / 7193, j[1] / 5630, j[2] / 366, j[3] / 246, j[4] / 5962]"
   ]
  },
  {
   "cell_type": "code",
   "execution_count": 782,
   "id": "0a97c3b1",
   "metadata": {
    "cellId": "2u23vflxgowmip7a7wuxmi"
   },
   "outputs": [
    {
     "name": "stdout",
     "output_type": "stream",
     "text": [
      "дозваниваться [0.025024329208953148, 0.0037300177619893427, 0.00273224043715847, 0.0040650406504065045, 0.0001677289500167729]\n",
      "хамский [0.012512164604476574, 0.0021314387211367673, 0.0, 0.0, 0.0]\n",
      "хамить [0.010982900041707216, 0.0005328596802841918, 0.0, 0.0, 0.0]\n",
      "разговаривать [0.00834144306965105, 0.0007104795737122557, 0.0, 0.0, 0.0010063737001006373]\n",
      "голос [0.006534130404559989, 0.0007104795737122557, 0.0, 0.0, 0.0005031868500503186]\n",
      "уведомлять [0.005421937995273182, 0.00035523978685612787, 0.0, 0.0, 0.0006709158000670916]\n",
      "врать [0.005421937995273182, 0.00017761989342806393, 0.0, 0.0, 0.0003354579000335458]\n"
     ]
    }
   ],
   "source": [
    "# Communication\n",
    "\n",
    "for i, j in category_freq_dict_sorted.items():\n",
    "    c = 5\n",
    "    con = 0.001\n",
    "    if j[0] / max(j[1], con) >= c and j[0] / max(j[2], con) >= c and j[0] / max(j[3], con) >= c and j[0] / max(j[4], con) >= c:\n",
    "        print(i, j)"
   ]
  },
  {
   "cell_type": "markdown",
   "id": "50af1b07",
   "metadata": {
    "cellId": "c2mcf14y3ut9ikveknw3kh",
    "execution_id": "db6df805-529e-4753-8c79-36458d055dce"
   },
   "source": [
    "# Price"
   ]
  },
  {
   "cell_type": "code",
   "execution_count": 778,
   "id": "cc4a04fb",
   "metadata": {
    "cellId": "3i1uvhrsqu8ndb0e5ruy5g"
   },
   "outputs": [
    {
     "name": "stdout",
     "output_type": "stream",
     "text": [
      "ставка [0.006256082302238287, 0.006039076376554174, 0.13114754098360656, 0.0, 0.006205971150620597]\n",
      "валюта [0.000834144306965105, 0.0017761989342806395, 0.0273224043715847, 0.0, 0.0008386447500838644]\n",
      "процентный [0.0012512164604476575, 0.0010657193605683837, 0.01912568306010929, 0.0, 0.0011741026501174102]\n",
      "приемлемый [0.0004170721534825525, 0.0017761989342806395, 0.02459016393442623, 0.0, 0.0010063737001006373]\n",
      "рассчитывать [0.0009731683581259558, 0.0010657193605683837, 0.01639344262295082, 0.0, 0.0006709158000670916]\n",
      "грабительский [0.00027804810232170165, 0.00017761989342806393, 0.0273224043715847, 0.0, 0.0001677289500167729]\n",
      "аналогичный [0.0, 0.0005328596802841918, 0.01366120218579235, 0.0, 0.0008386447500838644]\n"
     ]
    }
   ],
   "source": [
    "# Price\n",
    "\n",
    "for i, j in category_freq_dict_sorted.items():\n",
    "    c = 12\n",
    "    con = 0.001\n",
    "    ind = 2\n",
    "    if j[ind] / max(j[1], con) >= c and j[ind] / max(j[0], con) >= c and j[ind] / max(j[3], con) >= c and j[ind] / max(j[4], con) >= c:\n",
    "        print(i, j)"
   ]
  },
  {
   "cell_type": "markdown",
   "id": "cf8135e7",
   "metadata": {
    "cellId": "cvypad3kfu3cr6yp7808e",
    "execution_id": "1f71b463-a782-4306-8c89-b113fd7225b7"
   },
   "source": [
    "# Safety"
   ]
  },
  {
   "cell_type": "code",
   "execution_count": 622,
   "id": "176e5946",
   "metadata": {
    "cellId": "1jel9zsrn54bqis0jeu59p"
   },
   "outputs": [
    {
     "name": "stdout",
     "output_type": "stream",
     "text": [
      "действие [0.012651188655637425, 0.009769094138543518, 0.00819672131147541, 0.08130081300813008, 0.006709158000670915]\n",
      "случай [0.009036563325455304, 0.008703374777975134, 0.00546448087431694, 0.056910569105691054, 0.010063737001006373]\n",
      "данные [0.007646322813846795, 0.008703374777975134, 0.0, 0.09349593495934959, 0.0038577658503857765]\n",
      "мошенник [0.004170721534825525, 0.002486678507992895, 0.0, 0.11788617886178862, 0.0021804763502180475]\n",
      "безопасность [0.004170721534825525, 0.003019538188277087, 0.0, 0.12195121951219512, 0.0001677289500167729]\n"
     ]
    }
   ],
   "source": [
    "# Safety\n",
    "\n",
    "for i, j in category_freq_dict_sorted.items():\n",
    "    c = 5\n",
    "    con = 0.01\n",
    "    ind = 3\n",
    "    if j[ind] / max(j[1], con) >= c and j[ind] / max(j[0], con) >= c and j[ind] / max(j[2], con) >= c and j[ind] / max(j[4], con) >= c:\n",
    "        print(i, j)"
   ]
  },
  {
   "cell_type": "markdown",
   "id": "3d8478db",
   "metadata": {
    "cellId": "la84rd4qx9nr18cqyfk6bg",
    "execution_id": "d3cd2464-0f23-4553-b050-2582b5d344b3"
   },
   "source": [
    "# Quality"
   ]
  },
  {
   "cell_type": "code",
   "execution_count": 775,
   "id": "e8e92f77",
   "metadata": {
    "cellId": "kra9s8cglptrr2f006mr7"
   },
   "outputs": [
    {
     "name": "stdout",
     "output_type": "stream",
     "text": [
      "функция [0.0006951202558042541, 0.00497335701598579, 0.0, 0.0, 0.0011741026501174102]\n",
      "подводить [0.0009731683581259558, 0.004262877442273535, 0.0, 0.0, 0.0006709158000670916]\n",
      "бегать [0.0005560962046434033, 0.003552397868561279, 0.0, 0.0, 0.0010063737001006373]\n",
      "вход [0.0009731683581259558, 0.003552397868561279, 0.0, 0.0, 0.0005031868500503186]\n",
      "интернетбанкинг [0.0004170721534825525, 0.004440497335701598, 0.0, 0.0, 0.0001677289500167729]\n",
      "интерфейс [0.0004170721534825525, 0.003907637655417406, 0.0, 0.0, 0.0001677289500167729]\n"
     ]
    }
   ],
   "source": [
    "# Quality\n",
    "\n",
    "for i, j in category_freq_dict_sorted.items():\n",
    "    c = 3.5\n",
    "    con = 0.001\n",
    "    ind = 1\n",
    "    if j[ind] / max(j[3], con) >= c and j[ind] / max(j[0], con) >= c and j[ind] / max(j[2], con) >= c and j[ind] / max(j[4], con) >= c:\n",
    "        print(i, j)"
   ]
  },
  {
   "cell_type": "code",
   "execution_count": 633,
   "id": "78e4e890",
   "metadata": {
    "cellId": "84rr61fpdrcc8cdurehrs6"
   },
   "outputs": [
    {
     "name": "stdout",
     "output_type": "stream",
     "text": [
      "суток [0.0, 0.0, 0.0, 0.0, 0.0013418316001341832]\n",
      "корректировка [0.0, 0.0, 0.0, 0.0, 0.0011741026501174102]\n",
      "весна [0.0, 0.0, 0.0, 0.0, 0.0011741026501174102]\n",
      "premier [0.0, 0.0, 0.0, 0.0, 0.0010063737001006373]\n",
      "оченьочень [0.0, 0.0, 0.0, 0.0, 0.0010063737001006373]\n",
      "портфель [0.0, 0.0, 0.0, 0.0, 0.0010063737001006373]\n",
      "edition [0.0, 0.0, 0.0, 0.0, 0.0010063737001006373]\n",
      "opencard [0.0, 0.0, 0.0, 0.0, 0.0010063737001006373]\n",
      "президент [0.0, 0.0, 0.0, 0.0, 0.0010063737001006373]\n",
      "владислав [0.0, 0.0, 0.0, 0.0, 0.0010063737001006373]\n"
     ]
    }
   ],
   "source": [
    "# ?\n",
    "\n",
    "for i, j in category_freq_dict_sorted.items():\n",
    "    c = 10\n",
    "    con = 0.0001\n",
    "    ind = 4\n",
    "    if j[ind] / max(j[3], con) >= c and j[ind] / max(j[0], con) >= c and j[ind] / max(j[2], con) >= c and j[ind] / max(j[1], con) >= c:\n",
    "        print(i, j)"
   ]
  },
  {
   "cell_type": "markdown",
   "id": "baa5fa3b",
   "metadata": {
    "cellId": "s1m37cpzwzhp3ogc42167",
    "execution_id": "1cd8d3bd-6088-44d0-8c3f-1af0724ceaa1"
   },
   "source": [
    "# WordCloud"
   ]
  },
  {
   "cell_type": "code",
   "execution_count": 642,
   "id": "f5877801",
   "metadata": {
    "cellId": "42ilet7qp8uqq9hswkxlvh"
   },
   "outputs": [],
   "source": [
    "df = pd.read_csv('/home/jupyter/mnt/s3/newbacketttt/train_new.csv')"
   ]
  },
  {
   "cell_type": "code",
   "execution_count": 700,
   "id": "eabf94ef",
   "metadata": {
    "cellId": "a6ks4ow9l6qnih8mc5acl"
   },
   "outputs": [
    {
     "data": {
      "text/plain": [
       "0                    [при, получать, качественный, услуга]\n",
       "1                   [не, видеть, хотя, поставлять, сервис]\n",
       "2               [вот, мой, любимый, банк, мкб, обманывать]\n",
       "3                      [отвратительный, отношение, клиент]\n",
       "4        [всегда, любой, время, день, ночь, помогать, о...\n",
       "                               ...                        \n",
       "19356    [никогда, кой, случай, открывать, счет, недост...\n",
       "19357    [ти, откровенно, забивать, качество, развивать...\n",
       "19358    [я, считать, это, прорыв, лидерство, финансовы...\n",
       "19359    [писать, мужчина, очень, доходчиво, финансовый...\n",
       "19360    [данный, ситуация, сильно, выбивать, колея, вм...\n",
       "Name: sentence, Length: 19361, dtype: object"
      ]
     },
     "execution_count": 700,
     "metadata": {},
     "output_type": "execute_result"
    }
   ],
   "source": [
    "df_tokenized"
   ]
  },
  {
   "cell_type": "code",
   "execution_count": 762,
   "id": "9b144523",
   "metadata": {
    "cellId": "eoiuk0vz7phd6nfmwwd26"
   },
   "outputs": [],
   "source": [
    "all_text = \"\"\n",
    "for i in df_tokenized:\n",
    "    all_text += \" \".join(i) + \" \""
   ]
  },
  {
   "cell_type": "code",
   "execution_count": 763,
   "id": "506fe810",
   "metadata": {
    "cellId": "xskud6dxxz012jch5sjsmh"
   },
   "outputs": [
    {
     "data": {
      "text/plain": [
       "'при получать качественный услуга не видеть хотя поставлять сервис вот мой любимый банк мкб обманывать отвратительный отношение клиент всегда любой время день ночь помогать отвечать решать весь время согласовываться все делаться быстро абсолютный бездействие нежелание банк работать клиент первый операция внесение руб успешно выполнять ну почему должный звонить платить деньги музыка плохой качество который нужный получать карта кредит карман два бесплатный карта банк карман довольный хотеть выражать огромный благодарность екатерина ввой кредитный специалист альфабанка понимание высокопрофессиональный подход оперативный работа сфера кредитование юридический лицо пользоваться карта граница включая слип безотказно впечатление хороший каждый год становиться да целое довольный банк удивлять хамить телефон поклон ситибанка доставать реклама поклон ситибанка обманывать условие поклон ситибанка прочий с газпромбанк связываться столько нерв отнимать деньги мелочь думать шумок замечать я достаточн'"
      ]
     },
     "execution_count": 763,
     "metadata": {},
     "output_type": "execute_result"
    }
   ],
   "source": [
    "all_text[:1000]"
   ]
  },
  {
   "cell_type": "code",
   "execution_count": 635,
   "id": "f8f86c77",
   "metadata": {
    "cellId": "umvdoaysp3c5igld0d6br8"
   },
   "outputs": [
    {
     "name": "stdout",
     "output_type": "stream",
     "text": [
      "Defaulting to user installation because normal site-packages is not writeable\n",
      "Collecting wordcloud\n",
      "  Downloading wordcloud-1.8.2.2-cp38-cp38-manylinux_2_17_x86_64.manylinux2014_x86_64.whl (458 kB)\n",
      "     |████████████████████████████████| 458 kB 1.7 MB/s            \n",
      "\u001b[?25hRequirement already satisfied: numpy>=1.6.1 in /usr/local/lib/python3.8/dist-packages (from wordcloud) (1.19.2)\n",
      "Requirement already satisfied: pillow in /kernel/lib/python3.8/site-packages (from wordcloud) (9.4.0)\n",
      "Requirement already satisfied: matplotlib in /usr/local/lib/python3.8/dist-packages (from wordcloud) (3.1.3)\n",
      "Requirement already satisfied: python-dateutil>=2.1 in /kernel/lib/python3.8/site-packages (from matplotlib->wordcloud) (2.8.2)\n",
      "Requirement already satisfied: cycler>=0.10 in /kernel/lib/python3.8/site-packages (from matplotlib->wordcloud) (0.11.0)\n",
      "Requirement already satisfied: kiwisolver>=1.0.1 in /kernel/lib/python3.8/site-packages (from matplotlib->wordcloud) (1.4.4)\n",
      "Requirement already satisfied: pyparsing!=2.0.4,!=2.1.2,!=2.1.6,>=2.0.1 in /kernel/lib/python3.8/site-packages (from matplotlib->wordcloud) (2.4.7)\n",
      "Requirement already satisfied: six>=1.5 in /kernel/lib/python3.8/site-packages (from python-dateutil>=2.1->matplotlib->wordcloud) (1.16.0)\n",
      "Installing collected packages: wordcloud\n",
      "\u001b[33m  WARNING: The script wordcloud_cli is installed in '/home/jupyter/.local/bin' which is not on PATH.\n",
      "  Consider adding this directory to PATH or, if you prefer to suppress this warning, use --no-warn-script-location.\u001b[0m\n",
      "Successfully installed wordcloud-1.8.2.2\n",
      "\u001b[33mWARNING: You are using pip version 21.3.1; however, version 23.0.1 is available.\n",
      "You should consider upgrading via the '/usr/local/bin/python3 -m pip install --upgrade pip' command.\u001b[0m\n"
     ]
    }
   ],
   "source": [
    "%pip install wordcloud"
   ]
  },
  {
   "cell_type": "code",
   "execution_count": 736,
   "id": "b8bc9f43",
   "metadata": {
    "cellId": "x06qgqsv4hrxdm8t04eln"
   },
   "outputs": [],
   "source": [
    "from wordcloud import WordCloud"
   ]
  },
  {
   "cell_type": "code",
   "execution_count": 767,
   "id": "a622a609",
   "metadata": {
    "cellId": "1y5yglo5kj46aqutxtzx0e"
   },
   "outputs": [
    {
     "data": {
      "text/plain": [
       "(-0.5, 1399.5, 999.5, -0.5)"
      ]
     },
     "execution_count": 767,
     "metadata": {},
     "output_type": "execute_result"
    },
    {
     "data": {
      "image/png": "[encoded data removed]",
      "text/plain": [
       "<Figure size 720x720 with 1 Axes>"
      ]
     },
     "metadata": {
      "needs_background": "light"
     },
     "output_type": "display_data"
    }
   ],
   "source": [
    "cloud = WordCloud(width=1400,height=1000, max_words=50).generate(all_text)\n",
    "plt.figure(figsize=(10, 10))\n",
    "plt.imshow(cloud)\n",
    "plt.axis('off')"
   ]
  },
  {
   "cell_type": "code",
   "execution_count": 741,
   "id": "f2a57160",
   "metadata": {
    "cellId": "cdsazx8kx9fffubyq7ar3"
   },
   "outputs": [],
   "source": [
    "from os import path"
   ]
  },
  {
   "cell_type": "code",
   "execution_count": 768,
   "id": "d4bf15e9",
   "metadata": {
    "cellId": "w5gk2vidrxcbhw7w5ae3cv"
   },
   "outputs": [
    {
     "data": {
      "text/plain": [
       "<wordcloud.wordcloud.WordCloud at 0x7f707b9d0dc0>"
      ]
     },
     "execution_count": 768,
     "metadata": {},
     "output_type": "execute_result"
    }
   ],
   "source": [
    "d = path.dirname(__file__) if \"__file__\" in locals() else os.getcwd()\n",
    "cloud.to_file(path.join(d, \"allwords.png\"))"
   ]
  },
  {
   "cell_type": "code",
   "execution_count": null,
   "id": "dfe56c3e",
   "metadata": {
    "cellId": "ha4xlfoftwkzavox93b0oq"
   },
   "outputs": [],
   "source": []
  }
 ],
 "metadata": {
  "language_info": {
   "codemirror_mode": {
    "name": "ipython",
    "version": 3
   },
   "file_extension": ".py",
   "mimetype": "text/x-python",
   "name": "python",
   "nbconvert_exporter": "python",
   "pygments_lexer": "ipython3",
   "version": "3.7.7"
  },
  "notebookId": "6a78ba5f-827a-4156-b082-23e0b0c64ce9",
  "notebookPath": "from_egor.ipynb"
 },
 "nbformat": 4,
 "nbformat_minor": 5
}
