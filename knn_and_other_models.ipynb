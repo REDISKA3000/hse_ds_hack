{
 "cells": [
  {
   "cell_type": "code",
   "execution_count": 161,
   "id": "a5c2f1c6",
   "metadata": {
    "cellId": "nv4xth9149d563rsjlux"
   },
   "outputs": [
    {
     "name": "stdout",
     "output_type": "stream",
     "text": [
      "Defaulting to user installation because normal site-packages is not writeable\n",
      "Requirement already satisfied: numpy in /usr/local/lib/python3.8/dist-packages (1.19.2)\n",
      "\u001b[33mWARNING: You are using pip version 21.3.1; however, version 23.0.1 is available.\n",
      "You should consider upgrading via the '/usr/local/bin/python3 -m pip install --upgrade pip' command.\u001b[0m\n",
      "Defaulting to user installation because normal site-packages is not writeable\n",
      "Requirement already satisfied: sklearn in /home/jupyter/.local/lib/python3.8/site-packages (0.0)\n",
      "Requirement already satisfied: scikit-learn in /usr/local/lib/python3.8/dist-packages (from sklearn) (0.22.1)\n",
      "Requirement already satisfied: scipy>=0.17.0 in /usr/local/lib/python3.8/dist-packages (from scikit-learn->sklearn) (1.4.1)\n",
      "Requirement already satisfied: numpy>=1.11.0 in /usr/local/lib/python3.8/dist-packages (from scikit-learn->sklearn) (1.19.2)\n",
      "Requirement already satisfied: joblib>=0.11 in /usr/local/lib/python3.8/dist-packages (from scikit-learn->sklearn) (1.1.0)\n",
      "\u001b[33mWARNING: You are using pip version 21.3.1; however, version 23.0.1 is available.\n",
      "You should consider upgrading via the '/usr/local/bin/python3 -m pip install --upgrade pip' command.\u001b[0m\n"
     ]
    }
   ],
   "source": [
    "%pip install numpy\n",
    "%pip install sklearn"
   ]
  },
  {
   "cell_type": "code",
   "execution_count": 162,
   "id": "5fb5e755",
   "metadata": {
    "cellId": "qv6c3hvyysumlgdlmlp4"
   },
   "outputs": [],
   "source": [
    "import numpy as np\n",
    "import pandas as pd\n",
    "from sklearn.datasets import fetch_20newsgroups\n",
    "from sklearn.feature_extraction.text import CountVectorizer\n",
    "from sklearn.feature_extraction.text import TfidfTransformer\n",
    "from sklearn.neighbors import KNeighborsClassifier\n",
    "from sklearn.pipeline import Pipeline\n",
    "from sklearn.model_selection import train_test_split"
   ]
  },
  {
   "cell_type": "code",
   "execution_count": 105,
   "id": "15415dc8",
   "metadata": {
    "cellId": "71ro0lw6zi7rn4ynwekp3"
   },
   "outputs": [],
   "source": [
    "data = pd.read_csv('/home/jupyter/mnt/s3/newbacketttt/train_new.csv', encoding = 'utf-8')\n",
    "\n",
    "train_X = data['sentence'].values\n",
    "train_y = data['sentiment'].values\n",
    "\n",
    "X_train, X_test, y_train, y_test = train_test_split(train_X, train_y, test_size=0.1, random_state=42)"
   ]
  },
  {
   "cell_type": "code",
   "execution_count": 106,
   "id": "708cf428",
   "metadata": {
    "cellId": "v4j4pf862k8nr782hsjorb"
   },
   "outputs": [],
   "source": [
    "count_vect = CountVectorizer()\n",
    "X_train_counts = count_vect.fit_transform(X_train)\n",
    "\n",
    "tfidf_transformer = TfidfTransformer()\n",
    "X_train_tfidf = tfidf_transformer.fit_transform(X_train_counts)"
   ]
  },
  {
   "cell_type": "code",
   "execution_count": 107,
   "id": "2c27b555",
   "metadata": {
    "cellId": "d0xiq9pwjqkyq5y646zyu"
   },
   "outputs": [],
   "source": [
    "knn = KNeighborsClassifier(n_neighbors=7)\n",
    "\n",
    "clf = knn.fit(X_train_tfidf, y_train)\n",
    "\n",
    "X_new_counts = count_vect.transform(X_test)\n",
    "\n",
    "X_new_tfidf = tfidf_transformer.transform(X_new_counts)"
   ]
  },
  {
   "cell_type": "code",
   "execution_count": 108,
   "id": "83621688",
   "metadata": {
    "cellId": "svye2jq3acda860twosbsh"
   },
   "outputs": [],
   "source": [
    "predicted = clf.predict_proba(X_new_tfidf)"
   ]
  },
  {
   "cell_type": "code",
   "execution_count": 109,
   "id": "56559065",
   "metadata": {
    "cellId": "qn1l5nlf6t7quow71o8vr"
   },
   "outputs": [],
   "source": [
    "from sklearn.metrics import roc_auc_score"
   ]
  },
  {
   "cell_type": "code",
   "execution_count": 100,
   "id": "9f9c3b4b",
   "metadata": {
    "cellId": "k0h2mre6t1sfeq3fye2k44"
   },
   "outputs": [],
   "source": [
    "test_roc_auc = roc_auc_score(y_test, predicted, multi_class='ovr', labels=['+', '?', '−'])"
   ]
  },
  {
   "cell_type": "code",
   "execution_count": 101,
   "id": "d0ccd407",
   "metadata": {
    "cellId": "ts7aphdyu2jc73ppsdxzs"
   },
   "outputs": [
    {
     "data": {
      "text/plain": [
       "0.8948662698893557"
      ]
     },
     "execution_count": 101,
     "metadata": {},
     "output_type": "execute_result"
    }
   ],
   "source": [
    "test_roc_auc"
   ]
  },
  {
   "cell_type": "code",
   "execution_count": 110,
   "id": "2a94fc0f",
   "metadata": {
    "cellId": "9q9cqdm4hc5las1upzoph"
   },
   "outputs": [],
   "source": [
    "test_roc_auc = roc_auc_score(y_test, predicted, multi_class='ovr', labels=[0, 1, 2])"
   ]
  },
  {
   "cell_type": "code",
   "execution_count": 111,
   "id": "434a0542",
   "metadata": {
    "cellId": "ejf1w05r3gq6x2n4o22qeh"
   },
   "outputs": [
    {
     "data": {
      "text/plain": [
       "0.8829015873309239"
      ]
     },
     "execution_count": 111,
     "metadata": {},
     "output_type": "execute_result"
    }
   ],
   "source": [
    "test_roc_auc"
   ]
  },
  {
   "cell_type": "markdown",
   "id": "d33b7f3d",
   "metadata": {
    "cellId": "f8kunchfsy4iht1khdxwh",
    "execution_id": "8e914231-f6d3-4a7f-ae02-29a9cba88b93"
   },
   "source": [
    "# Second version"
   ]
  },
  {
   "cell_type": "code",
   "execution_count": null,
   "id": "8deeb1ec",
   "metadata": {
    "cellId": "wtei95umefel52k29426s8"
   },
   "outputs": [],
   "source": [
    "vectorizer = TfidfVectorizer()\n",
    "X = vectorizer.fit_transform(X_train)"
   ]
  },
  {
   "cell_type": "code",
   "execution_count": null,
   "id": "99b0a0d6",
   "metadata": {
    "cellId": "ryvjhjngu4fcxhdsaxgrel"
   },
   "outputs": [],
   "source": []
  },
  {
   "cell_type": "markdown",
   "id": "a9c0516f",
   "metadata": {
    "cellId": "0vq78uwlzjwt88wxneg5ij",
    "execution_id": "9f642fdb-3dbb-4180-9be8-8c7b30eec48b"
   },
   "source": [
    "# Catboost"
   ]
  },
  {
   "cell_type": "code",
   "execution_count": 168,
   "id": "6cd09d7e",
   "metadata": {
    "cellId": "ccaeon2dx36yjj4dk4p92"
   },
   "outputs": [
    {
     "name": "stdout",
     "output_type": "stream",
     "text": [
      "Defaulting to user installation because normal site-packages is not writeable\n",
      "Requirement already satisfied: catboost in /usr/local/lib/python3.8/dist-packages (0.24)\n",
      "Requirement already satisfied: plotly in /usr/local/lib/python3.8/dist-packages (from catboost) (4.9.0)\n",
      "Requirement already satisfied: graphviz in /usr/local/lib/python3.8/dist-packages (from catboost) (0.19.1)\n",
      "Requirement already satisfied: numpy>=1.16.0 in /usr/local/lib/python3.8/dist-packages (from catboost) (1.19.2)\n",
      "Requirement already satisfied: scipy in /usr/local/lib/python3.8/dist-packages (from catboost) (1.4.1)\n",
      "Requirement already satisfied: six in /kernel/lib/python3.8/site-packages (from catboost) (1.16.0)\n",
      "Requirement already satisfied: matplotlib in /usr/local/lib/python3.8/dist-packages (from catboost) (3.1.3)\n",
      "Requirement already satisfied: pandas>=0.24.0 in /usr/local/lib/python3.8/dist-packages (from catboost) (0.25.3)\n",
      "Requirement already satisfied: python-dateutil>=2.6.1 in /kernel/lib/python3.8/site-packages (from pandas>=0.24.0->catboost) (2.8.2)\n",
      "Requirement already satisfied: pytz>=2017.2 in /usr/local/lib/python3.8/dist-packages (from pandas>=0.24.0->catboost) (2021.3)\n",
      "Requirement already satisfied: pyparsing!=2.0.4,!=2.1.2,!=2.1.6,>=2.0.1 in /kernel/lib/python3.8/site-packages (from matplotlib->catboost) (2.4.7)\n",
      "Requirement already satisfied: kiwisolver>=1.0.1 in /kernel/lib/python3.8/site-packages (from matplotlib->catboost) (1.4.4)\n",
      "Requirement already satisfied: cycler>=0.10 in /kernel/lib/python3.8/site-packages (from matplotlib->catboost) (0.11.0)\n",
      "Requirement already satisfied: retrying>=1.3.3 in /usr/local/lib/python3.8/dist-packages (from plotly->catboost) (1.3.3)\n",
      "\u001b[33mWARNING: You are using pip version 21.3.1; however, version 23.0.1 is available.\n",
      "You should consider upgrading via the '/usr/local/bin/python3 -m pip install --upgrade pip' command.\u001b[0m\n"
     ]
    }
   ],
   "source": [
    "%pip install catboost"
   ]
  },
  {
   "cell_type": "code",
   "execution_count": 169,
   "id": "95aaa140",
   "metadata": {
    "cellId": "e3hxd5zjoxd3nou4m0rh01"
   },
   "outputs": [],
   "source": [
    "from catboost import CatBoostClassifier\n",
    "from catboost import Pool"
   ]
  },
  {
   "cell_type": "code",
   "execution_count": 170,
   "id": "cbe56425",
   "metadata": {
    "cellId": "35q1f51m6hp9rwdjsd9xon"
   },
   "outputs": [],
   "source": [
    "data = pd.read_csv('/home/jupyter/mnt/s3/newbacketttt/train_new.csv', encoding = 'utf-8')\n",
    "\n",
    "train_X = data[['sentence']]\n",
    "train_y = data['sentiment']\n",
    "\n",
    "X_train, X_test, y_train, y_test = train_test_split(train_X, train_y, test_size=0.1, random_state=42)"
   ]
  },
  {
   "cell_type": "code",
   "execution_count": 171,
   "id": "a6c1723e",
   "metadata": {
    "cellId": "op02jbighetjayfw9prq"
   },
   "outputs": [
    {
     "name": "stdout",
     "output_type": "stream",
     "text": [
      "0:\ttest: 0.9231181\tbest: 0.9231181 (0)\ttotal: 291ms\tremaining: 1m 55s\n",
      "50:\ttest: 0.9398255\tbest: 0.9401145 (45)\ttotal: 11.3s\tremaining: 1m 17s\n",
      "100:\ttest: 0.9418158\tbest: 0.9420081 (95)\ttotal: 22.5s\tremaining: 1m 6s\n",
      "150:\ttest: 0.9419105\tbest: 0.9420081 (95)\ttotal: 34s\tremaining: 56s\n",
      "200:\ttest: 0.9421202\tbest: 0.9421334 (193)\ttotal: 45.2s\tremaining: 44.7s\n",
      "250:\ttest: 0.9426912\tbest: 0.9426912 (250)\ttotal: 56.2s\tremaining: 33.4s\n",
      "300:\ttest: 0.9429296\tbest: 0.9430687 (277)\ttotal: 1m 8s\tremaining: 22.4s\n",
      "350:\ttest: 0.9432875\tbest: 0.9433343 (345)\ttotal: 1m 19s\tremaining: 11s\n",
      "399:\ttest: 0.9436261\tbest: 0.9436466 (398)\ttotal: 1m 29s\tremaining: 0us\n",
      "\n",
      "bestTest = 0.9436465709\n",
      "bestIteration = 398\n",
      "\n",
      "Shrink model to first 399 iterations.\n"
     ]
    },
    {
     "data": {
      "text/plain": [
       "<catboost.core.CatBoostClassifier at 0x7ff51fbfdf40>"
      ]
     },
     "execution_count": 171,
     "metadata": {},
     "output_type": "execute_result"
    }
   ],
   "source": [
    "train_pool = Pool(\n",
    "    X_train, \n",
    "    y_train, \n",
    "    text_features=['sentence'], \n",
    ")\n",
    "valid_pool = Pool(\n",
    "    X_test, \n",
    "    y_test,\n",
    "    text_features=['sentence'], \n",
    ")\n",
    "\n",
    "catboost_params = {\n",
    "    'iterations': 400,\n",
    "    'learning_rate': 0.01,\n",
    "    'eval_metric': 'AUC',\n",
    "    'task_type': 'CPU',\n",
    "    'early_stopping_rounds': 100,\n",
    "    'use_best_model': True,\n",
    "    'verbose': 50\n",
    "}\n",
    "# + - 0\n",
    "# -- - 2  \n",
    "# ? - 1\n",
    "clas_weight = [0.3, 0.15, 0.52]\n",
    "model = CatBoostClassifier(**catboost_params,class_weights=clas_weight)\n",
    "model.fit(train_pool, eval_set=valid_pool)"
   ]
  },
  {
   "cell_type": "code",
   "execution_count": 172,
   "id": "326df543",
   "metadata": {
    "cellId": "ue6zjhv8rgsils1g68xyq"
   },
   "outputs": [],
   "source": [
    "probas = model.predict_proba(X_test)"
   ]
  },
  {
   "cell_type": "code",
   "execution_count": 173,
   "id": "25526009",
   "metadata": {
    "cellId": "0tx4k1ftqfcloyghti0uq"
   },
   "outputs": [
    {
     "data": {
      "text/plain": [
       "array([[0.01749256, 0.02164604, 0.96086141],\n",
       "       [0.01577648, 0.01952048, 0.96470304],\n",
       "       [0.84729424, 0.07274904, 0.07995672],\n",
       "       ...,\n",
       "       [0.01751624, 0.02098309, 0.96150066],\n",
       "       [0.01769221, 0.02189143, 0.96041636],\n",
       "       [0.92328089, 0.03363226, 0.04308686]])"
      ]
     },
     "execution_count": 173,
     "metadata": {},
     "output_type": "execute_result"
    }
   ],
   "source": [
    "probas"
   ]
  },
  {
   "cell_type": "code",
   "execution_count": 164,
   "id": "1d870a43",
   "metadata": {
    "cellId": "h84tkk3t0t82faoq7eb7e2"
   },
   "outputs": [
    {
     "data": {
      "text/plain": [
       "0.9279262063428805"
      ]
     },
     "execution_count": 164,
     "metadata": {},
     "output_type": "execute_result"
    }
   ],
   "source": [
    "test_roc_auc = roc_auc_score(y_test, probas, multi_class='ovr', labels=[0, 1, 2])\n",
    "test_roc_auc"
   ]
  },
  {
   "cell_type": "code",
   "execution_count": 174,
   "id": "a4e37451",
   "metadata": {
    "cellId": "tv2vltxsu6gpk98svipue"
   },
   "outputs": [
    {
     "name": "stdout",
     "output_type": "stream",
     "text": [
      "Defaulting to user installation because normal site-packages is not writeable\n",
      "Requirement already satisfied: pymystem3 in /home/jupyter/.local/lib/python3.8/site-packages (0.2.0)\n",
      "Requirement already satisfied: requests in /kernel/lib/python3.8/site-packages (from pymystem3) (2.28.2)\n",
      "Requirement already satisfied: charset-normalizer<4,>=2 in /kernel/lib/python3.8/site-packages (from requests->pymystem3) (3.1.0)\n",
      "Requirement already satisfied: certifi>=2017.4.17 in /kernel/lib/python3.8/site-packages (from requests->pymystem3) (2022.12.7)\n",
      "Requirement already satisfied: idna<4,>=2.5 in /kernel/lib/python3.8/site-packages (from requests->pymystem3) (3.4)\n",
      "Requirement already satisfied: urllib3<1.27,>=1.21.1 in /kernel/lib/python3.8/site-packages (from requests->pymystem3) (1.26.15)\n",
      "\u001b[33mWARNING: You are using pip version 21.3.1; however, version 23.0.1 is available.\n",
      "You should consider upgrading via the '/usr/local/bin/python3 -m pip install --upgrade pip' command.\u001b[0m\n"
     ]
    }
   ],
   "source": [
    "%pip install pymystem3"
   ]
  },
  {
   "cell_type": "code",
   "execution_count": 175,
   "id": "eca4c189",
   "metadata": {
    "cellId": "m8vol3ex9rc1kl7gdfy"
   },
   "outputs": [],
   "source": [
    "import torch\n",
    "import nltk\n",
    "import matplotlib.pyplot as plt\n",
    "import seaborn as sns\n",
    "import pandas as pd\n",
    "from tqdm import tqdm"
   ]
  },
  {
   "cell_type": "code",
   "execution_count": 176,
   "id": "38e6a1e9",
   "metadata": {
    "cellId": "c6jhpm8t3jfmdzhdjkg4b"
   },
   "outputs": [
    {
     "name": "stdout",
     "output_type": "stream",
     "text": [
      "Defaulting to user installation because normal site-packages is not writeable\n",
      "Requirement already satisfied: natasha in /home/jupyter/.local/lib/python3.8/site-packages (1.5.0)\n",
      "Requirement already satisfied: slovnet>=0.6.0 in /home/jupyter/.local/lib/python3.8/site-packages (from natasha) (0.6.0)\n",
      "Requirement already satisfied: pymorphy2 in /usr/local/lib/python3.8/dist-packages (from natasha) (0.9.1)\n",
      "Requirement already satisfied: razdel>=0.5.0 in /home/jupyter/.local/lib/python3.8/site-packages (from natasha) (0.5.0)\n",
      "Requirement already satisfied: ipymarkup>=0.8.0 in /home/jupyter/.local/lib/python3.8/site-packages (from natasha) (0.9.0)\n",
      "Requirement already satisfied: yargy>=0.14.0 in /home/jupyter/.local/lib/python3.8/site-packages (from natasha) (0.15.1)\n",
      "Requirement already satisfied: navec>=0.9.0 in /home/jupyter/.local/lib/python3.8/site-packages (from natasha) (0.10.0)\n",
      "Requirement already satisfied: intervaltree>=3 in /home/jupyter/.local/lib/python3.8/site-packages (from ipymarkup>=0.8.0->natasha) (3.1.0)\n",
      "Requirement already satisfied: numpy in /usr/local/lib/python3.8/dist-packages (from navec>=0.9.0->natasha) (1.19.2)\n",
      "Requirement already satisfied: dawg-python>=0.7.1 in /usr/local/lib/python3.8/dist-packages (from pymorphy2->natasha) (0.7.2)\n",
      "Requirement already satisfied: docopt>=0.6 in /usr/local/lib/python3.8/dist-packages (from pymorphy2->natasha) (0.6.2)\n",
      "Requirement already satisfied: pymorphy2-dicts-ru<3.0,>=2.4 in /usr/local/lib/python3.8/dist-packages (from pymorphy2->natasha) (2.4.417127.4579844)\n",
      "Requirement already satisfied: sortedcontainers<3.0,>=2.0 in /home/jupyter/.local/lib/python3.8/site-packages (from intervaltree>=3->ipymarkup>=0.8.0->natasha) (2.4.0)\n",
      "\u001b[33mWARNING: You are using pip version 21.3.1; however, version 23.0.1 is available.\n",
      "You should consider upgrading via the '/usr/local/bin/python3 -m pip install --upgrade pip' command.\u001b[0m\n"
     ]
    }
   ],
   "source": [
    "%pip install natasha"
   ]
  },
  {
   "cell_type": "code",
   "execution_count": 177,
   "id": "41d3b8b2",
   "metadata": {
    "cellId": "wgbeouya5rgthl0mbns29h"
   },
   "outputs": [
    {
     "name": "stderr",
     "output_type": "stream",
     "text": [
      "[nltk_data] Downloading package stopwords to\n",
      "[nltk_data]     /home/jupyter/nltk_data...\n",
      "[nltk_data]   Package stopwords is already up-to-date!\n",
      "[nltk_data] Downloading package wordnet to /home/jupyter/nltk_data...\n",
      "[nltk_data]   Package wordnet is already up-to-date!\n"
     ]
    }
   ],
   "source": [
    "import string\n",
    "import pandas as pd\n",
    "import torch\n",
    "import natasha\n",
    "from razdel import tokenize, sentenize\n",
    "import nltk\n",
    "from nltk.stem import WordNetLemmatizer\n",
    "nltk.download('stopwords')\n",
    "nltk.download('wordnet')\n",
    "from nltk.corpus import stopwords\n",
    "from string import digits\n",
    "from pymystem3 import Mystem\n",
    "mystem = Mystem()"
   ]
  },
  {
   "cell_type": "code",
   "execution_count": 178,
   "id": "3b736748",
   "metadata": {
    "cellId": "vjsfqp6v6h6th1nd8ezzg"
   },
   "outputs": [],
   "source": [
    "ds = pd.read_csv('/home/jupyter/mnt/s3/newbacketttt/1sentencenewtest.csv')"
   ]
  },
  {
   "cell_type": "code",
   "execution_count": 180,
   "id": "ebbaca8b",
   "metadata": {
    "cellId": "2nlveyv0rg6mwu2jigoca8"
   },
   "outputs": [],
   "source": [
    "df = ds['0'].copy()"
   ]
  },
  {
   "cell_type": "code",
   "execution_count": 181,
   "id": "9efb5b03",
   "metadata": {
    "cellId": "0ut5okpmi75qs5b9oeic52"
   },
   "outputs": [
    {
     "data": {
      "text/plain": [
       "0      15.03.2022 обратился на горячую линию для закр...\n",
       "1      Уже который год в ТКБ не решается \"глобальная ...\n",
       "2                                            Добрый день\n",
       "3      Добрый день Сегодня, зайдя в свой личный кабин...\n",
       "4      Обслуживаюсь в Тинькофф пару лет, возникла жес...\n",
       "                             ...                        \n",
       "944    Отвратительный сервис и отношение к клиентам! ...\n",
       "945    28.04.2022 обратилась в банк о возможности пер...\n",
       "946    В начале 2021 года была акция по выплате 8% ке...\n",
       "947     Бездействие банка и некомпетентность сотрудников\n",
       "948    Потрачено 5 часов чтобы произвести оплату за о...\n",
       "Name: 0, Length: 949, dtype: object"
      ]
     },
     "execution_count": 181,
     "metadata": {},
     "output_type": "execute_result"
    }
   ],
   "source": []
  },
  {
   "cell_type": "code",
   "execution_count": null,
   "id": "a3d3a290",
   "metadata": {
    "cellId": "ikwrtncn3be49zt0qcbzlj"
   },
   "outputs": [],
   "source": []
  }
 ],
 "metadata": {
  "language_info": {
   "codemirror_mode": {
    "name": "ipython",
    "version": 3
   },
   "file_extension": ".py",
   "mimetype": "text/x-python",
   "name": "python",
   "nbconvert_exporter": "python",
   "pygments_lexer": "ipython3",
   "version": "3.7.7"
  },
  "notebookId": "9ef45284-d3de-4d20-9c2b-003a6f89fa0e",
  "notebookPath": "knn.ipynb"
 },
 "nbformat": 4,
 "nbformat_minor": 5
}
